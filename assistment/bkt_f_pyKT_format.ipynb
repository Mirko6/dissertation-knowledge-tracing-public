{
 "cells": [
  {
   "cell_type": "code",
   "execution_count": 1,
   "metadata": {},
   "outputs": [],
   "source": [
    "from config import *\n",
    "import pandas as pd\n",
    "import numpy as np\n",
    "from main_package.bkt_pyKT import train_bkt, convert_df_strings_to_arrays, evaluate_bkt\n",
    "from main_package.utils import data_path_to_abs_path"
   ]
  },
  {
   "cell_type": "code",
   "execution_count": 5,
   "metadata": {},
   "outputs": [
    {
     "data": {
      "text/html": [
       "<div>\n",
       "<style scoped>\n",
       "    .dataframe tbody tr th:only-of-type {\n",
       "        vertical-align: middle;\n",
       "    }\n",
       "\n",
       "    .dataframe tbody tr th {\n",
       "        vertical-align: top;\n",
       "    }\n",
       "\n",
       "    .dataframe thead th {\n",
       "        text-align: right;\n",
       "    }\n",
       "</style>\n",
       "<table border=\"1\" class=\"dataframe\">\n",
       "  <thead>\n",
       "    <tr style=\"text-align: right;\">\n",
       "      <th></th>\n",
       "      <th>fold</th>\n",
       "      <th>uid</th>\n",
       "      <th>questions</th>\n",
       "      <th>concepts</th>\n",
       "      <th>responses</th>\n",
       "      <th>is_repeat</th>\n",
       "    </tr>\n",
       "  </thead>\n",
       "  <tbody>\n",
       "    <tr>\n",
       "      <th>0</th>\n",
       "      <td>0</td>\n",
       "      <td>3675</td>\n",
       "      <td>[11666, 8406, 11471, 10543, 7571, 15890, 8117,...</td>\n",
       "      <td>[62, 62, 62, 62, 62, 62, 62, 62, 62, 62, 62, 6...</td>\n",
       "      <td>[0, 0, 0, 1, 1, 1, 1, 1, 0, 0, 0, 1, 1, 0, 0, ...</td>\n",
       "      <td>[0, 0, 0, 0, 0, 0, 0, 0, 0, 0, 0, 0, 0, 0, 0, ...</td>\n",
       "    </tr>\n",
       "    <tr>\n",
       "      <th>1</th>\n",
       "      <td>0</td>\n",
       "      <td>3651</td>\n",
       "      <td>[2941, 11778, 1141, 1282, 3287, 3411, 840, 195...</td>\n",
       "      <td>[1, 1, 1, 1, 1, 1, 1, 1, 1]</td>\n",
       "      <td>[0, 0, 1, 1, 1, 1, 0, 0, 1]</td>\n",
       "      <td>[0, 0, 0, 0, 0, 0, 0, 0, 0]</td>\n",
       "    </tr>\n",
       "    <tr>\n",
       "      <th>2</th>\n",
       "      <td>0</td>\n",
       "      <td>1692</td>\n",
       "      <td>[10349, 11182, 7926, 7900, 7906, 7137, 10923]</td>\n",
       "      <td>[57, 57, 57, 57, 57, 57, 57]</td>\n",
       "      <td>[1, 0, 1, 1, 1, 1, 1]</td>\n",
       "      <td>[0, 0, 0, 0, 0, 0, 0]</td>\n",
       "    </tr>\n",
       "    <tr>\n",
       "      <th>3</th>\n",
       "      <td>0</td>\n",
       "      <td>3076</td>\n",
       "      <td>[2549, 830, 4313, 1826, 15138, 4687, 4632, 137...</td>\n",
       "      <td>[15, 15, 15, 15, 14, 14, 14, 14, 14, 14, 14]</td>\n",
       "      <td>[0, 1, 1, 0, 0, 1, 1, 0, 1, 0, 1]</td>\n",
       "      <td>[0, 0, 0, 0, 0, 0, 0, 0, 0, 0, 0]</td>\n",
       "    </tr>\n",
       "    <tr>\n",
       "      <th>4</th>\n",
       "      <td>0</td>\n",
       "      <td>1558</td>\n",
       "      <td>[7927, 7928, 10084, 10923, 15540, 15541, 15542...</td>\n",
       "      <td>[57, 57, 57, 57, 57, 57, 57, 57, 57, 57, 57, 5...</td>\n",
       "      <td>[0, 0, 1, 0, 0, 0, 0, 1, 1, 1, 1, 1, 1, 0]</td>\n",
       "      <td>[0, 0, 0, 0, 0, 0, 0, 0, 0, 0, 0, 0, 0, 0]</td>\n",
       "    </tr>\n",
       "  </tbody>\n",
       "</table>\n",
       "</div>"
      ],
      "text/plain": [
       "   fold   uid                                          questions  \\\n",
       "0     0  3675  [11666, 8406, 11471, 10543, 7571, 15890, 8117,...   \n",
       "1     0  3651  [2941, 11778, 1141, 1282, 3287, 3411, 840, 195...   \n",
       "2     0  1692      [10349, 11182, 7926, 7900, 7906, 7137, 10923]   \n",
       "3     0  3076  [2549, 830, 4313, 1826, 15138, 4687, 4632, 137...   \n",
       "4     0  1558  [7927, 7928, 10084, 10923, 15540, 15541, 15542...   \n",
       "\n",
       "                                            concepts  \\\n",
       "0  [62, 62, 62, 62, 62, 62, 62, 62, 62, 62, 62, 6...   \n",
       "1                        [1, 1, 1, 1, 1, 1, 1, 1, 1]   \n",
       "2                       [57, 57, 57, 57, 57, 57, 57]   \n",
       "3       [15, 15, 15, 15, 14, 14, 14, 14, 14, 14, 14]   \n",
       "4  [57, 57, 57, 57, 57, 57, 57, 57, 57, 57, 57, 5...   \n",
       "\n",
       "                                           responses  \\\n",
       "0  [0, 0, 0, 1, 1, 1, 1, 1, 0, 0, 0, 1, 1, 0, 0, ...   \n",
       "1                        [0, 0, 1, 1, 1, 1, 0, 0, 1]   \n",
       "2                              [1, 0, 1, 1, 1, 1, 1]   \n",
       "3                  [0, 1, 1, 0, 0, 1, 1, 0, 1, 0, 1]   \n",
       "4         [0, 0, 1, 0, 0, 0, 0, 1, 1, 1, 1, 1, 1, 0]   \n",
       "\n",
       "                                           is_repeat  \n",
       "0  [0, 0, 0, 0, 0, 0, 0, 0, 0, 0, 0, 0, 0, 0, 0, ...  \n",
       "1                        [0, 0, 0, 0, 0, 0, 0, 0, 0]  \n",
       "2                              [0, 0, 0, 0, 0, 0, 0]  \n",
       "3                  [0, 0, 0, 0, 0, 0, 0, 0, 0, 0, 0]  \n",
       "4         [0, 0, 0, 0, 0, 0, 0, 0, 0, 0, 0, 0, 0, 0]  "
      ]
     },
     "execution_count": 5,
     "metadata": {},
     "output_type": "execute_result"
    }
   ],
   "source": [
    "data_folder_path = 'assistment/pyKT/'\n",
    "df_train = pd.read_csv(data_path_to_abs_path(data_folder_path + 'train_valid.csv'))\n",
    "convert_df_strings_to_arrays(df_train)\n",
    "df_test = pd.read_csv(data_path_to_abs_path(data_folder_path + 'test.csv'))\n",
    "convert_df_strings_to_arrays(df_test)\n",
    "df_train.head()"
   ]
  },
  {
   "cell_type": "code",
   "execution_count": 6,
   "metadata": {},
   "outputs": [
    {
     "name": "stdout",
     "output_type": "stream",
     "text": [
      "training time was: 5m 57s\n",
      "optimized by: L-BFGS-B\n",
      "p_L0 = 0.6245133853115539\n",
      "p_G = 0.3\n",
      "p_S = 0.1\n",
      "p_T = 0.11976766798767119\n",
      "p_F = 0.0011086915753828594\n",
      "      fun: 83.78602711341264\n",
      " hess_inv: <5x5 LbfgsInvHessProduct with dtype=float64>\n",
      "      jac: array([-5.94013724e-04, -7.33861896e+00, -3.54816621e+01, -3.45181661e-03,\n",
      "        5.35408162e-02])\n",
      "  message: 'CONVERGENCE: REL_REDUCTION_OF_F_<=_FACTR*EPSMCH'\n",
      "     nfev: 156\n",
      "      nit: 16\n",
      "     njev: 26\n",
      "   status: 0\n",
      "  success: True\n",
      "        x: array([0.62451339, 0.3       , 0.1       , 0.11976767, 0.00110869])\n"
     ]
    },
    {
     "data": {
      "text/plain": [
       "[0.6245133853115539, 0.3, 0.1, 0.11976766798767119, 0.0011086915753828594]"
      ]
     },
     "execution_count": 6,
     "metadata": {},
     "output_type": "execute_result"
    }
   ],
   "source": [
    "bkt_params = train_bkt(df_train)\n",
    "bkt_params"
   ]
  },
  {
   "cell_type": "code",
   "execution_count": null,
   "metadata": {},
   "outputs": [],
   "source": [
    "bkt_trained_params = [0.624513, 0.3, 0.1, 0.1197677, 0.00110869]"
   ]
  },
  {
   "cell_type": "code",
   "execution_count": 10,
   "metadata": {},
   "outputs": [
    {
     "name": "stdout",
     "output_type": "stream",
     "text": [
      "number of predicted questions: 53266\n",
      "auc: 0.6964730864253676\n",
      "accuracy: 0.6954342357225998\n"
     ]
    }
   ],
   "source": [
    "evaluate_bkt(bkt_params, df_test)"
   ]
  }
 ],
 "metadata": {
  "kernelspec": {
   "display_name": "Python 3",
   "language": "python",
   "name": "python3"
  },
  "language_info": {
   "codemirror_mode": {
    "name": "ipython",
    "version": 3
   },
   "file_extension": ".py",
   "mimetype": "text/x-python",
   "name": "python",
   "nbconvert_exporter": "python",
   "pygments_lexer": "ipython3",
   "version": "3.8.10"
  },
  "orig_nbformat": 4
 },
 "nbformat": 4,
 "nbformat_minor": 2
}
