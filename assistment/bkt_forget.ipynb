{
 "cells": [
  {
   "cell_type": "code",
   "execution_count": 1,
   "metadata": {},
   "outputs": [],
   "source": [
    "from config import *\n",
    "from main_package.utils import csv_to_fixed_params, minimize_bkt, evaluate_bkt\n",
    "from main_package.bkts import bkt_forget"
   ]
  },
  {
   "cell_type": "code",
   "execution_count": 2,
   "metadata": {},
   "outputs": [],
   "source": [
    "train_fixed_params = csv_to_fixed_params(\"assistment/train_v3\")\n",
    "test_fixed_params = csv_to_fixed_params(\"assistment/test_v3\")\n",
    "piech_test_fixed_params = csv_to_fixed_params(\"piech/test_df_format\")\n",
    "piech_train_fixed_params = csv_to_fixed_params(\"piech/train_df_format\")"
   ]
  },
  {
   "cell_type": "code",
   "execution_count": 3,
   "metadata": {},
   "outputs": [
    {
     "name": "stdout",
     "output_type": "stream",
     "text": [
      "training time was: 13m 3s\n",
      "number of records: 210707\n",
      "optimized by: L-BFGS-B\n",
      "p_L0 = 0.6297225342281465\n",
      "p_G = 0.3\n",
      "p_S = 0.1\n",
      "p_T = 0.17665670721204543\n",
      "p_F = 0.0013874670196593235\n",
      "      fun: 48226.569487109016\n",
      " hess_inv: <5x5 LbfgsInvHessProduct with dtype=float64>\n",
      "      jac: array([-8.22183206e-02, -5.98470215e+03, -1.84264463e+04,  1.14669092e+00,\n",
      "       -7.65139703e+00])\n",
      "  message: 'CONVERGENCE: REL_REDUCTION_OF_F_<=_FACTR*EPSMCH'\n",
      "     nfev: 216\n",
      "      nit: 23\n",
      "     njev: 36\n",
      "   status: 0\n",
      "  success: True\n",
      "        x: array([0.62972253, 0.3       , 0.1       , 0.17665671, 0.00138747])\n"
     ]
    }
   ],
   "source": [
    "optimal_params = minimize_bkt(bkt_forget, train_fixed_params, bkt_type=\"forget\")"
   ]
  },
  {
   "cell_type": "code",
   "execution_count": 4,
   "metadata": {},
   "outputs": [
    {
     "name": "stdout",
     "output_type": "stream",
     "text": [
      "[0.6297225342281465, 0.3, 0.1, 0.17665670721204543, 0.0013874670196593235]\n"
     ]
    }
   ],
   "source": [
    "print(optimal_params)"
   ]
  },
  {
   "cell_type": "code",
   "execution_count": 4,
   "metadata": {},
   "outputs": [
    {
     "name": "stdout",
     "output_type": "stream",
     "text": [
      "number of records: 117545\n",
      "auc: 0.8238159143855104\n",
      "accuracy: 0.7691947764685865\n",
      "squared sum of residuals: 18807.885747287153\n"
     ]
    }
   ],
   "source": [
    "optimal_params_piech_train = [0.6092783127056272, 0.18646139145347151, 0.1, 0.12423779762977681, 0.02519369426386178]\n",
    "\n",
    "#my train and test assistment split\n",
    "optimal_params = [0.6297154594126692, 0.3, 0.1, 0.17664838884144674, 0.00138766]#p_L0, p_G, p_S, p_T, p_F\n",
    "evaluate_bkt(bkt_forget, piech_test_fixed_params, optimal_params_piech_train)"
   ]
  }
 ],
 "metadata": {
  "kernelspec": {
   "display_name": "Python 3.8.10 64-bit",
   "language": "python",
   "name": "python3"
  },
  "language_info": {
   "codemirror_mode": {
    "name": "ipython",
    "version": 3
   },
   "file_extension": ".py",
   "mimetype": "text/x-python",
   "name": "python",
   "nbconvert_exporter": "python",
   "pygments_lexer": "ipython3",
   "version": "3.8.10"
  },
  "orig_nbformat": 4,
  "vscode": {
   "interpreter": {
    "hash": "916dbcbb3f70747c44a77c7bcd40155683ae19c65e1c03b4aa3499c5328201f1"
   }
  }
 },
 "nbformat": 4,
 "nbformat_minor": 2
}
