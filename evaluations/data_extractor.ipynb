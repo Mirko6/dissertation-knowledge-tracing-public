{
 "cells": [
  {
   "cell_type": "code",
   "execution_count": 2,
   "metadata": {},
   "outputs": [],
   "source": [
    "import json"
   ]
  },
  {
   "attachments": {},
   "cell_type": "markdown",
   "metadata": {},
   "source": [
    "# DKT_plus"
   ]
  },
  {
   "cell_type": "code",
   "execution_count": 2,
   "metadata": {},
   "outputs": [
    {
     "name": "stdout",
     "output_type": "stream",
     "text": [
      "{'DKT_plus': [{'testauc': 0.9458102852692452, 'testacc': 0.8538035308071394, 'window_testauc': 0.9459201368943233, 'window_testacc': 0.8539535269022077}, {'testauc': 0.9450267581121109, 'testacc': 0.8520250526387103, 'window_testauc': 0.9451210495668099, 'window_testacc': 0.8521937526938792}, {'testauc': 0.9460615133097678, 'testacc': 0.8534849745457682, 'window_testauc': 0.946157791732507, 'window_testacc': 0.8535822133493237}, {'testauc': 0.9443150551238297, 'testacc': 0.8520147214512576, 'window_testauc': 0.944397934301255, 'window_testacc': 0.852179117276617}, {'testauc': 0.9446903403209945, 'testacc': 0.8524544739744612, 'window_testauc': 0.9447679571694351, 'window_testacc': 0.8525375774287368}, {'testauc': 0.9451964328928246, 'testacc': 0.8524626177905739, 'window_testauc': 0.9452785840043136, 'window_testacc': 0.8526236151234143}, {'testauc': 0.945453843189066, 'testacc': 0.8527565207774714, 'window_testauc': 0.945575431345324, 'window_testacc': 0.8529782540182792}, {'testauc': 0.9450208893512655, 'testacc': 0.8518161995426262, 'window_testauc': 0.9450750986224651, 'window_testacc': 0.8519901885255338}, {'testauc': 0.9451923220747794, 'testacc': 0.8522689132943619, 'window_testauc': 0.9453131017933103, 'window_testacc': 0.8524628081984232}, {'testauc': 0.9448009795726902, 'testacc': 0.8525421118973272, 'window_testauc': 0.9448520930002345, 'window_testacc': 0.8526876911793643}]}\n"
     ]
    }
   ],
   "source": [
    "with open('cross_validation_parts/dkt_plus.json', 'r') as f:\n",
    "    data = json.load(f)\n",
    "print(data)"
   ]
  },
  {
   "cell_type": "code",
   "execution_count": 3,
   "metadata": {},
   "outputs": [],
   "source": [
    "accuracy_list = []\n",
    "auc_list = []\n",
    "for result in data['DKT_plus']:\n",
    "    auc_list.append(result['testauc'])\n",
    "    accuracy_list.append(result['testacc'])"
   ]
  },
  {
   "cell_type": "code",
   "execution_count": 7,
   "metadata": {},
   "outputs": [
    {
     "data": {
      "text/plain": [
       "{'auc': [0.9458102852692452,\n",
       "  0.9450267581121109,\n",
       "  0.9460615133097678,\n",
       "  0.9443150551238297,\n",
       "  0.9446903403209945,\n",
       "  0.9451964328928246,\n",
       "  0.945453843189066,\n",
       "  0.9450208893512655,\n",
       "  0.9451923220747794,\n",
       "  0.9448009795726902],\n",
       " 'accuracy': [0.8538035308071394,\n",
       "  0.8520250526387103,\n",
       "  0.8534849745457682,\n",
       "  0.8520147214512576,\n",
       "  0.8524544739744612,\n",
       "  0.8524626177905739,\n",
       "  0.8527565207774714,\n",
       "  0.8518161995426262,\n",
       "  0.8522689132943619,\n",
       "  0.8525421118973272]}"
      ]
     },
     "execution_count": 7,
     "metadata": {},
     "output_type": "execute_result"
    }
   ],
   "source": [
    "dkt_plus_dict = {\n",
    "    'auc': auc_list,\n",
    "    'accuracy': accuracy_list,\n",
    "}\n",
    "dkt_plus_dict"
   ]
  },
  {
   "cell_type": "code",
   "execution_count": 8,
   "metadata": {},
   "outputs": [],
   "source": [
    "with open ('cross_validation_complete/dkt_plus.json', 'w') as f:\n",
    "    json.dump(dkt_plus_dict, f, indent=4)"
   ]
  },
  {
   "attachments": {},
   "cell_type": "markdown",
   "metadata": {},
   "source": [
    "# SAINT and DKT"
   ]
  },
  {
   "cell_type": "code",
   "execution_count": 3,
   "metadata": {},
   "outputs": [],
   "source": [
    "with open('cross_validation_parts/saint_akt_dkt_1-3.json', 'r') as f:\n",
    "    data_1_3 = json.load(f)\n",
    "with open('cross_validation_parts/saint_akt_dkt_4.json', 'r') as f:\n",
    "    data_4 = json.load(f)\n",
    "with open('cross_validation_parts/saint_dkt_5-10.json', 'r') as f:\n",
    "    data_5_10 = json.load(f)"
   ]
  },
  {
   "cell_type": "code",
   "execution_count": 4,
   "metadata": {},
   "outputs": [],
   "source": [
    "from typing import Dict, List\n",
    "\n",
    "\n",
    "accuracy_list_dkt = []\n",
    "auc_list_dkt = []\n",
    "\n",
    "def append_measure(\n",
    "        model_name: str,\n",
    "        auc_list: List[float],\n",
    "        accuracy_list: List[float],\n",
    "        data_dict: Dict[str,List[Dict[str, float]]],\n",
    "    ):\n",
    "        for result in data_dict[model_name]:\n",
    "            auc_list.append(result['testauc'])\n",
    "            accuracy_list.append(result['testacc'])\n",
    "\n",
    "for data_dict in [data_1_3, data_4, data_5_10]:\n",
    "    append_measure(\n",
    "        'DKT',\n",
    "        auc_list_dkt,\n",
    "        accuracy_list_dkt,\n",
    "        data_dict\n",
    "    )\n",
    "\n",
    "dkt_dict = {\n",
    "     'auc': auc_list_dkt,\n",
    "     'accuracy': accuracy_list_dkt\n",
    "}"
   ]
  },
  {
   "cell_type": "code",
   "execution_count": 5,
   "metadata": {},
   "outputs": [],
   "source": [
    "with open ('cross_validation_complete/dkt.json', 'w') as f:\n",
    "    json.dump(dkt_dict, f, indent=4)"
   ]
  },
  {
   "cell_type": "code",
   "execution_count": 7,
   "metadata": {},
   "outputs": [],
   "source": [
    "accuracy_list_saint = []\n",
    "auc_list_saint = []\n",
    "for data_dict in [data_1_3, data_4, data_5_10]:\n",
    "    append_measure(\n",
    "        'SAINT',\n",
    "        auc_list_saint,\n",
    "        accuracy_list_saint,\n",
    "        data_dict\n",
    "    )\n",
    "\n",
    "saint_dict = {\n",
    "     'auc': auc_list_saint,\n",
    "     'accuracy': accuracy_list_saint\n",
    "}\n",
    "\n",
    "with open ('cross_validation_complete/saint.json', 'w') as f:\n",
    "    json.dump(saint_dict, f, indent=4)"
   ]
  },
  {
   "attachments": {},
   "cell_type": "markdown",
   "metadata": {},
   "source": [
    "# AKT"
   ]
  },
  {
   "cell_type": "code",
   "execution_count": 7,
   "metadata": {},
   "outputs": [],
   "source": [
    "with open('cross_validation_parts/saint_akt_dkt_1-3.json', 'r') as f:\n",
    "    data_1_3 = json.load(f)\n",
    "with open('cross_validation_parts/saint_akt_dkt_4.json', 'r') as f:\n",
    "    data_4 = json.load(f)\n",
    "with open('cross_validation_parts/akt_5-10.json', 'r') as f:\n",
    "    data_5_10 = json.load(f)"
   ]
  },
  {
   "cell_type": "code",
   "execution_count": 8,
   "metadata": {},
   "outputs": [],
   "source": [
    "accuracy_list_akt = []\n",
    "auc_list_akt = []\n",
    "\n",
    "for data_dict in [data_1_3, data_4, data_5_10]:\n",
    "    append_measure(\n",
    "        'AKT',\n",
    "        auc_list_akt,\n",
    "        accuracy_list_akt,\n",
    "        data_dict\n",
    "    )\n",
    "\n",
    "akt_dict = {\n",
    "     'auc': auc_list_akt,\n",
    "     'accuracy': accuracy_list_akt\n",
    "}"
   ]
  },
  {
   "cell_type": "code",
   "execution_count": 9,
   "metadata": {},
   "outputs": [],
   "source": [
    "with open ('cross_validation_complete/akt.json', 'w') as f:\n",
    "    json.dump(akt_dict, f, indent=4)"
   ]
  }
 ],
 "metadata": {
  "kernelspec": {
   "display_name": "Python 3",
   "language": "python",
   "name": "python3"
  },
  "language_info": {
   "codemirror_mode": {
    "name": "ipython",
    "version": 3
   },
   "file_extension": ".py",
   "mimetype": "text/x-python",
   "name": "python",
   "nbconvert_exporter": "python",
   "pygments_lexer": "ipython3",
   "version": "3.8.10"
  },
  "orig_nbformat": 4
 },
 "nbformat": 4,
 "nbformat_minor": 2
}
