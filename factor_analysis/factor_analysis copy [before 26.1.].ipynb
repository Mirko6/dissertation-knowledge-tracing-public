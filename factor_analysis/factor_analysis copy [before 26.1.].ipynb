{
 "cells": [
  {
   "cell_type": "code",
   "execution_count": 1,
   "metadata": {},
   "outputs": [],
   "source": [
    "from config import *\n",
    "from main_package.utils import csv_to_fixed_params\n",
    "from typing import Dict, Iterable, List, Set, Tuple\n",
    "from math import exp, inf\n",
    "from numpy.random import normal\n",
    "from scipy.optimize import minimize"
   ]
  },
  {
   "cell_type": "code",
   "execution_count": 2,
   "metadata": {},
   "outputs": [],
   "source": [
    "train_fixed_params = csv_to_fixed_params(\"assistment/train_v3\")\n",
    "test_fixed_params = csv_to_fixed_params(\"assistment/test_v3\")"
   ]
  },
  {
   "cell_type": "code",
   "execution_count": 3,
   "metadata": {},
   "outputs": [],
   "source": [
    "def logistic_funciton(m: float):\n",
    "    try:\n",
    "        return 1 / (1 + exp(-m))\n",
    "    except OverflowError:\n",
    "        if -m < 0:\n",
    "            return 1\n",
    "        else:\n",
    "            return 0\n"
   ]
  },
  {
   "cell_type": "code",
   "execution_count": 9,
   "metadata": {},
   "outputs": [],
   "source": [
    "from time import perf_counter"
   ]
  },
  {
   "cell_type": "code",
   "execution_count": 11,
   "metadata": {},
   "outputs": [],
   "source": [
    "current_min = inf\n",
    "min_delta = 0.001\n",
    "def factor_analysis(\n",
    "        params: List[Dict[str, float]],\n",
    "        fixed_params: List[Iterable]\n",
    "    ) -> Tuple[float, List[float]]:\n",
    "    start = perf_counter()\n",
    "    global current_min\n",
    "    skill_difficulty, scale_correct, scale_incorrect = params\n",
    "    \n",
    "    user_id, skill_id, correct = fixed_params\n",
    "    assert len(user_id) == len(skill_id) == len(correct)\n",
    "    n = len(skill_id)\n",
    "\n",
    "    successes = {}\n",
    "    failures = {}\n",
    "    predictions = []\n",
    "    sum_squared_residuals = 0\n",
    "\n",
    "    for i in range(n):\n",
    "        m_value = 0\n",
    "        for skill in skill_id[i].split(\"_\"):\n",
    "            m_value += (\n",
    "                skill_difficulty[skill] +\n",
    "                scale_correct[skill] * successes.get(skill, 0) +\n",
    "                scale_incorrect[skill] * failures.get(skill, 0)\n",
    "            )\n",
    "\n",
    "            if correct[i]:\n",
    "                if skill not in successes:\n",
    "                    successes[skill] = 0\n",
    "                successes[skill] += 1\n",
    "            else:\n",
    "                if skill not in failures:\n",
    "                    failures[skill] = 0\n",
    "                failures[skill] += 1\n",
    "        prediction = logistic_funciton(m_value)\n",
    "        predictions.append(prediction)\n",
    "        sum_squared_residuals += (correct[i] - prediction)**2\n",
    "    \n",
    "    '''\n",
    "    if sum_squared_residuals + min_delta <= current_min:\n",
    "        current_min = sum_squared_residuals\n",
    "        with open(\"results.txt\", \"a\") as f:\n",
    "            f.write(f\"ssr: {sum_squared_residuals}\\n\")\n",
    "            f.write(f\"params: {str(params)}\\n\")\n",
    "    '''\n",
    "\n",
    "    end = perf_counter()\n",
    "    print(f\"time for factor analysis: {round(end-start, 1)}\")\n",
    "\n",
    "    return (sum_squared_residuals, predictions)\n"
   ]
  },
  {
   "cell_type": "code",
   "execution_count": 12,
   "metadata": {},
   "outputs": [],
   "source": [
    "def find_all_skills(fixed_params: List[Iterable]) -> Set[str]:\n",
    "    _, skill_id, _ = fixed_params\n",
    "    return {\n",
    "        skill \n",
    "        for merged_skills in skill_id \n",
    "        for skill in merged_skills.split(\"_\")\n",
    "    }\n",
    "#find_all_skills(train_fixed_params)"
   ]
  },
  {
   "cell_type": "code",
   "execution_count": 13,
   "metadata": {},
   "outputs": [],
   "source": [
    "def construct_initial_params(fixed_params: List[Iterable]):\n",
    "    skills = list(find_all_skills(fixed_params))\n",
    "    initial_params = (\n",
    "        [normal(loc=0, scale=0.5) for _ in skills] + #skill difficulty\n",
    "        [normal(loc=0.2, scale=0.5) for _ in skills] + #scale correct\n",
    "        [normal(loc=0.1, scale=0.5) for _ in skills] #scale incorrect\n",
    "    )\n",
    "    return initial_params, skills\n",
    "\n",
    "#initial_params, skills = construct_initial_params(train_fixed_params)\n",
    "    "
   ]
  },
  {
   "cell_type": "code",
   "execution_count": 14,
   "metadata": {},
   "outputs": [],
   "source": [
    "def pfa_minimize(params: List[int], fixed_params: List[Iterable], skills: List[str]):\n",
    "    assert len(params) == 3*len(skills)\n",
    "    skill_difficulty = {}\n",
    "    scale_correct = {}\n",
    "    scale_incorrect = {}\n",
    "    for i in range(len(skills)):\n",
    "        skill_difficulty[skills[i]] = params[len(skills)*0 + i]\n",
    "        scale_correct[skills[i]] = params[len(skills)*1 + i]\n",
    "        scale_incorrect[skills[i]] = params[len(skills)*2 + i]\n",
    "    return factor_analysis([skill_difficulty, scale_correct, scale_incorrect], fixed_params)[0]"
   ]
  },
  {
   "cell_type": "code",
   "execution_count": 16,
   "metadata": {},
   "outputs": [
    {
     "name": "stdout",
     "output_type": "stream",
     "text": [
      "time for factor analysis: 2.9\n",
      "pfa minimize: 2.9\n",
      "time for factor analysis: 2.1\n",
      "pfa minimize: 2.1\n",
      "time for factor analysis: 1.8\n",
      "pfa minimize: 1.8\n",
      "time for factor analysis: 1.9\n",
      "pfa minimize: 1.9\n",
      "time for factor analysis: 1.8\n",
      "pfa minimize: 1.8\n"
     ]
    }
   ],
   "source": [
    "def find_good_initial_params(fixed_params: List[Iterable], num_iteration=100):\n",
    "    best_params, skills = construct_initial_params(fixed_params)\n",
    "    start = perf_counter()\n",
    "    current_best_ssr = pfa_minimize(best_params, fixed_params, skills)\n",
    "    end = perf_counter()\n",
    "    print(f\"pfa minimize: {round(end-start, 1)}\")\n",
    "    for _ in range(num_iteration - 1):\n",
    "        new_initial_params, skills = construct_initial_params(fixed_params)\n",
    "        start = perf_counter()\n",
    "        new_ssr = pfa_minimize(new_initial_params, fixed_params, skills)\n",
    "        end = perf_counter()\n",
    "        print(f\"pfa minimize: {round(end-start, 1)}\")\n",
    "        if new_ssr < current_best_ssr:\n",
    "            current_best_ssr = new_ssr\n",
    "            best_params = new_initial_params\n",
    "    with open(\"best_initial_params.txt\", \"a\") as f:\n",
    "        f.write(f\"num_iteration: {num_iteration}\\nssr: {current_best_ssr}\\nbest_params: {best_params}\\n\")\n",
    "    return current_best_ssr, best_params\n",
    "\n",
    "skills, initial_params = find_good_initial_params(train_fixed_params, 5)"
   ]
  },
  {
   "cell_type": "code",
   "execution_count": 33,
   "metadata": {},
   "outputs": [],
   "source": [
    "#pfa_minimize(initial_params, train_fixed_params, skills)\n",
    "current_min = inf\n",
    "result = minimize(pfa_minimize, initial_params, (train_fixed_params, skills))"
   ]
  }
 ],
 "metadata": {
  "kernelspec": {
   "display_name": "Python 3.8.10 64-bit",
   "language": "python",
   "name": "python3"
  },
  "language_info": {
   "codemirror_mode": {
    "name": "ipython",
    "version": 3
   },
   "file_extension": ".py",
   "mimetype": "text/x-python",
   "name": "python",
   "nbconvert_exporter": "python",
   "pygments_lexer": "ipython3",
   "version": "3.8.10"
  },
  "orig_nbformat": 4,
  "vscode": {
   "interpreter": {
    "hash": "916dbcbb3f70747c44a77c7bcd40155683ae19c65e1c03b4aa3499c5328201f1"
   }
  }
 },
 "nbformat": 4,
 "nbformat_minor": 2
}
