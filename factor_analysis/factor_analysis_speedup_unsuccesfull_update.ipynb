{
 "cells": [
  {
   "cell_type": "code",
   "execution_count": 2,
   "metadata": {},
   "outputs": [],
   "source": [
    "from config import *\n",
    "from main_package.utils import csv_to_df_fixed_params\n",
    "from typing import Dict, Iterable, List, Set, Tuple\n",
    "from math import exp, inf\n",
    "from numpy.random import normal\n",
    "from scipy.optimize import minimize\n",
    "from scipy.special import expit # logistic function expit(x) = 1/(1+exp(-x))\n",
    "from copy import deepcopy\n",
    "import pandas as pd\n",
    "from sklearn.metrics import mean_squared_error"
   ]
  },
  {
   "cell_type": "code",
   "execution_count": 3,
   "metadata": {},
   "outputs": [],
   "source": [
    "df_train_fixed_params = csv_to_df_fixed_params(\"assistment/train_v3\")\n",
    "df_test_fixed_params = csv_to_df_fixed_params(\"assistment/test_v3\")"
   ]
  },
  {
   "cell_type": "code",
   "execution_count": 4,
   "metadata": {},
   "outputs": [
    {
     "data": {
      "text/html": [
       "<div>\n",
       "<style scoped>\n",
       "    .dataframe tbody tr th:only-of-type {\n",
       "        vertical-align: middle;\n",
       "    }\n",
       "\n",
       "    .dataframe tbody tr th {\n",
       "        vertical-align: top;\n",
       "    }\n",
       "\n",
       "    .dataframe thead th {\n",
       "        text-align: right;\n",
       "    }\n",
       "</style>\n",
       "<table border=\"1\" class=\"dataframe\">\n",
       "  <thead>\n",
       "    <tr style=\"text-align: right;\">\n",
       "      <th></th>\n",
       "      <th>user_id</th>\n",
       "      <th>skill_id</th>\n",
       "      <th>correct</th>\n",
       "    </tr>\n",
       "  </thead>\n",
       "  <tbody>\n",
       "    <tr>\n",
       "      <th>0</th>\n",
       "      <td>78371</td>\n",
       "      <td>67</td>\n",
       "      <td>False</td>\n",
       "    </tr>\n",
       "    <tr>\n",
       "      <th>1</th>\n",
       "      <td>78371</td>\n",
       "      <td>67</td>\n",
       "      <td>False</td>\n",
       "    </tr>\n",
       "    <tr>\n",
       "      <th>2</th>\n",
       "      <td>78371</td>\n",
       "      <td>279</td>\n",
       "      <td>True</td>\n",
       "    </tr>\n",
       "    <tr>\n",
       "      <th>3</th>\n",
       "      <td>78371</td>\n",
       "      <td>279</td>\n",
       "      <td>True</td>\n",
       "    </tr>\n",
       "    <tr>\n",
       "      <th>4</th>\n",
       "      <td>78371</td>\n",
       "      <td>67</td>\n",
       "      <td>True</td>\n",
       "    </tr>\n",
       "  </tbody>\n",
       "</table>\n",
       "</div>"
      ],
      "text/plain": [
       "  user_id skill_id  correct\n",
       "0   78371       67    False\n",
       "1   78371       67    False\n",
       "2   78371      279     True\n",
       "3   78371      279     True\n",
       "4   78371       67     True"
      ]
     },
     "execution_count": 4,
     "metadata": {},
     "output_type": "execute_result"
    }
   ],
   "source": [
    "df_test_fixed_params.head()"
   ]
  },
  {
   "cell_type": "code",
   "execution_count": 5,
   "metadata": {},
   "outputs": [
    {
     "data": {
      "text/plain": [
       "user_id     object\n",
       "skill_id    object\n",
       "correct       bool\n",
       "dtype: object"
      ]
     },
     "execution_count": 5,
     "metadata": {},
     "output_type": "execute_result"
    }
   ],
   "source": [
    "df_test_fixed_params.dtypes"
   ]
  },
  {
   "cell_type": "code",
   "execution_count": 6,
   "metadata": {},
   "outputs": [
    {
     "data": {
      "text/plain": [
       "10357      278\n",
       "38327       27\n",
       "23365       13\n",
       "10145      311\n",
       "34891    10_14\n",
       "32360      278\n",
       "30713    11_70\n",
       "37294       47\n",
       "364         50\n",
       "13187      325\n",
       "38951      279\n",
       "9456       368\n",
       "19835       65\n",
       "19121       86\n",
       "12723      311\n",
       "Name: skill_id, dtype: object"
      ]
     },
     "execution_count": 6,
     "metadata": {},
     "output_type": "execute_result"
    }
   ],
   "source": [
    "df_test_fixed_params['skill_id'].sample(15)"
   ]
  },
  {
   "cell_type": "code",
   "execution_count": 5,
   "metadata": {},
   "outputs": [],
   "source": [
    "def find_accumulating_answer_counts(df_fixed_params):\n",
    "    dictionaries = [\n",
    "        {\n",
    "            True: {},\n",
    "            False: {},\n",
    "        }\n",
    "    ]\n",
    "    for _, row in df_fixed_params.iterrows():\n",
    "        new_dict = deepcopy(dictionaries[-1])\n",
    "        for skill in row['skill_id'].split('_'):\n",
    "            new_dict[row['correct']][skill] = new_dict[row['correct']].get(skill, 0) + 1\n",
    "        dictionaries.append(new_dict)\n",
    "    df_fixed_params['cumulative_count_dictionary'] = dictionaries[1:]\n"
   ]
  },
  {
   "cell_type": "code",
   "execution_count": 7,
   "metadata": {},
   "outputs": [
    {
     "data": {
      "text/html": [
       "<div>\n",
       "<style scoped>\n",
       "    .dataframe tbody tr th:only-of-type {\n",
       "        vertical-align: middle;\n",
       "    }\n",
       "\n",
       "    .dataframe tbody tr th {\n",
       "        vertical-align: top;\n",
       "    }\n",
       "\n",
       "    .dataframe thead th {\n",
       "        text-align: right;\n",
       "    }\n",
       "</style>\n",
       "<table border=\"1\" class=\"dataframe\">\n",
       "  <thead>\n",
       "    <tr style=\"text-align: right;\">\n",
       "      <th></th>\n",
       "      <th>user_id</th>\n",
       "      <th>skill_id</th>\n",
       "      <th>correct</th>\n",
       "      <th>cumulative_count_dictionary</th>\n",
       "    </tr>\n",
       "  </thead>\n",
       "  <tbody>\n",
       "    <tr>\n",
       "      <th>0</th>\n",
       "      <td>78371</td>\n",
       "      <td>67</td>\n",
       "      <td>False</td>\n",
       "      <td>{True: {}, False: {'67': 1}}</td>\n",
       "    </tr>\n",
       "    <tr>\n",
       "      <th>1</th>\n",
       "      <td>78371</td>\n",
       "      <td>67</td>\n",
       "      <td>False</td>\n",
       "      <td>{True: {}, False: {'67': 2}}</td>\n",
       "    </tr>\n",
       "    <tr>\n",
       "      <th>2</th>\n",
       "      <td>78371</td>\n",
       "      <td>279</td>\n",
       "      <td>True</td>\n",
       "      <td>{True: {'279': 1}, False: {'67': 2}}</td>\n",
       "    </tr>\n",
       "    <tr>\n",
       "      <th>3</th>\n",
       "      <td>78371</td>\n",
       "      <td>279</td>\n",
       "      <td>True</td>\n",
       "      <td>{True: {'279': 2}, False: {'67': 2}}</td>\n",
       "    </tr>\n",
       "    <tr>\n",
       "      <th>4</th>\n",
       "      <td>78371</td>\n",
       "      <td>67</td>\n",
       "      <td>True</td>\n",
       "      <td>{True: {'279': 2, '67': 1}, False: {'67': 2}}</td>\n",
       "    </tr>\n",
       "  </tbody>\n",
       "</table>\n",
       "</div>"
      ],
      "text/plain": [
       "  user_id skill_id  correct                    cumulative_count_dictionary\n",
       "0   78371       67    False                   {True: {}, False: {'67': 1}}\n",
       "1   78371       67    False                   {True: {}, False: {'67': 2}}\n",
       "2   78371      279     True           {True: {'279': 1}, False: {'67': 2}}\n",
       "3   78371      279     True           {True: {'279': 2}, False: {'67': 2}}\n",
       "4   78371       67     True  {True: {'279': 2, '67': 1}, False: {'67': 2}}"
      ]
     },
     "execution_count": 7,
     "metadata": {},
     "output_type": "execute_result"
    }
   ],
   "source": [
    "find_accumulating_answer_counts(df_train_fixed_params)\n",
    "df_test_fixed_params.head()"
   ]
  },
  {
   "cell_type": "code",
   "execution_count": 38,
   "metadata": {},
   "outputs": [],
   "source": [
    "from time import perf_counter"
   ]
  },
  {
   "cell_type": "code",
   "execution_count": 39,
   "metadata": {},
   "outputs": [],
   "source": [
    "def factor_analysis(\n",
    "    scale_difficulty: Dict[str, float], \n",
    "    scale_correct: Dict[str, float], \n",
    "    scale_incorrect: Dict[str, float],\n",
    "    df_fixed_params: pd.DataFrame,\n",
    "):\n",
    "    start = perf_counter()\n",
    "    def calculate_m_value_for_row(row) -> float:\n",
    "        return sum(\n",
    "            scale_difficulty[skill] +\n",
    "            scale_correct[skill] * row['cumulative_count_dictionary'][True].get(skill, 0) +\n",
    "            scale_incorrect[skill] * row['cumulative_count_dictionary'][False].get(skill, 0)\n",
    "            for skill in row['skill_id'].split('_')\n",
    "        )\n",
    "    m_values = df_fixed_params.apply(calculate_m_value_for_row, axis=1)\n",
    "    predictions = expit(m_values)\n",
    "    end = perf_counter()\n",
    "    print(f\"time for factor analysis: {round(end-start, 1)}\")\n",
    "    return predictions"
   ]
  },
  {
   "cell_type": "code",
   "execution_count": 14,
   "metadata": {},
   "outputs": [],
   "source": [
    "def random_initial_constants(skills: Iterable) -> Tuple[Dict[str, float]]:\n",
    "    unique_skills = set(skill for skill_string in skills\n",
    "                            for skill in skill_string.split('_'))\n",
    "    scale_difficulty = {}\n",
    "    scale_correct = {}\n",
    "    scale_incorrect = {}\n",
    "    for skill in unique_skills:\n",
    "        scale_difficulty[skill] = normal(loc=0, scale=0.5)\n",
    "        scale_correct[skill] = normal(loc=0.2, scale=0.5)\n",
    "        scale_incorrect[skill] = normal(loc=0.1, scale=0.5)\n",
    "    return scale_difficulty, scale_correct, scale_incorrect"
   ]
  },
  {
   "cell_type": "code",
   "execution_count": 23,
   "metadata": {},
   "outputs": [
    {
     "data": {
      "text/html": [
       "<div>\n",
       "<style scoped>\n",
       "    .dataframe tbody tr th:only-of-type {\n",
       "        vertical-align: middle;\n",
       "    }\n",
       "\n",
       "    .dataframe tbody tr th {\n",
       "        vertical-align: top;\n",
       "    }\n",
       "\n",
       "    .dataframe thead th {\n",
       "        text-align: right;\n",
       "    }\n",
       "</style>\n",
       "<table border=\"1\" class=\"dataframe\">\n",
       "  <thead>\n",
       "    <tr style=\"text-align: right;\">\n",
       "      <th></th>\n",
       "      <th>user_id</th>\n",
       "      <th>skill_id</th>\n",
       "      <th>correct</th>\n",
       "      <th>cumulative_count_dictionary</th>\n",
       "    </tr>\n",
       "  </thead>\n",
       "  <tbody>\n",
       "    <tr>\n",
       "      <th>0</th>\n",
       "      <td>73963</td>\n",
       "      <td>297</td>\n",
       "      <td>False</td>\n",
       "      <td>{True: {}, False: {'297': 1}}</td>\n",
       "    </tr>\n",
       "    <tr>\n",
       "      <th>1</th>\n",
       "      <td>73963</td>\n",
       "      <td>297</td>\n",
       "      <td>True</td>\n",
       "      <td>{True: {'297': 1}, False: {'297': 1}}</td>\n",
       "    </tr>\n",
       "    <tr>\n",
       "      <th>2</th>\n",
       "      <td>73963</td>\n",
       "      <td>297</td>\n",
       "      <td>True</td>\n",
       "      <td>{True: {'297': 2}, False: {'297': 1}}</td>\n",
       "    </tr>\n",
       "    <tr>\n",
       "      <th>3</th>\n",
       "      <td>73963</td>\n",
       "      <td>297</td>\n",
       "      <td>True</td>\n",
       "      <td>{True: {'297': 3}, False: {'297': 1}}</td>\n",
       "    </tr>\n",
       "    <tr>\n",
       "      <th>4</th>\n",
       "      <td>73963</td>\n",
       "      <td>297</td>\n",
       "      <td>False</td>\n",
       "      <td>{True: {'297': 3}, False: {'297': 2}}</td>\n",
       "    </tr>\n",
       "  </tbody>\n",
       "</table>\n",
       "</div>"
      ],
      "text/plain": [
       "  user_id skill_id  correct            cumulative_count_dictionary\n",
       "0   73963      297    False          {True: {}, False: {'297': 1}}\n",
       "1   73963      297     True  {True: {'297': 1}, False: {'297': 1}}\n",
       "2   73963      297     True  {True: {'297': 2}, False: {'297': 1}}\n",
       "3   73963      297     True  {True: {'297': 3}, False: {'297': 1}}\n",
       "4   73963      297    False  {True: {'297': 3}, False: {'297': 2}}"
      ]
     },
     "execution_count": 23,
     "metadata": {},
     "output_type": "execute_result"
    }
   ],
   "source": [
    "df_train_fixed_params.head()"
   ]
  },
  {
   "cell_type": "code",
   "execution_count": 41,
   "metadata": {},
   "outputs": [
    {
     "name": "stdout",
     "output_type": "stream",
     "text": [
      "time for factor analysis: 5.9\n",
      "time for factor analysis: 4.9\n",
      "time for factor analysis: 4.3\n",
      "time for factor analysis: 4.8\n",
      "time for factor analysis: 4.6\n"
     ]
    }
   ],
   "source": [
    "def find_good_initial_scales(df_fixed_params: pd.DataFrame, num_iteration=100):\n",
    "    scales = random_initial_constants(df_fixed_params['skill_id'])\n",
    "    best_scales = scales\n",
    "    predictions = factor_analysis(*scales, df_fixed_params)\n",
    "    current_best_mse = mean_squared_error(df_fixed_params['correct'], predictions, squared=False)\n",
    "    for _ in range(num_iteration - 1):\n",
    "        new_scales = random_initial_constants(df_fixed_params['skill_id'])\n",
    "        new_predictions = factor_analysis(*new_scales, df_fixed_params)\n",
    "        new_mse = mean_squared_error(df_fixed_params['correct'], predictions, squared=False)\n",
    "        if new_mse < current_best_mse:\n",
    "            current_best_mse = new_mse\n",
    "            best_scales = new_scales\n",
    "    with open(\"best_initial_scales.txt\", \"a\") as f:\n",
    "        f.write(f\"num_iteration: {num_iteration}\\nmse: {current_best_mse}\\nbest_scales: {best_scales}\\n\")\n",
    "    return current_best_mse, best_scales\n",
    "\n",
    "initial_scales = find_good_initial_scales(df_train_fixed_params, 5)"
   ]
  },
  {
   "cell_type": "code",
   "execution_count": null,
   "metadata": {},
   "outputs": [],
   "source": [
    "def pfa_minimize()"
   ]
  },
  {
   "cell_type": "code",
   "execution_count": 33,
   "metadata": {},
   "outputs": [],
   "source": [
    "#pfa_minimize(initial_params, train_fixed_params, skills)\n",
    "current_min = inf\n",
    "result = minimize(pfa_minimize, initial_params, (train_fixed_params, skills))"
   ]
  }
 ],
 "metadata": {
  "kernelspec": {
   "display_name": "Python 3.8.10 64-bit",
   "language": "python",
   "name": "python3"
  },
  "language_info": {
   "codemirror_mode": {
    "name": "ipython",
    "version": 3
   },
   "file_extension": ".py",
   "mimetype": "text/x-python",
   "name": "python",
   "nbconvert_exporter": "python",
   "pygments_lexer": "ipython3",
   "version": "3.8.10"
  },
  "orig_nbformat": 4,
  "vscode": {
   "interpreter": {
    "hash": "916dbcbb3f70747c44a77c7bcd40155683ae19c65e1c03b4aa3499c5328201f1"
   }
  }
 },
 "nbformat": 4,
 "nbformat_minor": 2
}
