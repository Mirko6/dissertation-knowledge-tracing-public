{
 "cells": [
  {
   "cell_type": "code",
   "execution_count": 1,
   "metadata": {},
   "outputs": [],
   "source": [
    "from config import *\n",
    "isaac_data_folder = parentdir + \"/data/isaac/\"\n",
    "import pandas as pd\n",
    "from main_package.utils import data_path_to_abs_path\n",
    "from json import dump"
   ]
  },
  {
   "attachments": {},
   "cell_type": "markdown",
   "metadata": {},
   "source": [
    "chunk processing"
   ]
  },
  {
   "cell_type": "code",
   "execution_count": 7,
   "metadata": {},
   "outputs": [],
   "source": [
    "chunksize = 10**4\n",
    "df_chunks = pd.read_csv(data_path_to_abs_path(\"isaac/sample_question_attempts\", file_type=\"txt\"), chunksize=chunksize)"
   ]
  },
  {
   "cell_type": "code",
   "execution_count": 3,
   "metadata": {},
   "outputs": [],
   "source": [
    "chunksize = 10**7 #the output csv will have around 0.25GB\n",
    "df_chunks = pd.read_csv(data_path_to_abs_path(\"isaac/all_unprocessed_interaction_data/de-identified_question_attempts.csv\"), chunksize=chunksize)"
   ]
  },
  {
   "cell_type": "code",
   "execution_count": 15,
   "metadata": {},
   "outputs": [
    {
     "name": "stdout",
     "output_type": "stream",
     "text": [
      "processing chunk number 0\n",
      "processing chunk number 1\n",
      "processing chunk number 2\n",
      "processing chunk number 3\n"
     ]
    }
   ],
   "source": [
    "user_hash_to_user_id_dict = {}\n",
    "count = 0\n",
    "for df_chunk in df_chunks:\n",
    "    print(f\"processing chunk number {count}\")\n",
    "    df_chunk = df_chunk[df_chunk['attempt_no'] == 1]\n",
    "    for user_hash in df_chunk['user_id'].unique():\n",
    "        if user_hash not in user_hash_to_user_id_dict:\n",
    "            user_hash_to_user_id_dict[user_hash] = str(len(user_hash_to_user_id_dict))\n",
    "    df_chunk.loc[:, \"user_id\"] = df_chunk['user_id'].map(user_hash_to_user_id_dict)\n",
    "    df_chunk = df_chunk.drop(columns='attempt_no')\n",
    "    print(\"writing to csv file\")\n",
    "    # df_chunk.to_csv(data_path_to_abs_path(f\"isaac/interaction_data/part_{count}.csv\"), index=False)\n",
    "    count += 1\n",
    "    print(\"chunk successfuly processed\")\n",
    "with open(data_path_to_abs_path(f\"isaac/interaction_data/dict.json\"), \"w\") as file:\n",
    "    dump(user_hash_to_user_id_dict, file, indent=2)"
   ]
  },
  {
   "attachments": {},
   "cell_type": "markdown",
   "metadata": {},
   "source": [
    "all at once"
   ]
  },
  {
   "cell_type": "code",
   "execution_count": 4,
   "metadata": {},
   "outputs": [],
   "source": [
    "df = pd.read_csv(data_path_to_abs_path(\"isaac/all_unprocessed_interaction_data/de-identified_question_attempts.csv\"))"
   ]
  },
  {
   "cell_type": "code",
   "execution_count": 5,
   "metadata": {},
   "outputs": [
    {
     "name": "stderr",
     "output_type": "stream",
     "text": [
      "/tmp/ipykernel_1538/1758268286.py:8: SettingWithCopyWarning: \n",
      "A value is trying to be set on a copy of a slice from a DataFrame.\n",
      "Try using .loc[row_indexer,col_indexer] = value instead\n",
      "\n",
      "See the caveats in the documentation: https://pandas.pydata.org/pandas-docs/stable/user_guide/indexing.html#returning-a-view-versus-a-copy\n",
      "  df_chunk.loc[:, \"user_id\"] = df_chunk['user_id'].map(user_hash_to_user_id_dict)\n"
     ]
    },
    {
     "name": "stdout",
     "output_type": "stream",
     "text": [
      "writing to csv file\n",
      "chunk successfuly processed\n"
     ]
    }
   ],
   "source": [
    "user_hash_to_user_id_dict = {}\n",
    "count = 0\n",
    "df_chunk = df\n",
    "df_chunk = df_chunk[df_chunk['attempt_no'] == 1]\n",
    "for user_hash in df_chunk['user_id'].unique():\n",
    "    if user_hash not in user_hash_to_user_id_dict:\n",
    "        user_hash_to_user_id_dict[user_hash] = str(len(user_hash_to_user_id_dict))\n",
    "df_chunk.loc[:, \"user_id\"] = df_chunk['user_id'].map(user_hash_to_user_id_dict)\n",
    "df_chunk = df_chunk.drop(columns='attempt_no')\n",
    "print(\"writing to csv file\")\n",
    "df_chunk.to_csv(data_path_to_abs_path(f\"isaac/interaction_data/all_data.csv\"), index=False)\n",
    "count += 1\n",
    "print(\"chunk successfuly processed\")\n",
    "#with open(data_path_to_abs_path(f\"isaac/interaction_data/dict.json\"), \"w\") as file:\n",
    "    #dump(user_hash_to_user_id_dict, file, indent=2)"
   ]
  },
  {
   "cell_type": "code",
   "execution_count": 6,
   "metadata": {},
   "outputs": [
    {
     "data": {
      "text/html": [
       "<div>\n",
       "<style scoped>\n",
       "    .dataframe tbody tr th:only-of-type {\n",
       "        vertical-align: middle;\n",
       "    }\n",
       "\n",
       "    .dataframe tbody tr th {\n",
       "        vertical-align: top;\n",
       "    }\n",
       "\n",
       "    .dataframe thead th {\n",
       "        text-align: right;\n",
       "    }\n",
       "</style>\n",
       "<table border=\"1\" class=\"dataframe\">\n",
       "  <thead>\n",
       "    <tr style=\"text-align: right;\">\n",
       "      <th></th>\n",
       "      <th>user_id</th>\n",
       "      <th>question_id</th>\n",
       "      <th>correct</th>\n",
       "      <th>attempt_no</th>\n",
       "    </tr>\n",
       "  </thead>\n",
       "  <tbody>\n",
       "    <tr>\n",
       "      <th>0</th>\n",
       "      <td>9b5738638d4eb16007ed611e683ed6632aa60f93f69b63...</td>\n",
       "      <td>vector_scalar_train|80fbaf79-a3f4-4a4b-a318-00...</td>\n",
       "      <td>f</td>\n",
       "      <td>1</td>\n",
       "    </tr>\n",
       "    <tr>\n",
       "      <th>1</th>\n",
       "      <td>9b5738638d4eb16007ed611e683ed6632aa60f93f69b63...</td>\n",
       "      <td>vector_scalar_train|80fbaf79-a3f4-4a4b-a318-00...</td>\n",
       "      <td>f</td>\n",
       "      <td>2</td>\n",
       "    </tr>\n",
       "    <tr>\n",
       "      <th>2</th>\n",
       "      <td>6cb8d32dfc6ace770d521d2930995910662e2aaca7782b...</td>\n",
       "      <td>ch_a_p3|dc864852-f371-4f6d-a87d-d87f982bb0f7</td>\n",
       "      <td>t</td>\n",
       "      <td>1</td>\n",
       "    </tr>\n",
       "    <tr>\n",
       "      <th>3</th>\n",
       "      <td>9b5738638d4eb16007ed611e683ed6632aa60f93f69b63...</td>\n",
       "      <td>vector_scalar_train|80fbaf79-a3f4-4a4b-a318-00...</td>\n",
       "      <td>f</td>\n",
       "      <td>3</td>\n",
       "    </tr>\n",
       "    <tr>\n",
       "      <th>4</th>\n",
       "      <td>9b5738638d4eb16007ed611e683ed6632aa60f93f69b63...</td>\n",
       "      <td>vector_scalar_train|80fbaf79-a3f4-4a4b-a318-00...</td>\n",
       "      <td>f</td>\n",
       "      <td>4</td>\n",
       "    </tr>\n",
       "  </tbody>\n",
       "</table>\n",
       "</div>"
      ],
      "text/plain": [
       "                                             user_id  \\\n",
       "0  9b5738638d4eb16007ed611e683ed6632aa60f93f69b63...   \n",
       "1  9b5738638d4eb16007ed611e683ed6632aa60f93f69b63...   \n",
       "2  6cb8d32dfc6ace770d521d2930995910662e2aaca7782b...   \n",
       "3  9b5738638d4eb16007ed611e683ed6632aa60f93f69b63...   \n",
       "4  9b5738638d4eb16007ed611e683ed6632aa60f93f69b63...   \n",
       "\n",
       "                                         question_id correct  attempt_no  \n",
       "0  vector_scalar_train|80fbaf79-a3f4-4a4b-a318-00...       f           1  \n",
       "1  vector_scalar_train|80fbaf79-a3f4-4a4b-a318-00...       f           2  \n",
       "2       ch_a_p3|dc864852-f371-4f6d-a87d-d87f982bb0f7       t           1  \n",
       "3  vector_scalar_train|80fbaf79-a3f4-4a4b-a318-00...       f           3  \n",
       "4  vector_scalar_train|80fbaf79-a3f4-4a4b-a318-00...       f           4  "
      ]
     },
     "execution_count": 6,
     "metadata": {},
     "output_type": "execute_result"
    }
   ],
   "source": [
    "df.head()"
   ]
  },
  {
   "cell_type": "code",
   "execution_count": null,
   "metadata": {},
   "outputs": [],
   "source": [
    "df_chunk['correct'] = df_chunk['correct'] == 't'\n",
    "df_chunk['correct'] = df_chunk['correct'].astype(int)\n",
    "df_chunk = df_chunk.rename(columns={'question_id': \"sequence_id\"})\n",
    "df_chunk = df_chunk.reset_index().rename(columns={df.index.name: 'log_id'})\n",
    "df_chunk.head()"
   ]
  },
  {
   "cell_type": "code",
   "execution_count": 8,
   "metadata": {},
   "outputs": [],
   "source": [
    "df_chunk[:1500].to_csv(data_path_to_abs_path(f\"isaac/interaction_data/all_data_sample.csv\"), index=False)"
   ]
  }
 ],
 "metadata": {
  "kernelspec": {
   "display_name": "Python 3.8.10 64-bit",
   "language": "python",
   "name": "python3"
  },
  "language_info": {
   "codemirror_mode": {
    "name": "ipython",
    "version": 3
   },
   "file_extension": ".py",
   "mimetype": "text/x-python",
   "name": "python",
   "nbconvert_exporter": "python",
   "pygments_lexer": "ipython3",
   "version": "3.8.10"
  },
  "orig_nbformat": 4,
  "vscode": {
   "interpreter": {
    "hash": "916dbcbb3f70747c44a77c7bcd40155683ae19c65e1c03b4aa3499c5328201f1"
   }
  }
 },
 "nbformat": 4,
 "nbformat_minor": 2
}
