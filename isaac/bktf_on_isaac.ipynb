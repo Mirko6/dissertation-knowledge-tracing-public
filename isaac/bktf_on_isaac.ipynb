{
 "cells": [
  {
   "cell_type": "code",
   "execution_count": 1,
   "metadata": {},
   "outputs": [],
   "source": [
    "from config import *\n",
    "import pandas as pd\n",
    "import numpy as np\n",
    "from main_package.bkt_pyKT import train_bkt, convert_df_strings_to_arrays, evaluate_bkt\n",
    "from main_package.utils import data_path_to_abs_path"
   ]
  },
  {
   "cell_type": "code",
   "execution_count": 2,
   "metadata": {},
   "outputs": [
    {
     "data": {
      "text/html": [
       "<div>\n",
       "<style scoped>\n",
       "    .dataframe tbody tr th:only-of-type {\n",
       "        vertical-align: middle;\n",
       "    }\n",
       "\n",
       "    .dataframe tbody tr th {\n",
       "        vertical-align: top;\n",
       "    }\n",
       "\n",
       "    .dataframe thead th {\n",
       "        text-align: right;\n",
       "    }\n",
       "</style>\n",
       "<table border=\"1\" class=\"dataframe\">\n",
       "  <thead>\n",
       "    <tr style=\"text-align: right;\">\n",
       "      <th></th>\n",
       "      <th>fold</th>\n",
       "      <th>uid</th>\n",
       "      <th>questions</th>\n",
       "      <th>concepts</th>\n",
       "      <th>responses</th>\n",
       "      <th>is_repeat</th>\n",
       "    </tr>\n",
       "  </thead>\n",
       "  <tbody>\n",
       "    <tr>\n",
       "      <th>0</th>\n",
       "      <td>0</td>\n",
       "      <td>41</td>\n",
       "      <td>[69, 69, 69, 69, 69, 69, 69, 109, 123, 123, 62...</td>\n",
       "      <td>[11, 23, 2, 1, 13, 14, 27, 26, 0, 2, 31, 6, 31...</td>\n",
       "      <td>[0, 0, 0, 0, 0, 0, 0, 1, 0, 0, 0, 0, 0, 0, 1, 1]</td>\n",
       "      <td>[0, 1, 1, 1, 1, 1, 1, 0, 0, 1, 0, 1, 0, 1, 0, 1]</td>\n",
       "    </tr>\n",
       "    <tr>\n",
       "      <th>1</th>\n",
       "      <td>0</td>\n",
       "      <td>22</td>\n",
       "      <td>[12, 12, 13, 13, 14, 15, 43, 44, 45]</td>\n",
       "      <td>[18, 19, 18, 19, 20, 20, 20, 20, 20]</td>\n",
       "      <td>[1, 1, 1, 1, 1, 1, 1, 0, 1]</td>\n",
       "      <td>[0, 1, 0, 1, 0, 0, 0, 0, 0]</td>\n",
       "    </tr>\n",
       "    <tr>\n",
       "      <th>2</th>\n",
       "      <td>0</td>\n",
       "      <td>20</td>\n",
       "      <td>[70, 70, 70, 78, 55, 52]</td>\n",
       "      <td>[31, 6, 7, 29, 1, 1]</td>\n",
       "      <td>[0, 0, 0, 0, 0, 1]</td>\n",
       "      <td>[0, 1, 1, 0, 0, 0]</td>\n",
       "    </tr>\n",
       "    <tr>\n",
       "      <th>3</th>\n",
       "      <td>0</td>\n",
       "      <td>36</td>\n",
       "      <td>[58, 58, 89, 90, 90, 90, 29, 29]</td>\n",
       "      <td>[5, 6, 44, 5, 23, 6, 28, 29]</td>\n",
       "      <td>[0, 0, 0, 1, 1, 1, 1, 1]</td>\n",
       "      <td>[0, 1, 0, 0, 1, 1, 0, 1]</td>\n",
       "    </tr>\n",
       "    <tr>\n",
       "      <th>4</th>\n",
       "      <td>0</td>\n",
       "      <td>0</td>\n",
       "      <td>[0, 0, 0, 1, 1, 1, 2, 2, 3, 3]</td>\n",
       "      <td>[0, 1, 2, 0, 3, 1, 3, 2, 1, 4]</td>\n",
       "      <td>[1, 1, 1, 0, 0, 0, 0, 0, 0, 0]</td>\n",
       "      <td>[0, 1, 1, 0, 1, 1, 0, 1, 0, 1]</td>\n",
       "    </tr>\n",
       "  </tbody>\n",
       "</table>\n",
       "</div>"
      ],
      "text/plain": [
       "   fold  uid                                          questions  \\\n",
       "0     0   41  [69, 69, 69, 69, 69, 69, 69, 109, 123, 123, 62...   \n",
       "1     0   22               [12, 12, 13, 13, 14, 15, 43, 44, 45]   \n",
       "2     0   20                           [70, 70, 70, 78, 55, 52]   \n",
       "3     0   36                   [58, 58, 89, 90, 90, 90, 29, 29]   \n",
       "4     0    0                     [0, 0, 0, 1, 1, 1, 2, 2, 3, 3]   \n",
       "\n",
       "                                            concepts  \\\n",
       "0  [11, 23, 2, 1, 13, 14, 27, 26, 0, 2, 31, 6, 31...   \n",
       "1               [18, 19, 18, 19, 20, 20, 20, 20, 20]   \n",
       "2                               [31, 6, 7, 29, 1, 1]   \n",
       "3                       [5, 6, 44, 5, 23, 6, 28, 29]   \n",
       "4                     [0, 1, 2, 0, 3, 1, 3, 2, 1, 4]   \n",
       "\n",
       "                                          responses  \\\n",
       "0  [0, 0, 0, 0, 0, 0, 0, 1, 0, 0, 0, 0, 0, 0, 1, 1]   \n",
       "1                       [1, 1, 1, 1, 1, 1, 1, 0, 1]   \n",
       "2                                [0, 0, 0, 0, 0, 1]   \n",
       "3                          [0, 0, 0, 1, 1, 1, 1, 1]   \n",
       "4                    [1, 1, 1, 0, 0, 0, 0, 0, 0, 0]   \n",
       "\n",
       "                                          is_repeat  \n",
       "0  [0, 1, 1, 1, 1, 1, 1, 0, 0, 1, 0, 1, 0, 1, 0, 1]  \n",
       "1                       [0, 1, 0, 1, 0, 0, 0, 0, 0]  \n",
       "2                                [0, 1, 1, 0, 0, 0]  \n",
       "3                          [0, 1, 0, 0, 1, 1, 0, 1]  \n",
       "4                    [0, 1, 1, 0, 1, 1, 0, 1, 0, 1]  "
      ]
     },
     "execution_count": 2,
     "metadata": {},
     "output_type": "execute_result"
    }
   ],
   "source": [
    "sample = True\n",
    "\n",
    "data_folder_path_major_skill = 'isaac/pyKT_processed/sample/' if sample else 'isaac/pyKT_processed/'\n",
    "data_folder_path_first_skill = 'isaac/pyKT_processed/first_skill/sample/' if sample else 'isaac/pyKT_processed/first_skill/'\n",
    "\n",
    "data_folder_path = data_folder_path_major_skill\n",
    "\n",
    "df_train = pd.read_csv(data_path_to_abs_path(data_folder_path + 'train_valid.csv'))\n",
    "convert_df_strings_to_arrays(df_train)\n",
    "df_test = pd.read_csv(data_path_to_abs_path(data_folder_path + 'test.csv'))\n",
    "convert_df_strings_to_arrays(df_test)\n",
    "df_train.head()"
   ]
  },
  {
   "cell_type": "code",
   "execution_count": 3,
   "metadata": {},
   "outputs": [
    {
     "name": "stdout",
     "output_type": "stream",
     "text": [
      "training time was: 0m 2s\n",
      "optimized by: L-BFGS-B\n",
      "p_L0 = 0.035606622833357325\n",
      "p_G = 0.4467585865849167\n",
      "p_S = 0.44617969535336316\n",
      "p_T = 0.09999487441419794\n",
      "p_F = 0.9999\n",
      "      fun: 3.4284072327525075\n",
      " hess_inv: <5x5 LbfgsInvHessProduct with dtype=float64>\n",
      "      jac: array([ 1.02140518e-06, -8.88178420e-07,  8.88178420e-08, -3.55271368e-07,\n",
      "       -6.63469276e-05])\n",
      "  message: 'CONVERGENCE: NORM_OF_PROJECTED_GRADIENT_<=_PGTOL'\n",
      "     nfev: 144\n",
      "      nit: 17\n",
      "     njev: 24\n",
      "   status: 0\n",
      "  success: True\n",
      "        x: array([0.03560662, 0.44675859, 0.4461797 , 0.09999487, 0.9999    ])\n"
     ]
    },
    {
     "data": {
      "text/plain": [
       "[0.035606622833357325,\n",
       " 0.4467585865849167,\n",
       " 0.44617969535336316,\n",
       " 0.09999487441419794,\n",
       " 0.9999]"
      ]
     },
     "execution_count": 3,
     "metadata": {},
     "output_type": "execute_result"
    }
   ],
   "source": [
    "bkt_params = train_bkt(df_train)\n",
    "bkt_params"
   ]
  },
  {
   "cell_type": "code",
   "execution_count": 7,
   "metadata": {},
   "outputs": [],
   "source": [
    "bkt_optimal_params = [0.16035, 0.3, 0.1, 0.0558865, 0.024699] # major_skills\n",
    "bkt_optimal_params_first_skill = [0.2123448, 0.3, 0.1, 0.05762955, 0.013392]"
   ]
  },
  {
   "cell_type": "code",
   "execution_count": 4,
   "metadata": {},
   "outputs": [
    {
     "name": "stdout",
     "output_type": "stream",
     "text": [
      "number of predicted questions: 43\n",
      "auc: 0.4409722222222222\n",
      "accuracy: 0.627906976744186\n"
     ]
    }
   ],
   "source": [
    "evaluate_bkt(bkt_params, df_test)"
   ]
  }
 ],
 "metadata": {
  "kernelspec": {
   "display_name": "Python 3",
   "language": "python",
   "name": "python3"
  },
  "language_info": {
   "codemirror_mode": {
    "name": "ipython",
    "version": 3
   },
   "file_extension": ".py",
   "mimetype": "text/x-python",
   "name": "python",
   "nbconvert_exporter": "python",
   "pygments_lexer": "ipython3",
   "version": "3.8.10"
  },
  "orig_nbformat": 4
 },
 "nbformat": 4,
 "nbformat_minor": 2
}
