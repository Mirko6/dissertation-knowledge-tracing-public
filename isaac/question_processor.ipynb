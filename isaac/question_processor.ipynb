{
 "cells": [
  {
   "cell_type": "markdown",
   "metadata": {},
   "source": [
    "So, I want to consider all jsons with \n",
    "- \"type\": \"isaacQuestionPage\"\n",
    "- \"published\": true\n",
    "\n",
    "I want to record\n",
    "\n",
    "- question_page_id\n",
    "- skills taken from tags [tag]\n",
    "- audience stage(s) - optional\n",
    "- audience difficulty(ies) - optional\n",
    "\n",
    "then for each question part:\n",
    "- question_part_id\n",
    "- skills taken from hints [skill_id]\n",
    "\n",
    "all skills will be separated by |"
   ]
  },
  {
   "cell_type": "markdown",
   "metadata": {},
   "source": [
    "What should I do with questions with deprecated=True field?"
   ]
  },
  {
   "cell_type": "code",
   "execution_count": 1,
   "metadata": {},
   "outputs": [],
   "source": [
    "from config import *\n",
    "isaac_data_folder = parentdir + \"/data/isaac/\"\n",
    "isaac_content_directory = parentdir + \"/data/isaac/content/\""
   ]
  },
  {
   "cell_type": "code",
   "execution_count": 2,
   "metadata": {},
   "outputs": [],
   "source": [
    "from typing import Dict, Optional, List\n",
    "import json\n",
    "import pandas as pd"
   ]
  },
  {
   "cell_type": "code",
   "execution_count": 3,
   "metadata": {},
   "outputs": [
    {
     "name": "stdout",
     "output_type": "stream",
     "text": [
      "['cp_capacitor', 'cp_kirchhoffs_laws']\n"
     ]
    }
   ],
   "source": [
    "def extract_skills_from_hint_value(hint: str) -> List[str]:\n",
    "    skills = []\n",
    "    if \"{/concepts/\" in hint:\n",
    "        for element in hint.split(\"{/concepts/\")[1:]:\n",
    "            skills.append(element[:element.find(\"}\")])\n",
    "    return skills\n",
    "\n",
    "print(extract_skills_from_hint_value(\"**\\\\link{Glossary}{/glossary}**\\n\\n<GLOSS> Steady state\\n\\n**Concepts**\\n\\n\\\\link{Capacitors}{/concepts/cp_capacitor}\\n\\n\\\\link{Kirchhoff's Laws}{/concepts/cp_kirchhoffs_laws}\"))\n"
   ]
  },
  {
   "cell_type": "code",
   "execution_count": 4,
   "metadata": {},
   "outputs": [
    {
     "name": "stdout",
     "output_type": "stream",
     "text": [
      "[{'question_page_id': 'a_capacitor_conundrum', 'tag': 'capacitors|electricity|physics|problem_solving', 'audience_stage': 'a_level', 'audience_difficulty': 'challenge_2', 'skill_id': 'cp_capacitor|cp_kirchhoffs_laws', 'question_part_id': '426a8866-7e8b-456f-b9f8-b623ba50fe01', 'major_skills': 'cp_kirchhoffs_laws|cp_capacitor', 'first_skill': 'cp_capacitor'}]\n"
     ]
    }
   ],
   "source": [
    "def extract_question_part_entries_from_json(path: str) -> Optional[List[Dict[str, str]]]:\n",
    "    #print(f\"extract_question_part_entries_from_json called with {path}\")\n",
    "    if \".json\" != path[-5:]:\n",
    "        return None\n",
    "    with open(path, \"r\") as f:\n",
    "        data = json.load(f)\n",
    "\n",
    "        if ('type' not in data or data['type'] != 'isaacQuestionPage' or \n",
    "                'published' not in data or data['published'] != True or\n",
    "                    'children' not in data):\n",
    "            return None\n",
    "\n",
    "        question_page_id = data['id']\n",
    "        tag = '|'.join(data['tags'])\n",
    "        whole_question_dict = {\n",
    "            \"question_page_id\": question_page_id,\n",
    "            \"tag\": tag,\n",
    "        }\n",
    "\n",
    "        audiences = []\n",
    "        if 'audience' in data:\n",
    "            audience_stage = None\n",
    "            audience_difficulty = None\n",
    "            for audience_record in data['audience']:\n",
    "                if 'stage' in audience_record:\n",
    "                    audience_stage = '|'.join(audience_record['stage'])\n",
    "                if 'difficulty' in audience_record:\n",
    "                    audience_difficulty = '|'.join(audience_record['difficulty'])\n",
    "            audiences.append({\n",
    "                \"audience_stage\": audience_stage,\n",
    "                \"audience_difficulty\": audience_difficulty,\n",
    "            })\n",
    "\n",
    "        question_parts = []\n",
    "        for child in data['children']:\n",
    "            if child['type'] in [\"isaacMultiChoiceQuestion\", \"isaacItemQuestion\", \"isaacReorderQuestion\", \"isaacParsonsQuestion\", \"isaacNumericQuestion\", \"isaacSymbolicQuestion\", \"isaacSymbolicChemistryQuestion\", \"isaacStringMatchQuestion\", \"isaacFreeTextQuestion\", \"isaacSymbolicLogicQuestion\", \"isaacGraphSketcherQuestion\", \"isaacClozeQuestion\"]:\n",
    "                first_hint = \"\"\n",
    "                if 'hints' in child and len(child['hints']) > 0:\n",
    "                    if 'children' in child['hints'][0]:\n",
    "                        if 'value' in child['hints'][0]['children'][0]:\n",
    "                            first_hint = child['hints'][0]['children'][0]['value']\n",
    "                    else:\n",
    "                        if 'value' in child['hints'][0]:\n",
    "                            first_hint = child['hints'][0]['value']\n",
    "                \n",
    "                skills = extract_skills_from_hint_value(first_hint)\n",
    "                major_skills = {skill.split('#')[0] for skill in skills}\n",
    "                first_skill = None\n",
    "                if len(skills) > 0:\n",
    "                    first_skill = skills[0].split('#')[0]\n",
    "                question_parts.append({\n",
    "                    \"skill_id\": '|'.join(skills),\n",
    "                    \"question_part_id\": child['id'],\n",
    "                    \"major_skills\": '|'.join(major_skills),\n",
    "                    \"first_skill\": first_skill,\n",
    "                })\n",
    "\n",
    "        question_part_list = []\n",
    "        if len(question_parts) > 0:\n",
    "            assert len(audiences) <= 1\n",
    "            if len(audiences) == 1:\n",
    "                for i in range(len(question_parts)):\n",
    "                    question_part_list.append({**whole_question_dict, **audiences[0], **question_parts[i]})\n",
    "            else:\n",
    "                #ignore audiences\n",
    "                for i in range(len(question_parts)):\n",
    "                    question_part_list.append({**whole_question_dict, **question_parts[i]})\n",
    "        \n",
    "        return question_part_list\n",
    "\n",
    "print(extract_question_part_entries_from_json(isaac_content_directory + \"questions/physics/circuits/capacitors/level4/a_capacitor_conundrum.json\"))\n"
   ]
  },
  {
   "cell_type": "code",
   "execution_count": 18,
   "metadata": {},
   "outputs": [
    {
     "name": "stdout",
     "output_type": "stream",
     "text": [
      "          question_page_id                                                tag  \\\n",
      "0                jury_duty       maths|probability|problem_solving|statistics   \n",
      "1          integration_3_2  calculus|integration|maths|maths_book|problem_...   \n",
      "2          integration_3_6  calculus|integration|maths|maths_book|problem_...   \n",
      "3          integration_3_4  calculus|integration|maths|maths_book|problem_...   \n",
      "4     int_substitution_new  calculus|integration|maths|maths_book|problem_...   \n",
      "...                    ...                                                ...   \n",
      "2809          chem_16_c2_9  book|chemistry_16|chemistry|foundations|stoich...   \n",
      "2810          chem_16_c2_3  book|chemistry_16|chemistry|foundations|stoich...   \n",
      "2811          chem_16_c2_5  book|chemistry_16|chemistry|foundations|stoich...   \n",
      "2812          chem_16_c2_7  book|chemistry_16|chemistry|foundations|stoich...   \n",
      "2813          chem_16_c2_2  book|chemistry_16|chemistry|foundations|stoich...   \n",
      "\n",
      "     audience_stage audience_difficulty  \\\n",
      "0              gcse         challenge_3   \n",
      "1         further_a          practice_1   \n",
      "2         further_a          practice_1   \n",
      "3         further_a          practice_1   \n",
      "4        university         challenge_1   \n",
      "...             ...                 ...   \n",
      "2809        a_level          practice_1   \n",
      "2810        a_level          practice_1   \n",
      "2811        a_level          practice_1   \n",
      "2812        a_level          practice_1   \n",
      "2813        a_level          practice_1   \n",
      "\n",
      "                                               skill_id  \\\n",
      "0                                                         \n",
      "1     cm_integration#cm_acc_indefinite_integrals|cm_...   \n",
      "2     cm_integration#cm_acc_integration_area|cm_inte...   \n",
      "3     cm_integration#cm_acc_indefinite_integrals|cm_...   \n",
      "4     cm_integration3#cm_acc_substitution|cm_integra...   \n",
      "...                                                 ...   \n",
      "2809                                                      \n",
      "2810                                                      \n",
      "2811                                                      \n",
      "2812                                                      \n",
      "2813                                                      \n",
      "\n",
      "                          question_part_id  \\\n",
      "0     cb4bd239-c4b9-4062-b798-2dabb4f048c7   \n",
      "1     d7604445-3021-4cee-a1b5-4a6a146877b0   \n",
      "2     50d404b7-4a9a-45fd-8ed2-628c1c4f3648   \n",
      "3     dd261282-c672-4399-8ffa-53964d7526a6   \n",
      "4     ed6f834f-21d7-4ca6-a04a-7f178d04f9d5   \n",
      "...                                    ...   \n",
      "2809  133840ef-42b8-4ce4-a645-413ac075f2f3   \n",
      "2810  5313dbc6-d736-48e8-9d3c-9c7b734902fb   \n",
      "2811  34ae87bf-5178-43c1-808b-731868034ba3   \n",
      "2812  da64413f-cba8-4a2b-895c-1a66e8358f38   \n",
      "2813  5a5cb457-2679-4720-ba6a-fd2969c80000   \n",
      "\n",
      "                                           major_skills      first_skill  \n",
      "0                                                                   None  \n",
      "1     cm_integration|cm_algebra_manip_index|cm_funct...   cm_integration  \n",
      "2                       cm_algebra_quadr|cm_integration   cm_integration  \n",
      "3     cm_integration|cm_functions_simple|cm_algebra_...   cm_integration  \n",
      "4        cm_integration|cm_integration3|cm_integration2  cm_integration3  \n",
      "...                                                 ...              ...  \n",
      "2809                                                                None  \n",
      "2810                                                                None  \n",
      "2811                                                                None  \n",
      "2812                                                                None  \n",
      "2813                                                                None  \n",
      "\n",
      "[2814 rows x 8 columns]\n"
     ]
    }
   ],
   "source": [
    "def iterate_directory(directory: str) -> List[Dict[str, str]]:\n",
    "    #print(f\"iterate_directory called with: {directory}\")\n",
    "    entries = []\n",
    "    for filename in os.listdir(directory):\n",
    "        f = os.path.join(directory, filename)\n",
    "        if os.path.isfile(f):\n",
    "            question_part_entries = extract_question_part_entries_from_json(f)\n",
    "            if question_part_entries is not None:\n",
    "                entries.extend(question_part_entries)\n",
    "        else:\n",
    "            entries.extend(iterate_directory(f))\n",
    "    return entries\n",
    "\n",
    "result = iterate_directory(isaac_content_directory)\n",
    "df = pd.DataFrame(result)\n",
    "df.head()"
   ]
  },
  {
   "cell_type": "code",
   "execution_count": 20,
   "metadata": {},
   "outputs": [],
   "source": [
    "df_to_file = df\n",
    "df_to_file['question_id'] = df_to_file['question_page_id'] + '|' + df_to_file['question_part_id']"
   ]
  },
  {
   "cell_type": "code",
   "execution_count": 21,
   "metadata": {},
   "outputs": [],
   "source": [
    "df_to_file.to_csv(isaac_data_folder + 'question_entries.csv', columns=[\"question_id\", \"skill_id\", \"major_skills\", \"first_skill\", \"tag\", \"audience_stage\", \"audience_difficulty\"])\n"
   ]
  },
  {
   "cell_type": "code",
   "execution_count": 131,
   "metadata": {},
   "outputs": [
    {
     "name": "stdout",
     "output_type": "stream",
     "text": [
      "number of questions: 2814\n",
      "number of questions with no skills: 2095\n",
      "number of records with empty audience: 447\n"
     ]
    }
   ],
   "source": [
    "print(f\"number of questions: {len(df)}\")\n",
    "print(f\"number of questions with no skills: {sum(df['skill_id'] == '')}\")\n",
    "print(f\"number of records with empty audience: {sum(df['audience_stage'].isna())}\")"
   ]
  }
 ],
 "metadata": {
  "kernelspec": {
   "display_name": "Python 3.8.10 64-bit",
   "language": "python",
   "name": "python3"
  },
  "language_info": {
   "codemirror_mode": {
    "name": "ipython",
    "version": 3
   },
   "file_extension": ".py",
   "mimetype": "text/x-python",
   "name": "python",
   "nbconvert_exporter": "python",
   "pygments_lexer": "ipython3",
   "version": "3.8.10"
  },
  "orig_nbformat": 4,
  "vscode": {
   "interpreter": {
    "hash": "916dbcbb3f70747c44a77c7bcd40155683ae19c65e1c03b4aa3499c5328201f1"
   }
  }
 },
 "nbformat": 4,
 "nbformat_minor": 2
}
