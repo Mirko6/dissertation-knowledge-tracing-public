{
 "cells": [
  {
   "cell_type": "code",
   "execution_count": 1,
   "metadata": {},
   "outputs": [],
   "source": [
    "from config import *\n",
    "from main_package.utils import data_path_to_abs_path, csv_to_df_fixed_params, minimize_bkt, evaluate_bkt\n",
    "from main_package.bkts import bkt, bkt_forget\n",
    "import pandas as pd"
   ]
  },
  {
   "attachments": {},
   "cell_type": "markdown",
   "metadata": {},
   "source": [
    "process question entries"
   ]
  },
  {
   "cell_type": "code",
   "execution_count": 2,
   "metadata": {},
   "outputs": [
    {
     "data": {
      "text/html": [
       "<div>\n",
       "<style scoped>\n",
       "    .dataframe tbody tr th:only-of-type {\n",
       "        vertical-align: middle;\n",
       "    }\n",
       "\n",
       "    .dataframe tbody tr th {\n",
       "        vertical-align: top;\n",
       "    }\n",
       "\n",
       "    .dataframe thead th {\n",
       "        text-align: right;\n",
       "    }\n",
       "</style>\n",
       "<table border=\"1\" class=\"dataframe\">\n",
       "  <thead>\n",
       "    <tr style=\"text-align: right;\">\n",
       "      <th></th>\n",
       "      <th>Unnamed: 0</th>\n",
       "      <th>question_id</th>\n",
       "      <th>skill_id</th>\n",
       "      <th>major_skills</th>\n",
       "      <th>first_skill</th>\n",
       "      <th>tag</th>\n",
       "      <th>audience_stage</th>\n",
       "      <th>audience_difficulty</th>\n",
       "    </tr>\n",
       "  </thead>\n",
       "  <tbody>\n",
       "    <tr>\n",
       "      <th>0</th>\n",
       "      <td>0</td>\n",
       "      <td>jury_duty|cb4bd239-c4b9-4062-b798-2dabb4f048c7</td>\n",
       "      <td>NaN</td>\n",
       "      <td>NaN</td>\n",
       "      <td>NaN</td>\n",
       "      <td>maths|probability|problem_solving|statistics</td>\n",
       "      <td>gcse</td>\n",
       "      <td>challenge_3</td>\n",
       "    </tr>\n",
       "    <tr>\n",
       "      <th>1</th>\n",
       "      <td>1</td>\n",
       "      <td>integration_3_2|d7604445-3021-4cee-a1b5-4a6a14...</td>\n",
       "      <td>cm_integration#cm_acc_indefinite_integrals|cm_...</td>\n",
       "      <td>cm_integration|cm_algebra_manip_index|cm_funct...</td>\n",
       "      <td>cm_integration</td>\n",
       "      <td>calculus|integration|maths|maths_book|problem_...</td>\n",
       "      <td>further_a</td>\n",
       "      <td>practice_1</td>\n",
       "    </tr>\n",
       "    <tr>\n",
       "      <th>2</th>\n",
       "      <td>2</td>\n",
       "      <td>integration_3_6|50d404b7-4a9a-45fd-8ed2-628c1c...</td>\n",
       "      <td>cm_integration#cm_acc_integration_area|cm_inte...</td>\n",
       "      <td>cm_algebra_quadr|cm_integration</td>\n",
       "      <td>cm_integration</td>\n",
       "      <td>calculus|integration|maths|maths_book|problem_...</td>\n",
       "      <td>further_a</td>\n",
       "      <td>practice_1</td>\n",
       "    </tr>\n",
       "    <tr>\n",
       "      <th>3</th>\n",
       "      <td>3</td>\n",
       "      <td>integration_3_4|dd261282-c672-4399-8ffa-53964d...</td>\n",
       "      <td>cm_integration#cm_acc_indefinite_integrals|cm_...</td>\n",
       "      <td>cm_integration|cm_functions_simple|cm_algebra_...</td>\n",
       "      <td>cm_integration</td>\n",
       "      <td>calculus|integration|maths|maths_book|problem_...</td>\n",
       "      <td>further_a</td>\n",
       "      <td>practice_1</td>\n",
       "    </tr>\n",
       "    <tr>\n",
       "      <th>4</th>\n",
       "      <td>4</td>\n",
       "      <td>int_substitution_new|ed6f834f-21d7-4ca6-a04a-7...</td>\n",
       "      <td>cm_integration3#cm_acc_substitution|cm_integra...</td>\n",
       "      <td>cm_integration|cm_integration3|cm_integration2</td>\n",
       "      <td>cm_integration3</td>\n",
       "      <td>calculus|integration|maths|maths_book|problem_...</td>\n",
       "      <td>university</td>\n",
       "      <td>challenge_1</td>\n",
       "    </tr>\n",
       "  </tbody>\n",
       "</table>\n",
       "</div>"
      ],
      "text/plain": [
       "   Unnamed: 0                                        question_id  \\\n",
       "0           0     jury_duty|cb4bd239-c4b9-4062-b798-2dabb4f048c7   \n",
       "1           1  integration_3_2|d7604445-3021-4cee-a1b5-4a6a14...   \n",
       "2           2  integration_3_6|50d404b7-4a9a-45fd-8ed2-628c1c...   \n",
       "3           3  integration_3_4|dd261282-c672-4399-8ffa-53964d...   \n",
       "4           4  int_substitution_new|ed6f834f-21d7-4ca6-a04a-7...   \n",
       "\n",
       "                                            skill_id  \\\n",
       "0                                                NaN   \n",
       "1  cm_integration#cm_acc_indefinite_integrals|cm_...   \n",
       "2  cm_integration#cm_acc_integration_area|cm_inte...   \n",
       "3  cm_integration#cm_acc_indefinite_integrals|cm_...   \n",
       "4  cm_integration3#cm_acc_substitution|cm_integra...   \n",
       "\n",
       "                                        major_skills      first_skill  \\\n",
       "0                                                NaN              NaN   \n",
       "1  cm_integration|cm_algebra_manip_index|cm_funct...   cm_integration   \n",
       "2                    cm_algebra_quadr|cm_integration   cm_integration   \n",
       "3  cm_integration|cm_functions_simple|cm_algebra_...   cm_integration   \n",
       "4     cm_integration|cm_integration3|cm_integration2  cm_integration3   \n",
       "\n",
       "                                                 tag audience_stage  \\\n",
       "0       maths|probability|problem_solving|statistics           gcse   \n",
       "1  calculus|integration|maths|maths_book|problem_...      further_a   \n",
       "2  calculus|integration|maths|maths_book|problem_...      further_a   \n",
       "3  calculus|integration|maths|maths_book|problem_...      further_a   \n",
       "4  calculus|integration|maths|maths_book|problem_...     university   \n",
       "\n",
       "  audience_difficulty  \n",
       "0         challenge_3  \n",
       "1          practice_1  \n",
       "2          practice_1  \n",
       "3          practice_1  \n",
       "4         challenge_1  "
      ]
     },
     "execution_count": 2,
     "metadata": {},
     "output_type": "execute_result"
    }
   ],
   "source": [
    "question_entries = pd.read_csv(data_path_to_abs_path('isaac/question_entries.csv'))\n",
    "question_entries.head()"
   ]
  },
  {
   "cell_type": "code",
   "execution_count": 3,
   "metadata": {},
   "outputs": [],
   "source": [
    "df_qe = question_entries[['question_id', 'skill_id', 'major_skills', 'first_skill']]\n",
    "df_qe = df_qe.set_index('question_id')\n",
    "df_qe = df_qe[~df_qe['first_skill'].isna()]\n",
    "qe_double_dict = df_qe.to_dict('index')\n",
    "#qe_dict = {question_id: first_skill_skill_id['first_skill'] for question_id, first_skill_skill_id in qe_dict_first_skill.items()}\n"
   ]
  },
  {
   "attachments": {},
   "cell_type": "markdown",
   "metadata": {},
   "source": [
    "process interaction data"
   ]
  },
  {
   "cell_type": "code",
   "execution_count": 5,
   "metadata": {},
   "outputs": [
    {
     "name": "stdout",
     "output_type": "stream",
     "text": [
      "part 0\n"
     ]
    },
    {
     "name": "stderr",
     "output_type": "stream",
     "text": [
      "/tmp/ipykernel_1544/1795933596.py:7: SettingWithCopyWarning: \n",
      "A value is trying to be set on a copy of a slice from a DataFrame.\n",
      "Try using .loc[row_indexer,col_indexer] = value instead\n",
      "\n",
      "See the caveats in the documentation: https://pandas.pydata.org/pandas-docs/stable/user_guide/indexing.html#returning-a-view-versus-a-copy\n",
      "  df_filtered['first_skill'] = df_filtered['question_id'].apply(lambda question_id: qe_double_dict[question_id]['first_skill'])\n",
      "/tmp/ipykernel_1544/1795933596.py:8: SettingWithCopyWarning: \n",
      "A value is trying to be set on a copy of a slice from a DataFrame.\n",
      "Try using .loc[row_indexer,col_indexer] = value instead\n",
      "\n",
      "See the caveats in the documentation: https://pandas.pydata.org/pandas-docs/stable/user_guide/indexing.html#returning-a-view-versus-a-copy\n",
      "  df_filtered['major_skills'] = df_filtered['question_id'].apply(lambda question_id: qe_double_dict[question_id]['major_skills'])\n",
      "/tmp/ipykernel_1544/1795933596.py:9: SettingWithCopyWarning: \n",
      "A value is trying to be set on a copy of a slice from a DataFrame.\n",
      "Try using .loc[row_indexer,col_indexer] = value instead\n",
      "\n",
      "See the caveats in the documentation: https://pandas.pydata.org/pandas-docs/stable/user_guide/indexing.html#returning-a-view-versus-a-copy\n",
      "  df_filtered['original_skill_id'] = df_filtered['question_id'].apply(lambda question_id: qe_double_dict[question_id]['skill_id'])\n"
     ]
    },
    {
     "name": "stdout",
     "output_type": "stream",
     "text": [
      "original size: 4377226\n",
      "filtered size: 137318\n",
      "part 1\n"
     ]
    },
    {
     "name": "stderr",
     "output_type": "stream",
     "text": [
      "/tmp/ipykernel_1544/1795933596.py:7: SettingWithCopyWarning: \n",
      "A value is trying to be set on a copy of a slice from a DataFrame.\n",
      "Try using .loc[row_indexer,col_indexer] = value instead\n",
      "\n",
      "See the caveats in the documentation: https://pandas.pydata.org/pandas-docs/stable/user_guide/indexing.html#returning-a-view-versus-a-copy\n",
      "  df_filtered['first_skill'] = df_filtered['question_id'].apply(lambda question_id: qe_double_dict[question_id]['first_skill'])\n",
      "/tmp/ipykernel_1544/1795933596.py:8: SettingWithCopyWarning: \n",
      "A value is trying to be set on a copy of a slice from a DataFrame.\n",
      "Try using .loc[row_indexer,col_indexer] = value instead\n",
      "\n",
      "See the caveats in the documentation: https://pandas.pydata.org/pandas-docs/stable/user_guide/indexing.html#returning-a-view-versus-a-copy\n",
      "  df_filtered['major_skills'] = df_filtered['question_id'].apply(lambda question_id: qe_double_dict[question_id]['major_skills'])\n",
      "/tmp/ipykernel_1544/1795933596.py:9: SettingWithCopyWarning: \n",
      "A value is trying to be set on a copy of a slice from a DataFrame.\n",
      "Try using .loc[row_indexer,col_indexer] = value instead\n",
      "\n",
      "See the caveats in the documentation: https://pandas.pydata.org/pandas-docs/stable/user_guide/indexing.html#returning-a-view-versus-a-copy\n",
      "  df_filtered['original_skill_id'] = df_filtered['question_id'].apply(lambda question_id: qe_double_dict[question_id]['skill_id'])\n"
     ]
    },
    {
     "name": "stdout",
     "output_type": "stream",
     "text": [
      "original size: 4497813\n",
      "filtered size: 144828\n",
      "part 2\n"
     ]
    },
    {
     "name": "stderr",
     "output_type": "stream",
     "text": [
      "/tmp/ipykernel_1544/1795933596.py:7: SettingWithCopyWarning: \n",
      "A value is trying to be set on a copy of a slice from a DataFrame.\n",
      "Try using .loc[row_indexer,col_indexer] = value instead\n",
      "\n",
      "See the caveats in the documentation: https://pandas.pydata.org/pandas-docs/stable/user_guide/indexing.html#returning-a-view-versus-a-copy\n",
      "  df_filtered['first_skill'] = df_filtered['question_id'].apply(lambda question_id: qe_double_dict[question_id]['first_skill'])\n",
      "/tmp/ipykernel_1544/1795933596.py:8: SettingWithCopyWarning: \n",
      "A value is trying to be set on a copy of a slice from a DataFrame.\n",
      "Try using .loc[row_indexer,col_indexer] = value instead\n",
      "\n",
      "See the caveats in the documentation: https://pandas.pydata.org/pandas-docs/stable/user_guide/indexing.html#returning-a-view-versus-a-copy\n",
      "  df_filtered['major_skills'] = df_filtered['question_id'].apply(lambda question_id: qe_double_dict[question_id]['major_skills'])\n",
      "/tmp/ipykernel_1544/1795933596.py:9: SettingWithCopyWarning: \n",
      "A value is trying to be set on a copy of a slice from a DataFrame.\n",
      "Try using .loc[row_indexer,col_indexer] = value instead\n",
      "\n",
      "See the caveats in the documentation: https://pandas.pydata.org/pandas-docs/stable/user_guide/indexing.html#returning-a-view-versus-a-copy\n",
      "  df_filtered['original_skill_id'] = df_filtered['question_id'].apply(lambda question_id: qe_double_dict[question_id]['skill_id'])\n"
     ]
    },
    {
     "name": "stdout",
     "output_type": "stream",
     "text": [
      "original size: 4412202\n",
      "filtered size: 148470\n",
      "part 3\n",
      "original size: 1467353\n",
      "filtered size: 49918\n"
     ]
    },
    {
     "name": "stderr",
     "output_type": "stream",
     "text": [
      "/tmp/ipykernel_1544/1795933596.py:7: SettingWithCopyWarning: \n",
      "A value is trying to be set on a copy of a slice from a DataFrame.\n",
      "Try using .loc[row_indexer,col_indexer] = value instead\n",
      "\n",
      "See the caveats in the documentation: https://pandas.pydata.org/pandas-docs/stable/user_guide/indexing.html#returning-a-view-versus-a-copy\n",
      "  df_filtered['first_skill'] = df_filtered['question_id'].apply(lambda question_id: qe_double_dict[question_id]['first_skill'])\n",
      "/tmp/ipykernel_1544/1795933596.py:8: SettingWithCopyWarning: \n",
      "A value is trying to be set on a copy of a slice from a DataFrame.\n",
      "Try using .loc[row_indexer,col_indexer] = value instead\n",
      "\n",
      "See the caveats in the documentation: https://pandas.pydata.org/pandas-docs/stable/user_guide/indexing.html#returning-a-view-versus-a-copy\n",
      "  df_filtered['major_skills'] = df_filtered['question_id'].apply(lambda question_id: qe_double_dict[question_id]['major_skills'])\n",
      "/tmp/ipykernel_1544/1795933596.py:9: SettingWithCopyWarning: \n",
      "A value is trying to be set on a copy of a slice from a DataFrame.\n",
      "Try using .loc[row_indexer,col_indexer] = value instead\n",
      "\n",
      "See the caveats in the documentation: https://pandas.pydata.org/pandas-docs/stable/user_guide/indexing.html#returning-a-view-versus-a-copy\n",
      "  df_filtered['original_skill_id'] = df_filtered['question_id'].apply(lambda question_id: qe_double_dict[question_id]['skill_id'])\n"
     ]
    }
   ],
   "source": [
    "dfs = []\n",
    "for i in range(4):\n",
    "    print(f'part {i}')\n",
    "    df = pd.read_csv(data_path_to_abs_path(f'isaac/interaction_data/part_{i}.csv'))\n",
    "    df = df.rename(columns={'correct': 'correct_letter'})\n",
    "    df_filtered = df.loc[df['question_id'].map(lambda q: q in qe_double_dict)]\n",
    "    df_filtered['first_skill'] = df_filtered['question_id'].apply(lambda question_id: qe_double_dict[question_id]['first_skill'])\n",
    "    df_filtered['major_skills'] = df_filtered['question_id'].apply(lambda question_id: qe_double_dict[question_id]['major_skills'])\n",
    "    df_filtered['original_skill_id'] = df_filtered['question_id'].apply(lambda question_id: qe_double_dict[question_id]['skill_id'])\n",
    "    print(f'original size: {len(df)}')\n",
    "    print(f'filtered size: {len(df_filtered)}')\n",
    "    dfs.append(df_filtered)"
   ]
  },
  {
   "cell_type": "code",
   "execution_count": 10,
   "metadata": {},
   "outputs": [
    {
     "name": "stdout",
     "output_type": "stream",
     "text": [
      "480534\n"
     ]
    },
    {
     "data": {
      "text/html": [
       "<div>\n",
       "<style scoped>\n",
       "    .dataframe tbody tr th:only-of-type {\n",
       "        vertical-align: middle;\n",
       "    }\n",
       "\n",
       "    .dataframe tbody tr th {\n",
       "        vertical-align: top;\n",
       "    }\n",
       "\n",
       "    .dataframe thead th {\n",
       "        text-align: right;\n",
       "    }\n",
       "</style>\n",
       "<table border=\"1\" class=\"dataframe\">\n",
       "  <thead>\n",
       "    <tr style=\"text-align: right;\">\n",
       "      <th></th>\n",
       "      <th>user_id</th>\n",
       "      <th>question_id</th>\n",
       "      <th>first_skill</th>\n",
       "      <th>major_skills</th>\n",
       "      <th>original_skill_id</th>\n",
       "      <th>correct</th>\n",
       "    </tr>\n",
       "  </thead>\n",
       "  <tbody>\n",
       "    <tr>\n",
       "      <th>22</th>\n",
       "      <td>0</td>\n",
       "      <td>range_of_related_resistors|559c8faa-29c5-4c44-...</td>\n",
       "      <td>cp_ohms_law</td>\n",
       "      <td>cp_electrical_components|cp_ohms_law</td>\n",
       "      <td>cp_ohms_law|cp_electrical_components#acc_cp_el...</td>\n",
       "      <td>0</td>\n",
       "    </tr>\n",
       "    <tr>\n",
       "      <th>31</th>\n",
       "      <td>6</td>\n",
       "      <td>action_reaction_pairs|0abe418d-2f72-4836-99e7-...</td>\n",
       "      <td>cp_newtoniii</td>\n",
       "      <td>cp_newtoniii</td>\n",
       "      <td>cp_newtoniii</td>\n",
       "      <td>0</td>\n",
       "    </tr>\n",
       "    <tr>\n",
       "      <th>207</th>\n",
       "      <td>15</td>\n",
       "      <td>two_mass_peg|51db6aee-3a09-4c8a-a506-95db09a28ac9</td>\n",
       "      <td>cp_eq_of_motion</td>\n",
       "      <td>cp_newtonii|cp_eq_of_motion|cp_force</td>\n",
       "      <td>cp_eq_of_motion|cp_force|cp_newtonii</td>\n",
       "      <td>1</td>\n",
       "    </tr>\n",
       "    <tr>\n",
       "      <th>209</th>\n",
       "      <td>15</td>\n",
       "      <td>acc_stone|f9f330ef-4cdc-41ab-9114-283beeb6739a</td>\n",
       "      <td>cp_eq_of_motion</td>\n",
       "      <td>cp_newtonii|cm_vectors2|cp_eq_of_motion</td>\n",
       "      <td>cp_eq_of_motion|cm_vectors2|cp_newtonii</td>\n",
       "      <td>0</td>\n",
       "    </tr>\n",
       "    <tr>\n",
       "      <th>210</th>\n",
       "      <td>15</td>\n",
       "      <td>pulling_nail|d9270e02-b861-4bb8-b380-a276781b78c4</td>\n",
       "      <td>cp_force</td>\n",
       "      <td>cm_vectors2|cp_force</td>\n",
       "      <td>cp_force|cm_vectors2</td>\n",
       "      <td>0</td>\n",
       "    </tr>\n",
       "  </tbody>\n",
       "</table>\n",
       "</div>"
      ],
      "text/plain": [
       "     user_id                                        question_id  \\\n",
       "22         0  range_of_related_resistors|559c8faa-29c5-4c44-...   \n",
       "31         6  action_reaction_pairs|0abe418d-2f72-4836-99e7-...   \n",
       "207       15  two_mass_peg|51db6aee-3a09-4c8a-a506-95db09a28ac9   \n",
       "209       15     acc_stone|f9f330ef-4cdc-41ab-9114-283beeb6739a   \n",
       "210       15  pulling_nail|d9270e02-b861-4bb8-b380-a276781b78c4   \n",
       "\n",
       "         first_skill                             major_skills  \\\n",
       "22       cp_ohms_law     cp_electrical_components|cp_ohms_law   \n",
       "31      cp_newtoniii                             cp_newtoniii   \n",
       "207  cp_eq_of_motion     cp_newtonii|cp_eq_of_motion|cp_force   \n",
       "209  cp_eq_of_motion  cp_newtonii|cm_vectors2|cp_eq_of_motion   \n",
       "210         cp_force                     cm_vectors2|cp_force   \n",
       "\n",
       "                                     original_skill_id  correct  \n",
       "22   cp_ohms_law|cp_electrical_components#acc_cp_el...        0  \n",
       "31                                        cp_newtoniii        0  \n",
       "207               cp_eq_of_motion|cp_force|cp_newtonii        1  \n",
       "209            cp_eq_of_motion|cm_vectors2|cp_newtonii        0  \n",
       "210                               cp_force|cm_vectors2        0  "
      ]
     },
     "execution_count": 10,
     "metadata": {},
     "output_type": "execute_result"
    }
   ],
   "source": [
    "df = pd.concat(dfs)\n",
    "df['correct'] = df['correct_letter'].apply(lambda letter: 1 if letter=='t' else 0)\n",
    "df = df.drop(columns='correct_letter')\n",
    "print(len(df))\n",
    "df.head()"
   ]
  },
  {
   "cell_type": "code",
   "execution_count": 11,
   "metadata": {},
   "outputs": [],
   "source": [
    "# convert to Asisstment format\n",
    "for column_name in ['original_skill_id', 'first_skill', 'major_skills']:\n",
    "    df.loc[:, column_name] = df.loc[:, column_name].apply(\n",
    "        lambda skill: skill.replace('_', '--').replace('|', '_')\n",
    "    )\n",
    "\n",
    "df['skill_id'] = df['first_skill']\n",
    "# df['skill_id'] = df['major_skills']\n",
    "df = df[['user_id', 'question_id', 'correct', 'skill_id']]\n",
    "df.rename(inplace=True, columns={'question_id': 'problem_id'})\n",
    "df = df.reset_index(drop=True).reset_index().rename(columns={'index': 'order_id'})"
   ]
  },
  {
   "cell_type": "code",
   "execution_count": 12,
   "metadata": {},
   "outputs": [
    {
     "data": {
      "text/html": [
       "<div>\n",
       "<style scoped>\n",
       "    .dataframe tbody tr th:only-of-type {\n",
       "        vertical-align: middle;\n",
       "    }\n",
       "\n",
       "    .dataframe tbody tr th {\n",
       "        vertical-align: top;\n",
       "    }\n",
       "\n",
       "    .dataframe thead th {\n",
       "        text-align: right;\n",
       "    }\n",
       "</style>\n",
       "<table border=\"1\" class=\"dataframe\">\n",
       "  <thead>\n",
       "    <tr style=\"text-align: right;\">\n",
       "      <th></th>\n",
       "      <th>order_id</th>\n",
       "      <th>user_id</th>\n",
       "      <th>problem_id</th>\n",
       "      <th>correct</th>\n",
       "      <th>skill_id</th>\n",
       "    </tr>\n",
       "  </thead>\n",
       "  <tbody>\n",
       "    <tr>\n",
       "      <th>0</th>\n",
       "      <td>0</td>\n",
       "      <td>0</td>\n",
       "      <td>range_of_related_resistors|559c8faa-29c5-4c44-...</td>\n",
       "      <td>0</td>\n",
       "      <td>cp--ohms--law</td>\n",
       "    </tr>\n",
       "    <tr>\n",
       "      <th>1</th>\n",
       "      <td>1</td>\n",
       "      <td>6</td>\n",
       "      <td>action_reaction_pairs|0abe418d-2f72-4836-99e7-...</td>\n",
       "      <td>0</td>\n",
       "      <td>cp--newtoniii</td>\n",
       "    </tr>\n",
       "    <tr>\n",
       "      <th>2</th>\n",
       "      <td>2</td>\n",
       "      <td>15</td>\n",
       "      <td>two_mass_peg|51db6aee-3a09-4c8a-a506-95db09a28ac9</td>\n",
       "      <td>1</td>\n",
       "      <td>cp--eq--of--motion</td>\n",
       "    </tr>\n",
       "    <tr>\n",
       "      <th>3</th>\n",
       "      <td>3</td>\n",
       "      <td>15</td>\n",
       "      <td>acc_stone|f9f330ef-4cdc-41ab-9114-283beeb6739a</td>\n",
       "      <td>0</td>\n",
       "      <td>cp--eq--of--motion</td>\n",
       "    </tr>\n",
       "    <tr>\n",
       "      <th>4</th>\n",
       "      <td>4</td>\n",
       "      <td>15</td>\n",
       "      <td>pulling_nail|d9270e02-b861-4bb8-b380-a276781b78c4</td>\n",
       "      <td>0</td>\n",
       "      <td>cp--force</td>\n",
       "    </tr>\n",
       "  </tbody>\n",
       "</table>\n",
       "</div>"
      ],
      "text/plain": [
       "   order_id  user_id                                         problem_id  \\\n",
       "0         0        0  range_of_related_resistors|559c8faa-29c5-4c44-...   \n",
       "1         1        6  action_reaction_pairs|0abe418d-2f72-4836-99e7-...   \n",
       "2         2       15  two_mass_peg|51db6aee-3a09-4c8a-a506-95db09a28ac9   \n",
       "3         3       15     acc_stone|f9f330ef-4cdc-41ab-9114-283beeb6739a   \n",
       "4         4       15  pulling_nail|d9270e02-b861-4bb8-b380-a276781b78c4   \n",
       "\n",
       "   correct            skill_id  \n",
       "0        0       cp--ohms--law  \n",
       "1        0       cp--newtoniii  \n",
       "2        1  cp--eq--of--motion  \n",
       "3        0  cp--eq--of--motion  \n",
       "4        0           cp--force  "
      ]
     },
     "execution_count": 12,
     "metadata": {},
     "output_type": "execute_result"
    }
   ],
   "source": [
    "df.head()"
   ]
  },
  {
   "cell_type": "code",
   "execution_count": 13,
   "metadata": {},
   "outputs": [],
   "source": [
    "# df.to_csv('skill_builder_data_corrected_collapsed.csv')\n",
    "df.to_csv('skill_builder_data_corrected_collapsed.csv')"
   ]
  },
  {
   "attachments": {},
   "cell_type": "markdown",
   "metadata": {},
   "source": [
    "old stuff - running bkt on it"
   ]
  },
  {
   "cell_type": "code",
   "execution_count": 6,
   "metadata": {},
   "outputs": [],
   "source": [
    "from sklearn.model_selection import train_test_split\n",
    "df_train, df_test = train_test_split(df, test_size=0.2)\n",
    "# ensure question attempts are sorted\n",
    "df_train.sort_index(inplace=True)\n",
    "df_test.sort_index(inplace=True)\n",
    "fixed_params_train = [\n",
    "    df_train[\"user_id\"].to_numpy(dtype=str),\n",
    "    df_train[\"skill_id\"].to_numpy(dtype=str),\n",
    "    df_train[\"correct\"].to_numpy(dtype=bool),\n",
    "]\n",
    "fixed_params_test = [\n",
    "    df_test[\"user_id\"].to_numpy(dtype=str),\n",
    "    df_test[\"skill_id\"].to_numpy(dtype=str),\n",
    "    df_test[\"correct\"].to_numpy(dtype=bool),\n",
    "]"
   ]
  },
  {
   "cell_type": "code",
   "execution_count": 7,
   "metadata": {},
   "outputs": [
    {
     "data": {
      "text/html": [
       "<div>\n",
       "<style scoped>\n",
       "    .dataframe tbody tr th:only-of-type {\n",
       "        vertical-align: middle;\n",
       "    }\n",
       "\n",
       "    .dataframe tbody tr th {\n",
       "        vertical-align: top;\n",
       "    }\n",
       "\n",
       "    .dataframe thead th {\n",
       "        text-align: right;\n",
       "    }\n",
       "</style>\n",
       "<table border=\"1\" class=\"dataframe\">\n",
       "  <thead>\n",
       "    <tr style=\"text-align: right;\">\n",
       "      <th></th>\n",
       "      <th>user_id</th>\n",
       "      <th>question_id</th>\n",
       "      <th>skill_id</th>\n",
       "      <th>correct</th>\n",
       "    </tr>\n",
       "  </thead>\n",
       "  <tbody>\n",
       "    <tr>\n",
       "      <th>40</th>\n",
       "      <td>3936</td>\n",
       "      <td>linear_quadratic6LJW|46d70936-02e7-45f0-b5da-6...</td>\n",
       "      <td>cm_algebra_manip</td>\n",
       "      <td>False</td>\n",
       "    </tr>\n",
       "    <tr>\n",
       "      <th>96</th>\n",
       "      <td>21358</td>\n",
       "      <td>connected_masses_2|b9a1072e-082c-4a5d-ab81-ce7...</td>\n",
       "      <td>cp_cons_energy</td>\n",
       "      <td>True</td>\n",
       "    </tr>\n",
       "    <tr>\n",
       "      <th>217</th>\n",
       "      <td>83681</td>\n",
       "      <td>cooling_body|7e36e45f-c07b-4839-b521-0dace51fae7b</td>\n",
       "      <td>cm_differential_equations</td>\n",
       "      <td>True</td>\n",
       "    </tr>\n",
       "    <tr>\n",
       "      <th>225</th>\n",
       "      <td>96677</td>\n",
       "      <td>value_units_gas_density|b5f18b5f-07ff-41a5-bf1...</td>\n",
       "      <td>cm_algebra_manip</td>\n",
       "      <td>True</td>\n",
       "    </tr>\n",
       "    <tr>\n",
       "      <th>229</th>\n",
       "      <td>46816</td>\n",
       "      <td>two_microphones|e9c596f8-8cd6-4d56-99da-341d06...</td>\n",
       "      <td>cp_general_waves</td>\n",
       "      <td>False</td>\n",
       "    </tr>\n",
       "    <tr>\n",
       "      <th>...</th>\n",
       "      <td>...</td>\n",
       "      <td>...</td>\n",
       "      <td>...</td>\n",
       "      <td>...</td>\n",
       "    </tr>\n",
       "    <tr>\n",
       "      <th>3303</th>\n",
       "      <td>26743</td>\n",
       "      <td>two_microphones|e9c596f8-8cd6-4d56-99da-341d06...</td>\n",
       "      <td>cp_general_waves</td>\n",
       "      <td>False</td>\n",
       "    </tr>\n",
       "    <tr>\n",
       "      <th>3361</th>\n",
       "      <td>98962</td>\n",
       "      <td>work_done_circle|aa3425ea-636c-44e3-89cc-45735...</td>\n",
       "      <td>cp_circular_motion</td>\n",
       "      <td>False</td>\n",
       "    </tr>\n",
       "    <tr>\n",
       "      <th>3390</th>\n",
       "      <td>79974</td>\n",
       "      <td>current_through_parallel_resistors|51bc0a17-06...</td>\n",
       "      <td>cp_ohms_law</td>\n",
       "      <td>False</td>\n",
       "    </tr>\n",
       "    <tr>\n",
       "      <th>4004</th>\n",
       "      <td>76828</td>\n",
       "      <td>polarised_power|c2e3c0f5-c2d6-4259-98d1-c87215...</td>\n",
       "      <td>cp_polarisation</td>\n",
       "      <td>False</td>\n",
       "    </tr>\n",
       "    <tr>\n",
       "      <th>4014</th>\n",
       "      <td>29538</td>\n",
       "      <td>polar_bear|eb5dd60f-9020-44f5-a42b-72f90a5edbf7</td>\n",
       "      <td>cm_vectors</td>\n",
       "      <td>False</td>\n",
       "    </tr>\n",
       "  </tbody>\n",
       "</table>\n",
       "<p>80 rows × 4 columns</p>\n",
       "</div>"
      ],
      "text/plain": [
       "      user_id                                        question_id  \\\n",
       "40       3936  linear_quadratic6LJW|46d70936-02e7-45f0-b5da-6...   \n",
       "96      21358  connected_masses_2|b9a1072e-082c-4a5d-ab81-ce7...   \n",
       "217     83681  cooling_body|7e36e45f-c07b-4839-b521-0dace51fae7b   \n",
       "225     96677  value_units_gas_density|b5f18b5f-07ff-41a5-bf1...   \n",
       "229     46816  two_microphones|e9c596f8-8cd6-4d56-99da-341d06...   \n",
       "...       ...                                                ...   \n",
       "3303    26743  two_microphones|e9c596f8-8cd6-4d56-99da-341d06...   \n",
       "3361    98962  work_done_circle|aa3425ea-636c-44e3-89cc-45735...   \n",
       "3390    79974  current_through_parallel_resistors|51bc0a17-06...   \n",
       "4004    76828  polarised_power|c2e3c0f5-c2d6-4259-98d1-c87215...   \n",
       "4014    29538    polar_bear|eb5dd60f-9020-44f5-a42b-72f90a5edbf7   \n",
       "\n",
       "                       skill_id  correct  \n",
       "40             cm_algebra_manip    False  \n",
       "96               cp_cons_energy     True  \n",
       "217   cm_differential_equations     True  \n",
       "225            cm_algebra_manip     True  \n",
       "229            cp_general_waves    False  \n",
       "...                         ...      ...  \n",
       "3303           cp_general_waves    False  \n",
       "3361         cp_circular_motion    False  \n",
       "3390                cp_ohms_law    False  \n",
       "4004            cp_polarisation    False  \n",
       "4014                 cm_vectors    False  \n",
       "\n",
       "[80 rows x 4 columns]"
      ]
     },
     "execution_count": 7,
     "metadata": {},
     "output_type": "execute_result"
    }
   ],
   "source": [
    "df_test"
   ]
  },
  {
   "cell_type": "code",
   "execution_count": 8,
   "metadata": {},
   "outputs": [
    {
     "name": "stdout",
     "output_type": "stream",
     "text": [
      "df: 400\n",
      "df_train: 320\n",
      "df_test: 80\n"
     ]
    }
   ],
   "source": [
    "print(f'df: {len(df)}')\n",
    "print(f'df_train: {len(df_train)}')\n",
    "print(f'df_test: {len(df_test)}')"
   ]
  },
  {
   "cell_type": "code",
   "execution_count": 9,
   "metadata": {},
   "outputs": [],
   "source": [
    "def bkt_no_split_skill(*args, **kwargs):\n",
    "    return bkt(*args, **kwargs, split_skill=None)\n",
    "\n",
    "def bkt_forget_no_split_skill(*args, **kwargs):\n",
    "    return bkt_forget(*args, **kwargs, split_skill=None)"
   ]
  },
  {
   "attachments": {},
   "cell_type": "markdown",
   "metadata": {},
   "source": [
    "optimize + eval"
   ]
  },
  {
   "cell_type": "code",
   "execution_count": 10,
   "metadata": {},
   "outputs": [
    {
     "name": "stdout",
     "output_type": "stream",
     "text": [
      "training time was: 0m 1s\n",
      "number of records: 320\n",
      "optimized by: L-BFGS-B\n",
      "p_L0 = 0.2789947410589868\n",
      "p_G = 0.3\n",
      "p_S = 0.09872620151377735\n",
      "p_T = 0.0694145649586208\n",
      "p_F = 0.12240175082773756\n",
      "      fun: 78.47067937440235\n",
      " hess_inv: <5x5 LbfgsInvHessProduct with dtype=float64>\n",
      "      jac: array([-1.44950718e-04, -2.57247308e+00,  2.24531505e-04,  1.06581410e-04,\n",
      "        1.59161573e-04])\n",
      "  message: 'CONVERGENCE: REL_REDUCTION_OF_F_<=_FACTR*EPSMCH'\n",
      "     nfev: 126\n",
      "      nit: 19\n",
      "     njev: 21\n",
      "   status: 0\n",
      "  success: True\n",
      "        x: array([0.27899474, 0.3       , 0.0987262 , 0.06941456, 0.12240175])\n"
     ]
    }
   ],
   "source": [
    "result_forget = minimize_bkt(bkt_forget_no_split_skill, fixed_params_train, bkt_type='forget')"
   ]
  },
  {
   "cell_type": "code",
   "execution_count": 11,
   "metadata": {},
   "outputs": [
    {
     "name": "stdout",
     "output_type": "stream",
     "text": [
      "training time was: 0m 0s\n",
      "number of records: 320\n",
      "optimized by: L-BFGS-B\n",
      "p_L0 = 0.26799211589079974\n",
      "p_G = 0.3\n",
      "p_S = 0.1\n",
      "p_T = 0.03553300306943051\n",
      "      fun: 78.58993242699272\n",
      " hess_inv: <4x4 LbfgsInvHessProduct with dtype=float64>\n",
      "      jac: array([ 4.26325642e-05, -6.75074859e+00, -1.78469435e+00,  1.42108547e-06])\n",
      "  message: 'CONVERGENCE: REL_REDUCTION_OF_F_<=_FACTR*EPSMCH'\n",
      "     nfev: 50\n",
      "      nit: 8\n",
      "     njev: 10\n",
      "   status: 0\n",
      "  success: True\n",
      "        x: array([0.26799212, 0.3       , 0.1       , 0.035533  ])\n"
     ]
    }
   ],
   "source": [
    "result = minimize_bkt(bkt_no_split_skill, fixed_params_train)"
   ]
  },
  {
   "cell_type": "code",
   "execution_count": 14,
   "metadata": {},
   "outputs": [
    {
     "name": "stdout",
     "output_type": "stream",
     "text": [
      "number of records: 80\n",
      "auc: 0.484375\n",
      "accuracy: 0.6\n",
      "squared sum of residuals: 19.828220476071003\n"
     ]
    }
   ],
   "source": [
    "evaluate_bkt(bkt_forget_no_split_skill, fixed_params_test, result_forget)"
   ]
  },
  {
   "cell_type": "code",
   "execution_count": 12,
   "metadata": {},
   "outputs": [
    {
     "name": "stdout",
     "output_type": "stream",
     "text": [
      "number of records: 80\n",
      "auc: 0.484375\n",
      "accuracy: 0.5875\n",
      "squared sum of residuals: 19.790786006098358\n"
     ]
    }
   ],
   "source": [
    "evaluate_bkt(bkt_no_split_skill, fixed_params_test, result)"
   ]
  }
 ],
 "metadata": {
  "kernelspec": {
   "display_name": "Python 3",
   "language": "python",
   "name": "python3"
  },
  "language_info": {
   "codemirror_mode": {
    "name": "ipython",
    "version": 3
   },
   "file_extension": ".py",
   "mimetype": "text/x-python",
   "name": "python",
   "nbconvert_exporter": "python",
   "pygments_lexer": "ipython3",
   "version": "3.8.10"
  },
  "orig_nbformat": 4,
  "vscode": {
   "interpreter": {
    "hash": "916dbcbb3f70747c44a77c7bcd40155683ae19c65e1c03b4aa3499c5328201f1"
   }
  }
 },
 "nbformat": 4,
 "nbformat_minor": 2
}
