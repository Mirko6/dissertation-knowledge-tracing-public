{
 "cells": [
  {
   "cell_type": "code",
   "execution_count": 1,
   "metadata": {},
   "outputs": [],
   "source": [
    "from config import *\n",
    "isaac_data_folder = parentdir + \"/data/isaac/\"\n",
    "import pandas as pd\n",
    "from main_package.utils import data_path_to_abs_path\n",
    "import json"
   ]
  },
  {
   "cell_type": "code",
   "execution_count": 2,
   "metadata": {},
   "outputs": [
    {
     "name": "stdout",
     "output_type": "stream",
     "text": [
      "\n",
      "\n",
      "\n",
      "\n",
      "\n"
     ]
    }
   ],
   "source": [
    "user_hash_to_user_id_dict = {}\n",
    "with open(data_path_to_abs_path(f\"isaac/interaction_data/dict.json\"), \"r\") as file:\n",
    "    for i in range(5):\n",
    "        print(file.readline())"
   ]
  },
  {
   "cell_type": "code",
   "execution_count": 7,
   "metadata": {},
   "outputs": [],
   "source": [
    "df = pd.read_csv(data_path_to_abs_path(f\"isaac/interaction_data/part_3.csv\"))\n",
    "users = set(df['user_id'])\n",
    "num_records = len(df)\n",
    "\n",
    "for i in range(2):\n",
    "    df = pd.read_csv(data_path_to_abs_path(f\"isaac/interaction_data/part_{i}.csv\"))\n",
    "    users.update(df['user_id'])\n",
    "    num_records += len(df['user_id'])"
   ]
  },
  {
   "cell_type": "code",
   "execution_count": 8,
   "metadata": {},
   "outputs": [
    {
     "name": "stdout",
     "output_type": "stream",
     "text": [
      "num records: 10342392\n",
      "num users: 117266\n"
     ]
    }
   ],
   "source": [
    "print(f\"num records: {num_records}\")\n",
    "print(f\"num users: {len(users)}\")"
   ]
  }
 ],
 "metadata": {
  "kernelspec": {
   "display_name": "Python 3",
   "language": "python",
   "name": "python3"
  },
  "language_info": {
   "codemirror_mode": {
    "name": "ipython",
    "version": 3
   },
   "file_extension": ".py",
   "mimetype": "text/x-python",
   "name": "python",
   "nbconvert_exporter": "python",
   "pygments_lexer": "ipython3",
   "version": "3.8.10"
  },
  "orig_nbformat": 4,
  "vscode": {
   "interpreter": {
    "hash": "916dbcbb3f70747c44a77c7bcd40155683ae19c65e1c03b4aa3499c5328201f1"
   }
  }
 },
 "nbformat": 4,
 "nbformat_minor": 2
}
