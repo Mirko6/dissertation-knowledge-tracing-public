{
 "cells": [
  {
   "cell_type": "code",
   "execution_count": 1,
   "metadata": {},
   "outputs": [],
   "source": [
    "import os, sys\n",
    "currentdir = os.path.abspath('')\n",
    "parentdir = os.path.dirname(currentdir)\n",
    "sys.path.append(parentdir)"
   ]
  },
  {
   "cell_type": "code",
   "execution_count": 2,
   "metadata": {},
   "outputs": [],
   "source": [
    "from main_package.utils import minimize_bkt, evaluate_bkt, csv_to_fixed_params\n",
    "from main_package.bkts import bkt"
   ]
  },
  {
   "cell_type": "code",
   "execution_count": 6,
   "metadata": {},
   "outputs": [
    {
     "name": "stdout",
     "output_type": "stream",
     "text": [
      "training time was: 0m 2s\n",
      "number of records: 1791\n",
      "optimized by: L-BFGS-B\n",
      "p_L0 = 0.5322551876346924\n",
      "p_G = 0.3\n",
      "p_S = 0.1\n",
      "p_T = 0.10510604451993809\n",
      "      fun: 396.59268385152444\n",
      " hess_inv: <4x4 LbfgsInvHessProduct with dtype=float64>\n",
      "      jac: array([ 3.69482221e-04, -1.64571486e+02, -2.43531866e+02,  3.97903932e-05])\n",
      "  message: 'CONVERGENCE: REL_REDUCTION_OF_F_<=_FACTR*EPSMCH'\n",
      "     nfev: 55\n",
      "      nit: 9\n",
      "     njev: 11\n",
      "   status: 0\n",
      "  success: True\n",
      "        x: array([0.53225519, 0.3       , 0.1       , 0.10510604])\n"
     ]
    }
   ],
   "source": [
    "train_fixed_params = csv_to_fixed_params(\"edx/Asgn4-dataset-filtered\")\n",
    "optimal_params = minimize_bkt(bkt, train_fixed_params)"
   ]
  },
  {
   "cell_type": "code",
   "execution_count": 10,
   "metadata": {},
   "outputs": [],
   "source": [
    "\"\"\"\n",
    "original optimal params\n",
    "[0.541, 0.299, 0.1, 0.104]\n",
    "\n",
    "new optimal params - sligthly better\n",
    "[0.53225519, 0.3, 0.1, 0.10510604]\n",
    "\"\"\"\n",
    "optimal_params_original = [0.541, 0.299, 0.1, 0.104]\n",
    "optimal_params_new = [0.53225519, 0.3, 0.1, 0.10510604]"
   ]
  },
  {
   "cell_type": "code",
   "execution_count": 12,
   "metadata": {},
   "outputs": [
    {
     "name": "stdout",
     "output_type": "stream",
     "text": [
      "original params\n",
      "number of records: 1791\n",
      "auc: 0.5894883013349687\n",
      "squared sum of residuals: 396.7601071129972\n",
      "new params\n",
      "number of records: 1791\n",
      "auc: 0.5902238902778433\n",
      "squared sum of residuals: 396.5926838515236\n"
     ]
    }
   ],
   "source": [
    "print(\"original params\")\n",
    "evaluate_bkt(bkt, train_fixed_params, optimal_params_original)\n",
    "print(\"new params\")\n",
    "evaluate_bkt(bkt, train_fixed_params, optimal_params_new)"
   ]
  }
 ],
 "metadata": {
  "kernelspec": {
   "display_name": "Python 3.8.10 64-bit",
   "language": "python",
   "name": "python3"
  },
  "language_info": {
   "codemirror_mode": {
    "name": "ipython",
    "version": 3
   },
   "file_extension": ".py",
   "mimetype": "text/x-python",
   "name": "python",
   "nbconvert_exporter": "python",
   "pygments_lexer": "ipython3",
   "version": "3.8.10"
  },
  "orig_nbformat": 4,
  "vscode": {
   "interpreter": {
    "hash": "916dbcbb3f70747c44a77c7bcd40155683ae19c65e1c03b4aa3499c5328201f1"
   }
  }
 },
 "nbformat": 4,
 "nbformat_minor": 2
}
