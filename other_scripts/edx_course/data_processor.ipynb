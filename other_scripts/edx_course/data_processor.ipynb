{
 "cells": [
  {
   "cell_type": "code",
   "execution_count": 1,
   "metadata": {},
   "outputs": [],
   "source": [
    "import os, sys\n",
    "currentdir = os.path.abspath('')\n",
    "parentdir = os.path.dirname(currentdir)\n",
    "sys.path.append(parentdir)"
   ]
  },
  {
   "cell_type": "code",
   "execution_count": 2,
   "metadata": {},
   "outputs": [],
   "source": [
    "import pandas as pd\n",
    "import numpy as np\n",
    "from main_package.utils import data_path_to_abs_path"
   ]
  },
  {
   "cell_type": "code",
   "execution_count": 3,
   "metadata": {},
   "outputs": [],
   "source": [
    "df_all = pd.read_csv(data_path_to_abs_path(\"edx/Asgn4-dataset-original\"))\n",
    "df_all.columns = df_all.columns.str.lower()\n",
    "df_all = df_all.rename(columns={\n",
    "    \"id\": \"order_id\",\n",
    "    \"kc\": \"skill_id\",\n",
    "    \"student\": \"user_id\",\n",
    "    \"right\": \"correct\",\n",
    "    \"item\": \"problem_id\",\n",
    "})"
   ]
  },
  {
   "cell_type": "code",
   "execution_count": 5,
   "metadata": {},
   "outputs": [
    {
     "name": "stdout",
     "output_type": "stream",
     "text": [
      "      order_id            user_id              skill_id  \\\n",
      "0        46130            ABVGGAE  VALUING-CAT-FEATURES   \n",
      "1        46131            ABVGGAE  VALUING-CAT-FEATURES   \n",
      "2        46148            ABVGGAE  VALUING-CAT-FEATURES   \n",
      "3        46230            ABVGGAE  VALUING-CAT-FEATURES   \n",
      "4        46231            ABVGGAE  VALUING-CAT-FEATURES   \n",
      "...        ...                ...                   ...   \n",
      "1786     54480  katelynZmulvihill  VALUING-CAT-FEATURES   \n",
      "1787     54482  katelynZmulvihill  VALUING-CAT-FEATURES   \n",
      "1788     54483  katelynZmulvihill  VALUING-CAT-FEATURES   \n",
      "1789     54585  katelynZmulvihill  VALUING-CAT-FEATURES   \n",
      "1790     54607  katelynZmulvihill  VALUING-CAT-FEATURES   \n",
      "\n",
      "                        problem_id  correct  \n",
      "0      META-VALUING-CAT-FEATURES-1     True  \n",
      "1      META-VALUING-CAT-FEATURES-2    False  \n",
      "2      META-VALUING-CAT-FEATURES-3     True  \n",
      "3      META-VALUING-CAT-FEATURES-4     True  \n",
      "4      META-VALUING-CAT-FEATURES-5     True  \n",
      "...                            ...      ...  \n",
      "1786   META-VALUING-CAT-FEATURES-8     True  \n",
      "1787   META-VALUING-CAT-FEATURES-9     True  \n",
      "1788  META-VALUING-CAT-FEATURES-10     True  \n",
      "1789  META-VALUING-CAT-FEATURES-11     True  \n",
      "1790  META-VALUING-CAT-FEATURES-12     True  \n",
      "\n",
      "[1791 rows x 5 columns]\n"
     ]
    }
   ],
   "source": [
    "df_first_attempt = df_all[df_all[\"firstattempt\"] == 1]\n",
    "df = df_first_attempt[\n",
    "    (df_first_attempt[\"skill_id\"] == \"VALUING-CAT-FEATURES\") \n",
    "    #| (df_first_attempt[\"skill_id\"] == \"CHOOSE-VAR-TYPE\")\n",
    "].drop(columns=[\"lesson\", \"firstattempt\", \"time\"])\n",
    "df[\"correct\"] = df[\"correct\"].astype(\"bool\")\n",
    "df = df.sort_values(by=[\"skill_id\", \"user_id\", \"order_id\"]).reset_index(drop=True)\n",
    "print(df)\n",
    "#df.to_csv(\"Asgn4-dataset-filtered.csv\", index=False)"
   ]
  }
 ],
 "metadata": {
  "kernelspec": {
   "display_name": "Python 3.8.10 64-bit",
   "language": "python",
   "name": "python3"
  },
  "language_info": {
   "codemirror_mode": {
    "name": "ipython",
    "version": 3
   },
   "file_extension": ".py",
   "mimetype": "text/x-python",
   "name": "python",
   "nbconvert_exporter": "python",
   "pygments_lexer": "ipython3",
   "version": "3.8.10"
  },
  "orig_nbformat": 4,
  "vscode": {
   "interpreter": {
    "hash": "916dbcbb3f70747c44a77c7bcd40155683ae19c65e1c03b4aa3499c5328201f1"
   }
  }
 },
 "nbformat": 4,
 "nbformat_minor": 2
}
