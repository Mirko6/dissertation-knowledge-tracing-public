{
 "cells": [
  {
   "cell_type": "code",
   "execution_count": 1,
   "metadata": {},
   "outputs": [],
   "source": [
    "import pandas as pd\n",
    "import numpy as np"
   ]
  },
  {
   "cell_type": "code",
   "execution_count": 2,
   "metadata": {},
   "outputs": [
    {
     "name": "stdout",
     "output_type": "stream",
     "text": [
      "            ID                 Lesson  Student                    KC  \\\n",
      "0            0                  Splot  AGUFADE  VALUING-CAT-FEATURES   \n",
      "1            1                  Splot  AGUFADE  VALUING-NUM-FEATURES   \n",
      "2            2                  Splot  AGUFADE       CHOOSE-VAR-TYPE   \n",
      "3            3                  Splot  AGUFADE  VALUING-NUM-FEATURES   \n",
      "4            4                  Splot  AGUFADE       CHOOSE-VAR-TYPE   \n",
      "...        ...                    ...      ...                   ...   \n",
      "124365  128869  MidZSchoolZProbabilit  SKRDBGE           GREATEST-CF   \n",
      "124366  128870  MidZSchoolZProbabilit  SKRDBGE           GREATEST-CF   \n",
      "124367  128871  MidZSchoolZProbabilit  SKRDBGE           GREATEST-CF   \n",
      "124368  128872  MidZSchoolZProbabilit  SKRDBGE           GREATEST-CF   \n",
      "124369  128873  MidZSchoolZProbabilit  SKRDBGE             ENTER-GCD   \n",
      "\n",
      "                               item  right  firstattempt   time  \n",
      "0       META-VALUING-CAT-FEATURES-1      1             1  3.297  \n",
      "1       META-VALUING-NUM-FEATURES-1      0             1  4.047  \n",
      "2             CHOOSE-VAR-TYPE-NUM-1      1             1  1.593  \n",
      "3       META-VALUING-NUM-FEATURES-1      0             0  2.922  \n",
      "4             CHOOSE-VAR-TYPE-NUM-2      1             1  1.594  \n",
      "...                             ...    ...           ...    ...  \n",
      "124365          META-GREATEST-CF-33      1             1  1.920  \n",
      "124366          META-GREATEST-CF-34      1             1  3.790  \n",
      "124367          META-GREATEST-CF-35      0             1  2.800  \n",
      "124368          META-GREATEST-CF-35      0             0  1.980  \n",
      "124369           ENTER-GCD-SHAPES-8      1             1  3.020  \n",
      "\n",
      "[124370 rows x 8 columns]\n"
     ]
    }
   ],
   "source": [
    "df = pd.read_csv(\"Asgn4-dataset.csv\")\n",
    "print(df)"
   ]
  },
  {
   "cell_type": "markdown",
   "metadata": {},
   "source": [
    "Question 1 of 10: Filter out all actions from (a copy of) the data set, until you only have actions for KC \"VALUING-CAT-FEATURES\". How many rows of data remain?"
   ]
  },
  {
   "cell_type": "code",
   "execution_count": 3,
   "metadata": {},
   "outputs": [
    {
     "name": "stdout",
     "output_type": "stream",
     "text": [
      "2473\n"
     ]
    }
   ],
   "source": [
    "df_q1 = df[df[\"KC\"] == \"VALUING-CAT-FEATURES\"]\n",
    "print(len(df_q1))"
   ]
  },
  {
   "cell_type": "markdown",
   "metadata": {},
   "source": [
    "Question 3 of 10: Go ahead and delete the rows you indicated in question 2. How many rows of data remain?\n",
    "(need to delete rows where first attempt is False -> because of BKT's assumptions)"
   ]
  },
  {
   "cell_type": "code",
   "execution_count": 4,
   "metadata": {},
   "outputs": [
    {
     "name": "stdout",
     "output_type": "stream",
     "text": [
      "1791\n"
     ]
    }
   ],
   "source": [
    "df_q3 = df_q1[df_q1[\"firstattempt\"] == 1]\n",
    "print(len(df_q3))"
   ]
  },
  {
   "cell_type": "code",
   "execution_count": 5,
   "metadata": {},
   "outputs": [
    {
     "name": "stdout",
     "output_type": "stream",
     "text": [
      "     lesson  student                 skill  cell  right  eol\n",
      "0     Splot  AGUFADE  VALUING-CAT-FEATURES  cell      1  eol\n",
      "1     Splot  AGUFADE  VALUING-CAT-FEATURES  cell      0  eol\n",
      "2     Splot  AOADMAC  VALUING-CAT-FEATURES  cell      1  eol\n",
      "3     Splot  AOADMAC  VALUING-CAT-FEATURES  cell      0  eol\n",
      "4     Splot  AOADMAC  VALUING-CAT-FEATURES  cell      0  eol\n",
      "...     ...      ...                   ...   ...    ...  ...\n",
      "1786  Splot  KBRIZPT  VALUING-CAT-FEATURES  cell      1  eol\n",
      "1787  Splot  KBRIZPT  VALUING-CAT-FEATURES  cell      1  eol\n",
      "1788  Splot  KBRIZPT  VALUING-CAT-FEATURES  cell      1  eol\n",
      "1789  Splot  KBRIZPT  VALUING-CAT-FEATURES  cell      1  eol\n",
      "1790  Splot  KBRIZPT  VALUING-CAT-FEATURES  cell      1  eol\n",
      "\n",
      "[1791 rows x 6 columns]\n"
     ]
    }
   ],
   "source": [
    "df_java = df_q3.reset_index(drop = True)\n",
    "df_java = df_java.drop(columns=[\"ID\", \"firstattempt\", \"time\", \"item\"])\n",
    "df_java = df_java.rename(columns={\n",
    "    \"Lesson\": \"lesson\",\n",
    "    \"Student\": \"student\",\n",
    "    \"KC\": \"skill\",\n",
    "})\n",
    "df_java[\"cell\"] = \"cell\"\n",
    "df_java[\"eol\"] = \"eol\"\n",
    "df_java = df_java.loc[:, [\"lesson\", \"student\", \"skill\", \"cell\", \"right\", \"eol\"]]\n",
    "df_java.to_csv(\"java_exercise.txt\", sep=\"\\t\", index_label=\"num\")\n",
    "df_java.to_csv(\"java_exercise_test.csv\", index_label=\"num\")\n",
    "print(df_java)"
   ]
  },
  {
   "cell_type": "markdown",
   "metadata": {},
   "source": [
    "\n",
    "Question 4 of 10: We're going to create a Bayesian Knowledge Tracing model for VALUING-CAT-FEATURES.\n",
    "\n",
    "Create variable columns P(Ln-1) (cell I1), P(Ln-1|RESULT) (cell J1), and P(Ln) (cell K1), and leave the columns below them empty for now. (If you're not sure what these represent, re-watch the lecture.)\n",
    "\n",
    "To the right of this, type into four cells, (cell M2) L0, (M3) T, (M4) S, and (M5) G.\n",
    "\n",
    "Now type 0.3, 0.1, 0.2, and 0.25 to the right of (respectively) L0, T, S, and G (e.g. cells N2, N3, N4, N5). \n",
    "\n",
    "What is your slip parameter?"
   ]
  },
  {
   "cell_type": "code",
   "execution_count": 6,
   "metadata": {},
   "outputs": [
    {
     "name": "stdout",
     "output_type": "stream",
     "text": [
      "slip is 0.2\n"
     ]
    }
   ],
   "source": [
    "#df_q4 = df_q3.reindex(columns = df_q3.columns.tolist() + [\"P(Ln-1)\", \"P(Ln-1) | RESULT\", \"P(Ln)\"])\n",
    "#P(Ln-1) - I1 - the probability that the student knows the skill before attempting the Q\n",
    "#P(Ln-1) | RESULT - J1 - the probability that the student knew it before, given an answer\n",
    "#P(Ln) - K1 - the probability that the student knows the skill after answering the question\n",
    "L0 = 0.3 #the probability that the students knows the skill initially (skill = KC)\n",
    "T = 0.1 #P that you will learn it if you did not know it \n",
    "S = 0.2 #slip\n",
    "G = 0.25 #guess\n",
    "print(f\"slip is {S}\")"
   ]
  },
  {
   "cell_type": "markdown",
   "metadata": {},
   "source": [
    "My work"
   ]
  },
  {
   "cell_type": "code",
   "execution_count": 7,
   "metadata": {},
   "outputs": [],
   "source": [
    "prior_name = \"P(Ln-1)\" \n",
    "conditioned_name = \"P(Ln-1) | RESULT\"\n",
    "posterior_name = \"P(Ln)\"\n",
    "df_my = df_q3.reindex(columns = df_q3.columns.tolist() + [prior_name, conditioned_name, posterior_name])\n",
    "df_my[\"right\"] = df_my[\"right\"] == 1\n",
    "#df_my = df_my.shift(periods=1)\n",
    "df_my = pd.concat([pd.DataFrame({}, index=[-1]), df_my]).reset_index(drop=True) #add empty row on top\n",
    "def bkt(df: pd.DataFrame):\n",
    "    prior_p, conditioned_p, posterior_p = 0, 0, 0 #probabilities Pln-1, Pln-1 | R, Pln\n",
    "    for i in range(1, len(df)):\n",
    "        #finding the prior probability\n",
    "        if df.loc[i-1, \"Student\"] == df.loc[i, \"Student\"]:\n",
    "            prior_p = df.loc[i-1, posterior_name]\n",
    "        else:\n",
    "            prior_p = L0\n",
    "\n",
    "        #finding the conditioned probability\n",
    "        if df.loc[i, \"right\"]:\n",
    "            p_did_not_slip_and_knew = (1 - S) * prior_p\n",
    "            p_guessed_and_did_not_know = G * (1 - prior_p)\n",
    "            conditioned_p = p_did_not_slip_and_knew / (p_did_not_slip_and_knew + p_guessed_and_did_not_know)\n",
    "        else:\n",
    "            p_slipped_and_knew = S * prior_p\n",
    "            p_did_not_guess_and_did_not_know = (1-G) * (1 - prior_p)\n",
    "            conditioned_p = p_slipped_and_knew / (p_slipped_and_knew + p_did_not_guess_and_did_not_know)\n",
    "\n",
    "        \n",
    "\n",
    "        df.loc[i, prior_name] = prior_p\n",
    "        df.loc[i, conditioned_name] = conditioned_p\n",
    "\n",
    "        #finding the posterior probability\n",
    "        df.loc[i, posterior_name] = conditioned_p + T * (1 - conditioned_p)"
   ]
  },
  {
   "cell_type": "code",
   "execution_count": 8,
   "metadata": {},
   "outputs": [
    {
     "name": "stdout",
     "output_type": "stream",
     "text": [
      "           ID Lesson  Student                    KC  \\\n",
      "0         NaN    NaN      NaN                   NaN   \n",
      "1         0.0  Splot  AGUFADE  VALUING-CAT-FEATURES   \n",
      "2         7.0  Splot  AGUFADE  VALUING-CAT-FEATURES   \n",
      "3       250.0  Splot  AOADMAC  VALUING-CAT-FEATURES   \n",
      "4       253.0  Splot  AOADMAC  VALUING-CAT-FEATURES   \n",
      "...       ...    ...      ...                   ...   \n",
      "1787  71275.0  Splot  KBRIZPT  VALUING-CAT-FEATURES   \n",
      "1788  71333.0  Splot  KBRIZPT  VALUING-CAT-FEATURES   \n",
      "1789  71337.0  Splot  KBRIZPT  VALUING-CAT-FEATURES   \n",
      "1790  71415.0  Splot  KBRIZPT  VALUING-CAT-FEATURES   \n",
      "1791  71419.0  Splot  KBRIZPT  VALUING-CAT-FEATURES   \n",
      "\n",
      "                             item  right  firstattempt    time   P(Ln-1)  \\\n",
      "0                             NaN    NaN           NaN     NaN       NaN   \n",
      "1     META-VALUING-CAT-FEATURES-1   True           1.0   3.297  0.300000   \n",
      "2     META-VALUING-CAT-FEATURES-2  False           1.0   3.203  0.620482   \n",
      "3     META-VALUING-CAT-FEATURES-1   True           1.0   8.000  0.300000   \n",
      "4     META-VALUING-CAT-FEATURES-2  False           1.0   2.843  0.620482   \n",
      "...                           ...    ...           ...     ...       ...   \n",
      "1787  META-VALUING-CAT-FEATURES-5   True           1.0   2.140  0.889318   \n",
      "1788  META-VALUING-CAT-FEATURES-6   True           1.0   8.020  0.966307   \n",
      "1789  META-VALUING-CAT-FEATURES-7   True           1.0   1.650  0.990299   \n",
      "1790  META-VALUING-CAT-FEATURES-8   True           1.0  56.690  0.997253   \n",
      "1791  META-VALUING-CAT-FEATURES-9   True           1.0   1.810  0.999226   \n",
      "\n",
      "      P(Ln-1) | RESULT     P(Ln)  \n",
      "0                  NaN       NaN  \n",
      "1             0.578313  0.620482  \n",
      "2             0.303611  0.373250  \n",
      "3             0.578313  0.620482  \n",
      "4             0.303611  0.373250  \n",
      "...                ...       ...  \n",
      "1787          0.962563  0.966307  \n",
      "1788          0.989221  0.990299  \n",
      "1789          0.996948  0.997253  \n",
      "1790          0.999140  0.999226  \n",
      "1791          0.999758  0.999782  \n",
      "\n",
      "[1792 rows x 11 columns]\n"
     ]
    }
   ],
   "source": [
    "bkt(df_my)\n",
    "print(df_my)"
   ]
  }
 ],
 "metadata": {
  "kernelspec": {
   "display_name": "Python 3.8.10 64-bit",
   "language": "python",
   "name": "python3"
  },
  "language_info": {
   "codemirror_mode": {
    "name": "ipython",
    "version": 3
   },
   "file_extension": ".py",
   "mimetype": "text/x-python",
   "name": "python",
   "nbconvert_exporter": "python",
   "pygments_lexer": "ipython3",
   "version": "3.8.10"
  },
  "orig_nbformat": 4,
  "vscode": {
   "interpreter": {
    "hash": "916dbcbb3f70747c44a77c7bcd40155683ae19c65e1c03b4aa3499c5328201f1"
   }
  }
 },
 "nbformat": 4,
 "nbformat_minor": 2
}
