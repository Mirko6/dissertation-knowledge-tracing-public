{
 "cells": [
  {
   "cell_type": "code",
   "execution_count": 3,
   "metadata": {},
   "outputs": [],
   "source": [
    "from config import *\n",
    "from pykt.preprocess.assist2009_preprocess import read_data_from_csv\n",
    "from main_package.utils import data_path_to_abs_path"
   ]
  },
  {
   "cell_type": "code",
   "execution_count": 5,
   "metadata": {},
   "outputs": [
    {
     "name": "stdout",
     "output_type": "stream",
     "text": [
      "original interaction num: 500, user num: 76, question num: 130, concept num: 3, avg(ins) per s: 6.5789, avg(c) per q: 1.7923, na: 0\n",
      "after drop interaction num: 500, user num: 76, question num: 130, concept num: 3, avg(ins) per s: 6.5789, avg(c) per q: 1.7923, na: 0\n",
      "500,76,130,3,6.5789,1.7923,0\n",
      "500,76,130,3,6.5789,1.7923,0\n"
     ]
    }
   ],
   "source": [
    "read_data_from_csv(data_path_to_abs_path(\"assistment/pyKT/assistment_sample\"), data_path_to_abs_path(\"assistment/pyKT/pre_processed\"))\n"
   ]
  },
  {
   "cell_type": "code",
   "execution_count": 6,
   "metadata": {},
   "outputs": [],
   "source": [
    "from pykt.models.saint import SAINT"
   ]
  },
  {
   "cell_type": "code",
   "execution_count": 9,
   "metadata": {},
   "outputs": [],
   "source": [
    "from pykt.preprocess.split_datasets import main as split_concept"
   ]
  },
  {
   "cell_type": "code",
   "execution_count": 10,
   "metadata": {},
   "outputs": [],
   "source": [
    "import pandas as pd"
   ]
  }
 ],
 "metadata": {
  "kernelspec": {
   "display_name": "Python 3.8.10 64-bit",
   "language": "python",
   "name": "python3"
  },
  "language_info": {
   "codemirror_mode": {
    "name": "ipython",
    "version": 3
   },
   "file_extension": ".py",
   "mimetype": "text/x-python",
   "name": "python",
   "nbconvert_exporter": "python",
   "pygments_lexer": "ipython3",
   "version": "3.8.10"
  },
  "orig_nbformat": 4,
  "vscode": {
   "interpreter": {
    "hash": "916dbcbb3f70747c44a77c7bcd40155683ae19c65e1c03b4aa3499c5328201f1"
   }
  }
 },
 "nbformat": 4,
 "nbformat_minor": 2
}
