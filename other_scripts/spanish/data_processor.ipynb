{
 "cells": [
  {
   "cell_type": "code",
   "execution_count": 1,
   "metadata": {},
   "outputs": [],
   "source": [
    "from config import *"
   ]
  },
  {
   "cell_type": "code",
   "execution_count": 2,
   "metadata": {},
   "outputs": [
    {
     "ename": "ModuleNotFoundError",
     "evalue": "No module named 'main_package'",
     "output_type": "error",
     "traceback": [
      "\u001b[0;31m---------------------------------------------------------------------------\u001b[0m",
      "\u001b[0;31mModuleNotFoundError\u001b[0m                       Traceback (most recent call last)",
      "\u001b[1;32m/home/miroslav/part-II-project/other_scripts/spanish/data_processor.ipynb Cell 2\u001b[0m in \u001b[0;36m1\n\u001b[0;32m----> <a href='vscode-notebook-cell://wsl%2Bubuntu-20.04/home/miroslav/part-II-project/other_scripts/spanish/data_processor.ipynb#W1sdnNjb2RlLXJlbW90ZQ%3D%3D?line=0'>1</a>\u001b[0m \u001b[39mfrom\u001b[39;00m \u001b[39mmain_package\u001b[39;00m\u001b[39m.\u001b[39;00m\u001b[39mutils\u001b[39;00m \u001b[39mimport\u001b[39;00m data_path_to_abs_path\n\u001b[1;32m      <a href='vscode-notebook-cell://wsl%2Bubuntu-20.04/home/miroslav/part-II-project/other_scripts/spanish/data_processor.ipynb#W1sdnNjb2RlLXJlbW90ZQ%3D%3D?line=1'>2</a>\u001b[0m \u001b[39mimport\u001b[39;00m \u001b[39mpandas\u001b[39;00m \u001b[39mas\u001b[39;00m \u001b[39mpd\u001b[39;00m\n",
      "\u001b[0;31mModuleNotFoundError\u001b[0m: No module named 'main_package'"
     ]
    }
   ],
   "source": [
    "from main_package.utils import data_path_to_abs_path\n",
    "import pandas as pd"
   ]
  },
  {
   "cell_type": "code",
   "execution_count": 13,
   "metadata": {},
   "outputs": [],
   "source": [
    "df_labels = pd.read_csv(\n",
    "    data_path_to_abs_path(\"spanish/spanish_expert_labels\", \"txt\"),\n",
    "    header=None\n",
    ").rename(columns={0: \"skill_id\"})\n",
    "labels_dict = df_labels.to_dict(\"index\")"
   ]
  },
  {
   "cell_type": "code",
   "execution_count": 14,
   "metadata": {},
   "outputs": [
    {
     "name": "stdout",
     "output_type": "stream",
     "text": [
      "        user_id  problem_id  correct  skill_id\n",
      "0             0           0        0         0\n",
      "1             1           1        1         1\n",
      "2             2           2        0         2\n",
      "3             3           3        0         3\n",
      "4             4           4        1         1\n",
      "...         ...         ...      ...       ...\n",
      "578721      141         363        1       181\n",
      "578722      141         350        1       168\n",
      "578723      140         395        1       209\n",
      "578724      141         162        1        64\n",
      "578725      141         397        1       211\n",
      "\n",
      "[578726 rows x 4 columns]\n"
     ]
    }
   ],
   "source": [
    "df = pd.read_csv(\n",
    "    data_path_to_abs_path(\"spanish/spanish_dataset\", \"txt\"),\n",
    "    sep=\" \",\n",
    "    header=None\n",
    ").rename(columns={\n",
    "    0: \"user_id\",\n",
    "    1: \"problem_id\",\n",
    "    2: \"correct\"\n",
    "})\n",
    "df[\"skill_id\"] = df[\"problem_id\"].apply(lambda problem_id: labels_dict[problem_id][\"skill_id\"])\n",
    "print(df)"
   ]
  },
  {
   "cell_type": "code",
   "execution_count": null,
   "metadata": {},
   "outputs": [],
   "source": []
  }
 ],
 "metadata": {
  "kernelspec": {
   "display_name": "Python 3.8.10 64-bit",
   "language": "python",
   "name": "python3"
  },
  "language_info": {
   "codemirror_mode": {
    "name": "ipython",
    "version": 3
   },
   "file_extension": ".py",
   "mimetype": "text/x-python",
   "name": "python",
   "nbconvert_exporter": "python",
   "pygments_lexer": "ipython3",
   "version": "3.8.10"
  },
  "orig_nbformat": 4,
  "vscode": {
   "interpreter": {
    "hash": "916dbcbb3f70747c44a77c7bcd40155683ae19c65e1c03b4aa3499c5328201f1"
   }
  }
 },
 "nbformat": 4,
 "nbformat_minor": 2
}
