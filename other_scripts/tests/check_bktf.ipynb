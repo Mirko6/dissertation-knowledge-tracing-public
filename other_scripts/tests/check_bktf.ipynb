{
 "cells": [
  {
   "cell_type": "code",
   "execution_count": 9,
   "metadata": {},
   "outputs": [],
   "source": [
    "from config import *\n",
    "import pandas as pd\n",
    "import numpy as np\n",
    "from main_package.bkt_pyKT import bkt_student_interactions\n",
    "from main_package.bkts import bkt_forget"
   ]
  },
  {
   "cell_type": "code",
   "execution_count": 10,
   "metadata": {},
   "outputs": [],
   "source": [
    "concepts, responses = (np.array([ 0,  0,  0,  0,  0,  9,  9,  9, 11, 11, 12, 12, 12, 12, 12, 14, 14,14, 14, 14]), np.array([1, 0, 1, 1, 0, 1, 1, 1, 0, 0, 1, 1, 1, 1, 1, 1, 1, 1, 1, 1]))\n",
    "is_repeat = np.zeros_like(concepts)\n",
    "bkt_params = [0.4, 0.2, 0.08, 0.1, 0.01]"
   ]
  },
  {
   "cell_type": "code",
   "execution_count": 11,
   "metadata": {},
   "outputs": [],
   "source": [
    "concepts, responses = np.array([51, 51, 51, 51]), np.array([0, 1, 1, 1])\n",
    "is_repeat = np.zeros_like(concepts)"
   ]
  },
  {
   "cell_type": "code",
   "execution_count": 12,
   "metadata": {},
   "outputs": [
    {
     "name": "stdout",
     "output_type": "stream",
     "text": [
      "p_knows_concept_prior: 0.4, p_correct_answer: 0.48800000000000004, p_knows_concept_conditioned: 0.0625, p_knows_concept_posterior: 0.15625\n",
      "current_problem_number: 2, last_seen: 1\n",
      "p_did_not_forget: 0.99\n",
      "p_knows_concept_prior: 0.1546875, p_correct_answer: 0.311375, p_knows_concept_conditioned: 0.45704536330790846, p_knows_concept_posterior: 0.5113408269771176\n",
      "current_problem_number: 3, last_seen: 2\n",
      "p_did_not_forget: 0.99\n",
      "p_knows_concept_prior: 0.5062274187073464, p_correct_answer: 0.5644837414692895, p_knows_concept_conditioned: 0.825053391260688, p_knows_concept_posterior: 0.8425480521346191\n",
      "current_problem_number: 4, last_seen: 3\n",
      "p_did_not_forget: 0.99\n",
      "p_knows_concept_prior: 0.834122571613273, p_correct_answer: 0.8005682515615565, p_knows_concept_conditioned: 0.9585600782786045, p_knows_concept_posterior: 0.962704070450744\n"
     ]
    },
    {
     "data": {
      "text/plain": [
       "[0.48800000000000004, 0.311375, 0.5644837414692895, 0.8005682515615565]"
      ]
     },
     "execution_count": 12,
     "metadata": {},
     "output_type": "execute_result"
    }
   ],
   "source": [
    "predictions_bkt_pyKT = bkt_student_interactions(concepts, responses, is_repeat, *bkt_params)\n",
    "predictions_bkt_pyKT"
   ]
  },
  {
   "cell_type": "code",
   "execution_count": 13,
   "metadata": {},
   "outputs": [
    {
     "name": "stdout",
     "output_type": "stream",
     "text": [
      "p_prior: 0.4, likelihood_correct: 0.48800000000000004, p_prior_cond: 0.0625, p_posterior: 0.15625\n",
      "attempt counts: 2, last_seen: 1\n",
      "p_did_not_forget: 0.99\n",
      "p_prior: 0.1546875, likelihood_correct: 0.311375, p_prior_cond: 0.45704536330790846, p_posterior: 0.5113408269771176\n",
      "attempt counts: 3, last_seen: 2\n",
      "p_did_not_forget: 0.99\n",
      "p_prior: 0.5062274187073464, likelihood_correct: 0.5644837414692895, p_prior_cond: 0.825053391260688, p_posterior: 0.8425480521346191\n",
      "attempt counts: 4, last_seen: 3\n",
      "p_did_not_forget: 0.99\n",
      "p_prior: 0.834122571613273, likelihood_correct: 0.8005682515615565, p_prior_cond: 0.9585600782786045, p_posterior: 0.962704070450744\n"
     ]
    },
    {
     "data": {
      "text/plain": [
       "[0.48800000000000004, 0.311375, 0.5644837414692895, 0.8005682515615565]"
      ]
     },
     "execution_count": 13,
     "metadata": {},
     "output_type": "execute_result"
    }
   ],
   "source": [
    "fixed_params = np.zeros_like(concepts), concepts, responses #user_id, skill_id, correct\n",
    "(correct_results, priors, user_skill_lookup), squared_sum_residuals = bkt_forget(bkt_params, fixed_params, evaluate=True,split_skill=None)\n",
    "priors"
   ]
  },
  {
   "cell_type": "code",
   "execution_count": null,
   "metadata": {},
   "outputs": [],
   "source": []
  }
 ],
 "metadata": {
  "kernelspec": {
   "display_name": "Python 3",
   "language": "python",
   "name": "python3"
  },
  "language_info": {
   "codemirror_mode": {
    "name": "ipython",
    "version": 3
   },
   "file_extension": ".py",
   "mimetype": "text/x-python",
   "name": "python",
   "nbconvert_exporter": "python",
   "pygments_lexer": "ipython3",
   "version": "3.8.10"
  },
  "orig_nbformat": 4
 },
 "nbformat": 4,
 "nbformat_minor": 2
}
