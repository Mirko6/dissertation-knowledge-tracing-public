{
 "cells": [
  {
   "cell_type": "code",
   "execution_count": 1,
   "metadata": {},
   "outputs": [],
   "source": [
    "from config import *\n",
    "from main_package.utils import csv_to_fixed_params, minimize_bkt, evaluate_bkt\n",
    "from main_package.bkts import bkt\n",
    "from sklearn.metrics import roc_auc_score"
   ]
  },
  {
   "cell_type": "code",
   "execution_count": 2,
   "metadata": {},
   "outputs": [],
   "source": [
    "train_fixed_params = csv_to_fixed_params(\"assistment/train_v3\")\n",
    "test_fixed_params = csv_to_fixed_params(\"assistment/test_v3\")\n",
    "piech_test_fixed_params = csv_to_fixed_params(\"piech/test_df_format\")\n",
    "piech_train_fixed_params = csv_to_fixed_params(\"piech/train_df_format\")\n"
   ]
  },
  {
   "cell_type": "code",
   "execution_count": 3,
   "metadata": {},
   "outputs": [
    {
     "name": "stdout",
     "output_type": "stream",
     "text": [
      "training time was: 15m 12s\n",
      "number of records: 407880\n",
      "optimized by: L-BFGS-B\n",
      "p_L0 = 0.6037927835289423\n",
      "p_G = 0.3\n",
      "p_S = 0.0999999468715492\n",
      "p_T = 0.09401141955970181\n",
      "      fun: 76703.38852803317\n",
      " hess_inv: <4x4 LbfgsInvHessProduct with dtype=float64>\n",
      "      jac: array([   2864.80061202, -713486.13020102,  -30941.1465586 ,\n",
      "         13799.16212316])\n",
      "  message: 'CONVERGENCE: REL_REDUCTION_OF_F_<=_FACTR*EPSMCH'\n",
      "     nfev: 165\n",
      "      nit: 5\n",
      "     njev: 33\n",
      "   status: 0\n",
      "  success: True\n",
      "        x: array([0.60379278, 0.3       , 0.09999995, 0.09401142])\n"
     ]
    }
   ],
   "source": [
    "optimal_params = minimize_bkt(bkt, piech_train_fixed_params)"
   ]
  },
  {
   "cell_type": "code",
   "execution_count": 4,
   "metadata": {},
   "outputs": [
    {
     "name": "stdout",
     "output_type": "stream",
     "text": [
      "[0.6037927835289423, 0.3, 0.0999999468715492, 0.09401141955970181]\n"
     ]
    }
   ],
   "source": [
    "print(optimal_params)"
   ]
  },
  {
   "cell_type": "code",
   "execution_count": 3,
   "metadata": {},
   "outputs": [
    {
     "name": "stdout",
     "output_type": "stream",
     "text": [
      "number of records: 117545\n",
      "auc: 0.7286668322307133\n",
      "accuracy: 0.7436215917308265\n",
      "squared sum of residuals: 21789.978833950914\n"
     ]
    }
   ],
   "source": [
    "optimal_params = [0.629834138604483, 0.3, 0.1, 0.14440031002984632]\n",
    "optimal_piech_params = [0.60379278, 0.3, 0.09999995, 0.09401142]\n",
    "optimal_piech_params_old_implementation = [0.5504063365919529, 0.3, 0.0999999975569658, 0.06302321901515896] #better\n",
    "evaluate_bkt(bkt, piech_test_fixed_params, optimal_piech_params)"
   ]
  }
 ],
 "metadata": {
  "kernelspec": {
   "display_name": "Python 3.8.10 64-bit",
   "language": "python",
   "name": "python3"
  },
  "language_info": {
   "codemirror_mode": {
    "name": "ipython",
    "version": 3
   },
   "file_extension": ".py",
   "mimetype": "text/x-python",
   "name": "python",
   "nbconvert_exporter": "python",
   "pygments_lexer": "ipython3",
   "version": "3.8.10"
  },
  "orig_nbformat": 4,
  "vscode": {
   "interpreter": {
    "hash": "916dbcbb3f70747c44a77c7bcd40155683ae19c65e1c03b4aa3499c5328201f1"
   }
  }
 },
 "nbformat": 4,
 "nbformat_minor": 2
}
