{
 "cells": [
  {
   "cell_type": "code",
   "execution_count": 1,
   "metadata": {},
   "outputs": [
    {
     "data": {
      "text/plain": [
       "{'divide': 'warn', 'over': 'warn', 'under': 'ignore', 'invalid': 'warn'}"
      ]
     },
     "execution_count": 1,
     "metadata": {},
     "output_type": "execute_result"
    }
   ],
   "source": [
    "from config import *\n",
    "from pyBKT.models import Model\n",
    "from main_package.utils import data_path_to_abs_path\n",
    "import numpy as np\n",
    "import pandas as pd\n",
    "np.seterr(divide='ignore', invalid='ignore') #pyBKT raises some warnings that I should ignore"
   ]
  },
  {
   "attachments": {},
   "cell_type": "markdown",
   "metadata": {},
   "source": [
    "Applying BKT to piech's data"
   ]
  },
  {
   "cell_type": "code",
   "execution_count": 2,
   "metadata": {},
   "outputs": [],
   "source": [
    "defaults = {'skill_name': 'skill_id'}\n",
    "model = Model(seed = 42, num_fits = 2)"
   ]
  },
  {
   "cell_type": "code",
   "execution_count": 4,
   "metadata": {},
   "outputs": [
    {
     "name": "stdout",
     "output_type": "stream",
     "text": [
      "                        value\n",
      "skill param   class          \n",
      "82    prior   default 0.77088\n",
      "      learns  default 0.08808\n",
      "      guesses default 0.09506\n",
      "      slips   default 0.20276\n",
      "      forgets default 0.00000\n",
      "...                       ...\n",
      "28    prior   default 0.14712\n",
      "      learns  default 1.00000\n",
      "      guesses default 0.50000\n",
      "      slips   default 0.50000\n",
      "      forgets default 0.00000\n",
      "\n",
      "[615 rows x 1 columns]\n"
     ]
    }
   ],
   "source": [
    "model.fit(data_path = data_path_to_abs_path(\"piech/train_df_format.csv\"), defaults=defaults)\n",
    "print(model.params())"
   ]
  },
  {
   "cell_type": "code",
   "execution_count": null,
   "metadata": {},
   "outputs": [],
   "source": [
    "#model.predict(data_path = data_path_to_abs_path(\"piech/test_df_format\"))"
   ]
  },
  {
   "cell_type": "code",
   "execution_count": 5,
   "metadata": {},
   "outputs": [
    {
     "name": "stdout",
     "output_type": "stream",
     "text": [
      "auc: 0.7547118541968068\n",
      "accuracy: 0.7493108963451984\n"
     ]
    }
   ],
   "source": [
    "auc = model.evaluate(data_path = data_path_to_abs_path(\"piech/test_df_format.csv\"), metric='auc')\n",
    "print(f\"auc: {auc}\")\n",
    "acc = model.evaluate(data_path = data_path_to_abs_path(\"piech/test_df_format.csv\"), metric='accuracy')\n",
    "print(f\"accuracy: {acc}\")"
   ]
  },
  {
   "cell_type": "code",
   "execution_count": 7,
   "metadata": {},
   "outputs": [
    {
     "name": "stdout",
     "output_type": "stream",
     "text": [
      "                        value\n",
      "skill param   class          \n",
      "82    prior   default 0.78255\n",
      "      learns  default 0.11263\n",
      "      guesses default 0.05109\n",
      "      slips   default 0.20140\n",
      "      forgets default 0.00460\n",
      "...                       ...\n",
      "28    prior   default 0.09779\n",
      "      learns  default 1.00000\n",
      "      guesses default 0.50000\n",
      "      slips   default 0.50000\n",
      "      forgets default 0.00000\n",
      "\n",
      "[615 rows x 1 columns]\n"
     ]
    }
   ],
   "source": [
    "model2 = Model(seed = 42, num_fits = 2)\n",
    "model2.fit(data_path = data_path_to_abs_path(\"piech/train_df_format.csv\"), defaults=defaults, forgets=True)\n",
    "print(model2.params())"
   ]
  },
  {
   "cell_type": "code",
   "execution_count": 8,
   "metadata": {},
   "outputs": [
    {
     "name": "stdout",
     "output_type": "stream",
     "text": [
      "auc: 0.8261624759154647\n",
      "accuracy: 0.7823283196079766\n"
     ]
    }
   ],
   "source": [
    "auc = model2.evaluate(data_path = data_path_to_abs_path(\"piech/test_df_format.csv\"), metric='auc')\n",
    "print(f\"auc: {auc}\")\n",
    "acc = model2.evaluate(data_path = data_path_to_abs_path(\"piech/test_df_format.csv\"), metric='accuracy')\n",
    "print(f\"accuracy: {acc}\")"
   ]
  },
  {
   "attachments": {},
   "cell_type": "markdown",
   "metadata": {},
   "source": [
    "# Trying custom params"
   ]
  },
  {
   "cell_type": "code",
   "execution_count": 14,
   "metadata": {},
   "outputs": [
    {
     "data": {
      "text/plain": [
       "123"
      ]
     },
     "execution_count": 14,
     "metadata": {},
     "output_type": "execute_result"
    }
   ],
   "source": [
    "def provide_values_for_custom_params(p_L0, p_G, p_S, p_T, p_F):\n",
    "    return {\n",
    "        \"prior\": p_L0,\n",
    "        \"learns\": np.array([p_T]),\n",
    "        \"guesses\": np.array([p_G]),\n",
    "        \"slips\": np.array([p_S]),\n",
    "        \"forgets\": np.array([p_F]),\n",
    "    }\n",
    "\n",
    "df_sample = pd.read_csv(data_path_to_abs_path(\"piech/sample_df_format\"))\n",
    "df_sample['skill_id'].max()"
   ]
  },
  {
   "cell_type": "code",
   "execution_count": 15,
   "metadata": {},
   "outputs": [],
   "source": [
    "custom_params = {\n",
    "    str(i): provide_values_for_custom_params(0.5504063365919529, 0.3, 0.0999999975569658, 0.06302321901515896, 0) for i in range(124)\n",
    "}\n",
    "model.coef_ = custom_params"
   ]
  },
  {
   "cell_type": "code",
   "execution_count": 17,
   "metadata": {},
   "outputs": [],
   "source": [
    "df_piech = pd.read_csv(data_path_to_abs_path(\"piech/sample_df_format\"))"
   ]
  },
  {
   "cell_type": "code",
   "execution_count": 18,
   "metadata": {},
   "outputs": [],
   "source": [
    "model.fit(data = df_piech.head(100), defaults=defaults, multilearn=False, fixed=True)\n"
   ]
  },
  {
   "cell_type": "code",
   "execution_count": 10,
   "metadata": {},
   "outputs": [],
   "source": [
    "def pretty(d, indent=0):\n",
    "   for key, value in d.items():\n",
    "      print(' ' * indent + str(key))\n",
    "      if isinstance(value, dict):\n",
    "         pretty(value, indent+1)\n",
    "      else:\n",
    "         print(' ' * (indent+1) + str(value))"
   ]
  },
  {
   "cell_type": "code",
   "execution_count": 19,
   "metadata": {},
   "outputs": [
    {
     "ename": "KeyError",
     "evalue": "'resource_names'",
     "output_type": "error",
     "traceback": [
      "\u001b[0;31m---------------------------------------------------------------------------\u001b[0m",
      "\u001b[0;31mKeyError\u001b[0m                                  Traceback (most recent call last)",
      "Cell \u001b[0;32mIn [19], line 4\u001b[0m\n\u001b[1;32m      1\u001b[0m \u001b[39m#print(model.coef_)\u001b[39;00m\n\u001b[1;32m      2\u001b[0m \u001b[39m#pretty(model.fit_model)\u001b[39;00m\n\u001b[0;32m----> 4\u001b[0m \u001b[39mprint\u001b[39m(model\u001b[39m.\u001b[39;49mparams())\n",
      "File \u001b[0;32m~/.local/lib/python3.8/site-packages/pyBKT/models/Model.py:334\u001b[0m, in \u001b[0;36mModel.params\u001b[0;34m(self)\u001b[0m\n\u001b[1;32m    332\u001b[0m \u001b[39mfor\u001b[39;00m skill \u001b[39min\u001b[39;00m coefs:\n\u001b[1;32m    333\u001b[0m     \u001b[39mfor\u001b[39;00m param \u001b[39min\u001b[39;00m coefs[skill]:\n\u001b[0;32m--> 334\u001b[0m         classes \u001b[39m=\u001b[39m \u001b[39mself\u001b[39;49m\u001b[39m.\u001b[39;49m_format_param(skill, param, coefs[skill][param])\n\u001b[1;32m    335\u001b[0m         \u001b[39mfor\u001b[39;00m class_ \u001b[39min\u001b[39;00m classes:\n\u001b[1;32m    336\u001b[0m            formatted_coefs\u001b[39m.\u001b[39mappend((skill, param, \u001b[39mstr\u001b[39m(class_), classes[class_]))\n",
      "File \u001b[0;32m~/.local/lib/python3.8/site-packages/pyBKT/models/Model.py:470\u001b[0m, in \u001b[0;36mModel._format_param\u001b[0;34m(self, skill, param, value)\u001b[0m\n\u001b[1;32m    467\u001b[0m \u001b[39mif\u001b[39;00m \u001b[39misinstance\u001b[39m(value, np\u001b[39m.\u001b[39mndarray):\n\u001b[1;32m    468\u001b[0m     ptype \u001b[39m=\u001b[39m \u001b[39m'\u001b[39m\u001b[39mresource_names\u001b[39m\u001b[39m'\u001b[39m \u001b[39mif\u001b[39;00m (param \u001b[39m==\u001b[39m \u001b[39m'\u001b[39m\u001b[39mlearns\u001b[39m\u001b[39m'\u001b[39m \u001b[39mor\u001b[39;00m param \u001b[39m==\u001b[39m \u001b[39m'\u001b[39m\u001b[39mforgets\u001b[39m\u001b[39m'\u001b[39m) \\\n\u001b[1;32m    469\u001b[0m                              \u001b[39melse\u001b[39;00m \u001b[39m'\u001b[39m\u001b[39mgs_names\u001b[39m\u001b[39m'\u001b[39m\n\u001b[0;32m--> 470\u001b[0m     names \u001b[39m=\u001b[39m [\u001b[39mstr\u001b[39m(i) \u001b[39mfor\u001b[39;00m i \u001b[39min\u001b[39;00m \u001b[39mself\u001b[39;49m\u001b[39m.\u001b[39;49mfit_model[skill][ptype]]\n\u001b[1;32m    471\u001b[0m     \u001b[39mreturn\u001b[39;00m \u001b[39mdict\u001b[39m(\u001b[39msorted\u001b[39m(\u001b[39mzip\u001b[39m(names, value)))\n\u001b[1;32m    472\u001b[0m \u001b[39melse\u001b[39;00m:\n",
      "\u001b[0;31mKeyError\u001b[0m: 'resource_names'"
     ]
    }
   ],
   "source": [
    "#print(model.coef_)\n",
    "#pretty(model.fit_model)\n",
    "\n",
    "print(model.params())"
   ]
  },
  {
   "cell_type": "code",
   "execution_count": 20,
   "metadata": {},
   "outputs": [
    {
     "data": {
      "text/html": [
       "<div>\n",
       "<style scoped>\n",
       "    .dataframe tbody tr th:only-of-type {\n",
       "        vertical-align: middle;\n",
       "    }\n",
       "\n",
       "    .dataframe tbody tr th {\n",
       "        vertical-align: top;\n",
       "    }\n",
       "\n",
       "    .dataframe thead th {\n",
       "        text-align: right;\n",
       "    }\n",
       "</style>\n",
       "<table border=\"1\" class=\"dataframe\">\n",
       "  <thead>\n",
       "    <tr style=\"text-align: right;\">\n",
       "      <th></th>\n",
       "      <th>user_id</th>\n",
       "      <th>skill_id</th>\n",
       "      <th>correct</th>\n",
       "      <th>correct_predictions</th>\n",
       "      <th>state_predictions</th>\n",
       "    </tr>\n",
       "  </thead>\n",
       "  <tbody>\n",
       "    <tr>\n",
       "      <th>0</th>\n",
       "      <td>0</td>\n",
       "      <td>51</td>\n",
       "      <td>0</td>\n",
       "      <td>0.63024</td>\n",
       "      <td>0.55041</td>\n",
       "    </tr>\n",
       "    <tr>\n",
       "      <th>1</th>\n",
       "      <td>0</td>\n",
       "      <td>51</td>\n",
       "      <td>1</td>\n",
       "      <td>0.42150</td>\n",
       "      <td>0.20250</td>\n",
       "    </tr>\n",
       "    <tr>\n",
       "      <th>2</th>\n",
       "      <td>0</td>\n",
       "      <td>51</td>\n",
       "      <td>1</td>\n",
       "      <td>0.58089</td>\n",
       "      <td>0.46815</td>\n",
       "    </tr>\n",
       "    <tr>\n",
       "      <th>3</th>\n",
       "      <td>0</td>\n",
       "      <td>51</td>\n",
       "      <td>1</td>\n",
       "      <td>0.74558</td>\n",
       "      <td>0.74264</td>\n",
       "    </tr>\n",
       "    <tr>\n",
       "      <th>4</th>\n",
       "      <td>1</td>\n",
       "      <td>82</td>\n",
       "      <td>0</td>\n",
       "      <td>0.63024</td>\n",
       "      <td>0.55041</td>\n",
       "    </tr>\n",
       "    <tr>\n",
       "      <th>...</th>\n",
       "      <td>...</td>\n",
       "      <td>...</td>\n",
       "      <td>...</td>\n",
       "      <td>...</td>\n",
       "      <td>...</td>\n",
       "    </tr>\n",
       "    <tr>\n",
       "      <th>406</th>\n",
       "      <td>10</td>\n",
       "      <td>123</td>\n",
       "      <td>1</td>\n",
       "      <td>0.89996</td>\n",
       "      <td>0.99994</td>\n",
       "    </tr>\n",
       "    <tr>\n",
       "      <th>407</th>\n",
       "      <td>10</td>\n",
       "      <td>123</td>\n",
       "      <td>0</td>\n",
       "      <td>0.89999</td>\n",
       "      <td>0.99998</td>\n",
       "    </tr>\n",
       "    <tr>\n",
       "      <th>408</th>\n",
       "      <td>10</td>\n",
       "      <td>123</td>\n",
       "      <td>0</td>\n",
       "      <td>0.89992</td>\n",
       "      <td>0.99987</td>\n",
       "    </tr>\n",
       "    <tr>\n",
       "      <th>409</th>\n",
       "      <td>10</td>\n",
       "      <td>123</td>\n",
       "      <td>1</td>\n",
       "      <td>0.89948</td>\n",
       "      <td>0.99914</td>\n",
       "    </tr>\n",
       "    <tr>\n",
       "      <th>410</th>\n",
       "      <td>10</td>\n",
       "      <td>123</td>\n",
       "      <td>0</td>\n",
       "      <td>0.89984</td>\n",
       "      <td>0.99973</td>\n",
       "    </tr>\n",
       "  </tbody>\n",
       "</table>\n",
       "<p>411 rows × 5 columns</p>\n",
       "</div>"
      ],
      "text/plain": [
       "     user_id skill_id  correct  correct_predictions  state_predictions\n",
       "0          0       51        0              0.63024            0.55041\n",
       "1          0       51        1              0.42150            0.20250\n",
       "2          0       51        1              0.58089            0.46815\n",
       "3          0       51        1              0.74558            0.74264\n",
       "4          1       82        0              0.63024            0.55041\n",
       "..       ...      ...      ...                  ...                ...\n",
       "406       10      123        1              0.89996            0.99994\n",
       "407       10      123        0              0.89999            0.99998\n",
       "408       10      123        0              0.89992            0.99987\n",
       "409       10      123        1              0.89948            0.99914\n",
       "410       10      123        0              0.89984            0.99973\n",
       "\n",
       "[411 rows x 5 columns]"
      ]
     },
     "execution_count": 20,
     "metadata": {},
     "output_type": "execute_result"
    }
   ],
   "source": [
    "model.predict(data_path = data_path_to_abs_path(\"piech/sample_df_format\"))"
   ]
  },
  {
   "cell_type": "code",
   "execution_count": 21,
   "metadata": {},
   "outputs": [],
   "source": [
    "auc = model.evaluate(data = df_piech, metric = 'auc')"
   ]
  }
 ],
 "metadata": {
  "kernelspec": {
   "display_name": "Python 3.8.10 64-bit",
   "language": "python",
   "name": "python3"
  },
  "language_info": {
   "codemirror_mode": {
    "name": "ipython",
    "version": 3
   },
   "file_extension": ".py",
   "mimetype": "text/x-python",
   "name": "python",
   "nbconvert_exporter": "python",
   "pygments_lexer": "ipython3",
   "version": "3.8.10"
  },
  "orig_nbformat": 4,
  "vscode": {
   "interpreter": {
    "hash": "916dbcbb3f70747c44a77c7bcd40155683ae19c65e1c03b4aa3499c5328201f1"
   }
  }
 },
 "nbformat": 4,
 "nbformat_minor": 2
}
