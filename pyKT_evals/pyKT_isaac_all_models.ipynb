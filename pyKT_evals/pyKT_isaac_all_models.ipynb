{
  "nbformat": 4,
  "nbformat_minor": 0,
  "metadata": {
    "colab": {
      "provenance": [],
      "collapsed_sections": [
        "9Ubxdfl2iwJS",
        "yOP5FKc4B2G_",
        "gql0A8m8AYGO",
        "PcegvZtZziOR",
        "axHTuNS8zpTQ",
        "7m6st1Nq7V25",
        "21dgdC2jCDSc",
        "0Dye1xHc6-Ow"
      ],
      "include_colab_link": true
    },
    "kernelspec": {
      "name": "python3",
      "display_name": "Python 3"
    },
    "language_info": {
      "name": "python"
    },
    "gpuClass": "standard",
    "accelerator": "GPU"
  },
  "cells": [
    {
      "cell_type": "markdown",
      "metadata": {
        "id": "view-in-github",
        "colab_type": "text"
      },
      "source": [
        "<a href=\"https://colab.research.google.com/github/Mirko6/part-II-project/blob/main/pyKT_evals/pyKT_isaac_all_models.ipynb\" target=\"_parent\"><img src=\"https://colab.research.google.com/assets/colab-badge.svg\" alt=\"Open In Colab\"/></a>"
      ]
    },
    {
      "cell_type": "markdown",
      "source": [
        "## pyKT install"
      ],
      "metadata": {
        "id": "9Ubxdfl2iwJS"
      }
    },
    {
      "cell_type": "code",
      "execution_count": null,
      "metadata": {
        "colab": {
          "base_uri": "https://localhost:8080/"
        },
        "id": "576hXg9HA9oK",
        "outputId": "883d4633-0a02-4084-c8e8-8db3008c316b"
      },
      "outputs": [
        {
          "output_type": "stream",
          "name": "stdout",
          "text": [
            "Looking in indexes: https://pypi.org/simple, https://us-python.pkg.dev/colab-wheels/public/simple/\n",
            "Collecting pykt-toolkit\n",
            "  Downloading pykt_toolkit-0.0.38-py3-none-any.whl (114 kB)\n",
            "\u001b[2K     \u001b[90m━━━━━━━━━━━━━━━━━━━━━━━━━━━━━━━━━━━━━━━\u001b[0m \u001b[32m114.3/114.3 kB\u001b[0m \u001b[31m6.2 MB/s\u001b[0m eta \u001b[36m0:00:00\u001b[0m\n",
            "\u001b[?25hRequirement already satisfied: scikit-learn in /usr/local/lib/python3.10/dist-packages (from pykt-toolkit) (1.2.2)\n",
            "Collecting wandb>=0.12.9\n",
            "  Downloading wandb-0.15.0-py3-none-any.whl (2.0 MB)\n",
            "\u001b[2K     \u001b[90m━━━━━━━━━━━━━━━━━━━━━━━━━━━━━━━━━━━━━━━━\u001b[0m \u001b[32m2.0/2.0 MB\u001b[0m \u001b[31m15.0 MB/s\u001b[0m eta \u001b[36m0:00:00\u001b[0m\n",
            "\u001b[?25hRequirement already satisfied: torch>=1.7.0 in /usr/local/lib/python3.10/dist-packages (from pykt-toolkit) (2.0.0+cu118)\n",
            "Requirement already satisfied: pandas>=1.1.5 in /usr/local/lib/python3.10/dist-packages (from pykt-toolkit) (1.5.3)\n",
            "Requirement already satisfied: numpy>=1.17.2 in /usr/local/lib/python3.10/dist-packages (from pykt-toolkit) (1.22.4)\n",
            "Requirement already satisfied: pytz>=2020.1 in /usr/local/lib/python3.10/dist-packages (from pandas>=1.1.5->pykt-toolkit) (2022.7.1)\n",
            "Requirement already satisfied: python-dateutil>=2.8.1 in /usr/local/lib/python3.10/dist-packages (from pandas>=1.1.5->pykt-toolkit) (2.8.2)\n",
            "Requirement already satisfied: triton==2.0.0 in /usr/local/lib/python3.10/dist-packages (from torch>=1.7.0->pykt-toolkit) (2.0.0)\n",
            "Requirement already satisfied: networkx in /usr/local/lib/python3.10/dist-packages (from torch>=1.7.0->pykt-toolkit) (3.1)\n",
            "Requirement already satisfied: sympy in /usr/local/lib/python3.10/dist-packages (from torch>=1.7.0->pykt-toolkit) (1.11.1)\n",
            "Requirement already satisfied: typing-extensions in /usr/local/lib/python3.10/dist-packages (from torch>=1.7.0->pykt-toolkit) (4.5.0)\n",
            "Requirement already satisfied: filelock in /usr/local/lib/python3.10/dist-packages (from torch>=1.7.0->pykt-toolkit) (3.12.0)\n",
            "Requirement already satisfied: jinja2 in /usr/local/lib/python3.10/dist-packages (from torch>=1.7.0->pykt-toolkit) (3.1.2)\n",
            "Requirement already satisfied: lit in /usr/local/lib/python3.10/dist-packages (from triton==2.0.0->torch>=1.7.0->pykt-toolkit) (16.0.2)\n",
            "Requirement already satisfied: cmake in /usr/local/lib/python3.10/dist-packages (from triton==2.0.0->torch>=1.7.0->pykt-toolkit) (3.25.2)\n",
            "Collecting setproctitle\n",
            "  Downloading setproctitle-1.3.2-cp310-cp310-manylinux_2_5_x86_64.manylinux1_x86_64.manylinux_2_17_x86_64.manylinux2014_x86_64.whl (30 kB)\n",
            "Collecting docker-pycreds>=0.4.0\n",
            "  Downloading docker_pycreds-0.4.0-py2.py3-none-any.whl (9.0 kB)\n",
            "Requirement already satisfied: requests<3,>=2.0.0 in /usr/local/lib/python3.10/dist-packages (from wandb>=0.12.9->pykt-toolkit) (2.27.1)\n",
            "Requirement already satisfied: psutil>=5.0.0 in /usr/local/lib/python3.10/dist-packages (from wandb>=0.12.9->pykt-toolkit) (5.9.5)\n",
            "Requirement already satisfied: PyYAML in /usr/local/lib/python3.10/dist-packages (from wandb>=0.12.9->pykt-toolkit) (6.0)\n",
            "Requirement already satisfied: appdirs>=1.4.3 in /usr/local/lib/python3.10/dist-packages (from wandb>=0.12.9->pykt-toolkit) (1.4.4)\n",
            "Requirement already satisfied: setuptools in /usr/local/lib/python3.10/dist-packages (from wandb>=0.12.9->pykt-toolkit) (67.7.2)\n",
            "Requirement already satisfied: protobuf!=4.21.0,<5,>=3.19.0 in /usr/local/lib/python3.10/dist-packages (from wandb>=0.12.9->pykt-toolkit) (3.20.3)\n",
            "Collecting pathtools\n",
            "  Downloading pathtools-0.1.2.tar.gz (11 kB)\n",
            "  Preparing metadata (setup.py) ... \u001b[?25l\u001b[?25hdone\n",
            "Collecting sentry-sdk>=1.0.0\n",
            "  Downloading sentry_sdk-1.21.1-py2.py3-none-any.whl (201 kB)\n",
            "\u001b[2K     \u001b[90m━━━━━━━━━━━━━━━━━━━━━━━━━━━━━━━━━━━━━━\u001b[0m \u001b[32m201.7/201.7 kB\u001b[0m \u001b[31m11.6 MB/s\u001b[0m eta \u001b[36m0:00:00\u001b[0m\n",
            "\u001b[?25hRequirement already satisfied: Click!=8.0.0,>=7.0 in /usr/local/lib/python3.10/dist-packages (from wandb>=0.12.9->pykt-toolkit) (8.1.3)\n",
            "Collecting GitPython!=3.1.29,>=1.0.0\n",
            "  Downloading GitPython-3.1.31-py3-none-any.whl (184 kB)\n",
            "\u001b[2K     \u001b[90m━━━━━━━━━━━━━━━━━━━━━━━━━━━━━━━━━━━━━━\u001b[0m \u001b[32m184.3/184.3 kB\u001b[0m \u001b[31m14.6 MB/s\u001b[0m eta \u001b[36m0:00:00\u001b[0m\n",
            "\u001b[?25hRequirement already satisfied: joblib>=1.1.1 in /usr/local/lib/python3.10/dist-packages (from scikit-learn->pykt-toolkit) (1.2.0)\n",
            "Requirement already satisfied: threadpoolctl>=2.0.0 in /usr/local/lib/python3.10/dist-packages (from scikit-learn->pykt-toolkit) (3.1.0)\n",
            "Requirement already satisfied: scipy>=1.3.2 in /usr/local/lib/python3.10/dist-packages (from scikit-learn->pykt-toolkit) (1.10.1)\n",
            "Requirement already satisfied: six>=1.4.0 in /usr/local/lib/python3.10/dist-packages (from docker-pycreds>=0.4.0->wandb>=0.12.9->pykt-toolkit) (1.16.0)\n",
            "Collecting gitdb<5,>=4.0.1\n",
            "  Downloading gitdb-4.0.10-py3-none-any.whl (62 kB)\n",
            "\u001b[2K     \u001b[90m━━━━━━━━━━━━━━━━━━━━━━━━━━━━━━━━━━━━━━━━\u001b[0m \u001b[32m62.7/62.7 kB\u001b[0m \u001b[31m3.5 MB/s\u001b[0m eta \u001b[36m0:00:00\u001b[0m\n",
            "\u001b[?25hRequirement already satisfied: charset-normalizer~=2.0.0 in /usr/local/lib/python3.10/dist-packages (from requests<3,>=2.0.0->wandb>=0.12.9->pykt-toolkit) (2.0.12)\n",
            "Requirement already satisfied: urllib3<1.27,>=1.21.1 in /usr/local/lib/python3.10/dist-packages (from requests<3,>=2.0.0->wandb>=0.12.9->pykt-toolkit) (1.26.15)\n",
            "Requirement already satisfied: certifi>=2017.4.17 in /usr/local/lib/python3.10/dist-packages (from requests<3,>=2.0.0->wandb>=0.12.9->pykt-toolkit) (2022.12.7)\n",
            "Requirement already satisfied: idna<4,>=2.5 in /usr/local/lib/python3.10/dist-packages (from requests<3,>=2.0.0->wandb>=0.12.9->pykt-toolkit) (3.4)\n",
            "Requirement already satisfied: MarkupSafe>=2.0 in /usr/local/lib/python3.10/dist-packages (from jinja2->torch>=1.7.0->pykt-toolkit) (2.1.2)\n",
            "Requirement already satisfied: mpmath>=0.19 in /usr/local/lib/python3.10/dist-packages (from sympy->torch>=1.7.0->pykt-toolkit) (1.3.0)\n",
            "Collecting smmap<6,>=3.0.1\n",
            "  Downloading smmap-5.0.0-py3-none-any.whl (24 kB)\n",
            "Building wheels for collected packages: pathtools\n",
            "  Building wheel for pathtools (setup.py) ... \u001b[?25l\u001b[?25hdone\n",
            "  Created wheel for pathtools: filename=pathtools-0.1.2-py3-none-any.whl size=8807 sha256=71274e0d53856366d30b5a44eaeefd04d52861a340df25d77be953bacca3ebca\n",
            "  Stored in directory: /root/.cache/pip/wheels/e7/f3/22/152153d6eb222ee7a56ff8617d80ee5207207a8c00a7aab794\n",
            "Successfully built pathtools\n",
            "Installing collected packages: pathtools, smmap, setproctitle, sentry-sdk, docker-pycreds, gitdb, GitPython, wandb, pykt-toolkit\n",
            "Successfully installed GitPython-3.1.31 docker-pycreds-0.4.0 gitdb-4.0.10 pathtools-0.1.2 pykt-toolkit-0.0.38 sentry-sdk-1.21.1 setproctitle-1.3.2 smmap-5.0.0 wandb-0.15.0\n"
          ]
        }
      ],
      "source": [
        "%pip install -U pykt-toolkit"
      ]
    },
    {
      "cell_type": "code",
      "source": [
        "!git clone https://github.com/pykt-team/pykt-toolkit.git"
      ],
      "metadata": {
        "colab": {
          "base_uri": "https://localhost:8080/"
        },
        "id": "pIesxyFoBn8f",
        "outputId": "9d1ce0a2-d4cd-4c9c-8caa-0016b9564029"
      },
      "execution_count": null,
      "outputs": [
        {
          "output_type": "stream",
          "name": "stdout",
          "text": [
            "Cloning into 'pykt-toolkit'...\n",
            "remote: Enumerating objects: 6327, done.\u001b[K\n",
            "remote: Counting objects: 100% (737/737), done.\u001b[K\n",
            "remote: Compressing objects: 100% (310/310), done.\u001b[K\n",
            "remote: Total 6327 (delta 530), reused 595 (delta 426), pack-reused 5590\u001b[K\n",
            "Receiving objects: 100% (6327/6327), 33.81 MiB | 16.72 MiB/s, done.\n",
            "Resolving deltas: 100% (4911/4911), done.\n"
          ]
        }
      ]
    },
    {
      "cell_type": "markdown",
      "source": [
        "## assist 2009\n",
        "just for creating the file path data/assist2009/skill_....csv\n",
        "\n",
        "I uploaded the isaac csv manually"
      ],
      "metadata": {
        "id": "yOP5FKc4B2G_"
      }
    },
    {
      "cell_type": "code",
      "source": [
        "#assistment 2009 - download\n",
        "assistment_2009_download_id = '1NNXHFRxcArrU0ZJSb9BIL56vmUt5FhlE'\n",
        "# google link 'https://drive.google.com/u/0/uc?id=1NNXHFRxcArrU0ZJSb9BIL56vmUt5FhlE&export=download'\n",
        "url = 'https://drive.google.com/uc?id=' + assistment_2009_download_id\n",
        "import gdown, pandas as pd\n",
        "!mkdir pykt-toolkit/data/assist2009\n",
        "output = 'pykt-toolkit/data/assist2009/skill_builder_data_corrected_collapsed.csv'\n",
        "gdown.download(url, output, quiet=False)"
      ],
      "metadata": {
        "colab": {
          "base_uri": "https://localhost:8080/",
          "height": 122
        },
        "id": "U3M2nIHABPW8",
        "outputId": "e4be8dd6-6ef3-4f57-d777-0b5958771cac"
      },
      "execution_count": null,
      "outputs": [
        {
          "output_type": "stream",
          "name": "stdout",
          "text": [
            "mkdir: cannot create directory ‘pykt-toolkit/data/assist2009’: File exists\n"
          ]
        },
        {
          "output_type": "stream",
          "name": "stderr",
          "text": [
            "Downloading...\n",
            "From: https://drive.google.com/uc?id=1NNXHFRxcArrU0ZJSb9BIL56vmUt5FhlE\n",
            "To: /content/pykt-toolkit/data/assist2009/skill_builder_data_corrected_collapsed.csv\n",
            "100%|██████████| 64.4M/64.4M [00:00<00:00, 271MB/s]\n"
          ]
        },
        {
          "output_type": "execute_result",
          "data": {
            "text/plain": [
              "'pykt-toolkit/data/assist2009/skill_builder_data_corrected_collapsed.csv'"
            ],
            "application/vnd.google.colaboratory.intrinsic+json": {
              "type": "string"
            }
          },
          "metadata": {},
          "execution_count": 8
        }
      ]
    },
    {
      "cell_type": "code",
      "source": [
        "#assistment 2009 - open using windows-1252 encoding and save to appropriate place\n",
        "\n",
        "df = pd.read_csv(\n",
        "    \"pykt-toolkit/data/assist2009/skill_builder_data_corrected_collapsed.csv\",\n",
        "    encoding='windows-1252'\n",
        "  )\n",
        "df_sample = df.head(500) # to have a faster execution, comment out this line to use whole dataset\n",
        "df_sample.to_csv(\"pykt-toolkit/data/assist2009/skill_builder_data_corrected_collapsed.csv\")\n",
        "df_sample.head()"
      ],
      "metadata": {
        "colab": {
          "base_uri": "https://localhost:8080/",
          "height": 351
        },
        "id": "c-fEmz5rBncj",
        "outputId": "b529ffa5-e958-4dc1-b2a7-9b3c2a0a2309"
      },
      "execution_count": null,
      "outputs": [
        {
          "output_type": "stream",
          "name": "stderr",
          "text": [
            "<ipython-input-9-45fbecc8863a>:3: DtypeWarning: Columns (17,18) have mixed types. Specify dtype option on import or set low_memory=False.\n",
            "  df = pd.read_csv(\n"
          ]
        },
        {
          "output_type": "execute_result",
          "data": {
            "text/plain": [
              "   Unnamed: 0  order_id  assignment_id  user_id  assistment_id  problem_id  \\\n",
              "0           1  33022537         277618    64525          33139       51424   \n",
              "1           2  33022709         277618    64525          33150       51435   \n",
              "2           3  35450204         220674    70363          33159       51444   \n",
              "3           4  35450295         220674    70363          33110       51395   \n",
              "4           5  35450311         220674    70363          33196       51481   \n",
              "\n",
              "   original  correct  attempt_count  ms_first_response  ... hint_count  \\\n",
              "0         1        1              1              32454  ...          0   \n",
              "1         1        1              1               4922  ...          0   \n",
              "2         1        0              2              25390  ...          0   \n",
              "3         1        1              1               4859  ...          0   \n",
              "4         1        0             14              19813  ...          3   \n",
              "\n",
              "  hint_total  overlap_time  template_id  answer_id answer_text  first_action  \\\n",
              "0          3         32454        30799        NaN          26             0   \n",
              "1          3          4922        30799        NaN          55             0   \n",
              "2          3         42000        30799        NaN          88             0   \n",
              "3          3          4859        30059        NaN          41             0   \n",
              "4          4        124564        30060        NaN          65             0   \n",
              "\n",
              "  bottom_hint opportunity  opportunity_original  \n",
              "0         NaN           1                   1.0  \n",
              "1         NaN           2                   2.0  \n",
              "2         NaN           1                   1.0  \n",
              "3         NaN           2                   2.0  \n",
              "4         0.0           3                   3.0  \n",
              "\n",
              "[5 rows x 31 columns]"
            ],
            "text/html": [
              "\n",
              "  <div id=\"df-ae06feaf-b256-44d1-94e5-826a5c559d08\">\n",
              "    <div class=\"colab-df-container\">\n",
              "      <div>\n",
              "<style scoped>\n",
              "    .dataframe tbody tr th:only-of-type {\n",
              "        vertical-align: middle;\n",
              "    }\n",
              "\n",
              "    .dataframe tbody tr th {\n",
              "        vertical-align: top;\n",
              "    }\n",
              "\n",
              "    .dataframe thead th {\n",
              "        text-align: right;\n",
              "    }\n",
              "</style>\n",
              "<table border=\"1\" class=\"dataframe\">\n",
              "  <thead>\n",
              "    <tr style=\"text-align: right;\">\n",
              "      <th></th>\n",
              "      <th>Unnamed: 0</th>\n",
              "      <th>order_id</th>\n",
              "      <th>assignment_id</th>\n",
              "      <th>user_id</th>\n",
              "      <th>assistment_id</th>\n",
              "      <th>problem_id</th>\n",
              "      <th>original</th>\n",
              "      <th>correct</th>\n",
              "      <th>attempt_count</th>\n",
              "      <th>ms_first_response</th>\n",
              "      <th>...</th>\n",
              "      <th>hint_count</th>\n",
              "      <th>hint_total</th>\n",
              "      <th>overlap_time</th>\n",
              "      <th>template_id</th>\n",
              "      <th>answer_id</th>\n",
              "      <th>answer_text</th>\n",
              "      <th>first_action</th>\n",
              "      <th>bottom_hint</th>\n",
              "      <th>opportunity</th>\n",
              "      <th>opportunity_original</th>\n",
              "    </tr>\n",
              "  </thead>\n",
              "  <tbody>\n",
              "    <tr>\n",
              "      <th>0</th>\n",
              "      <td>1</td>\n",
              "      <td>33022537</td>\n",
              "      <td>277618</td>\n",
              "      <td>64525</td>\n",
              "      <td>33139</td>\n",
              "      <td>51424</td>\n",
              "      <td>1</td>\n",
              "      <td>1</td>\n",
              "      <td>1</td>\n",
              "      <td>32454</td>\n",
              "      <td>...</td>\n",
              "      <td>0</td>\n",
              "      <td>3</td>\n",
              "      <td>32454</td>\n",
              "      <td>30799</td>\n",
              "      <td>NaN</td>\n",
              "      <td>26</td>\n",
              "      <td>0</td>\n",
              "      <td>NaN</td>\n",
              "      <td>1</td>\n",
              "      <td>1.0</td>\n",
              "    </tr>\n",
              "    <tr>\n",
              "      <th>1</th>\n",
              "      <td>2</td>\n",
              "      <td>33022709</td>\n",
              "      <td>277618</td>\n",
              "      <td>64525</td>\n",
              "      <td>33150</td>\n",
              "      <td>51435</td>\n",
              "      <td>1</td>\n",
              "      <td>1</td>\n",
              "      <td>1</td>\n",
              "      <td>4922</td>\n",
              "      <td>...</td>\n",
              "      <td>0</td>\n",
              "      <td>3</td>\n",
              "      <td>4922</td>\n",
              "      <td>30799</td>\n",
              "      <td>NaN</td>\n",
              "      <td>55</td>\n",
              "      <td>0</td>\n",
              "      <td>NaN</td>\n",
              "      <td>2</td>\n",
              "      <td>2.0</td>\n",
              "    </tr>\n",
              "    <tr>\n",
              "      <th>2</th>\n",
              "      <td>3</td>\n",
              "      <td>35450204</td>\n",
              "      <td>220674</td>\n",
              "      <td>70363</td>\n",
              "      <td>33159</td>\n",
              "      <td>51444</td>\n",
              "      <td>1</td>\n",
              "      <td>0</td>\n",
              "      <td>2</td>\n",
              "      <td>25390</td>\n",
              "      <td>...</td>\n",
              "      <td>0</td>\n",
              "      <td>3</td>\n",
              "      <td>42000</td>\n",
              "      <td>30799</td>\n",
              "      <td>NaN</td>\n",
              "      <td>88</td>\n",
              "      <td>0</td>\n",
              "      <td>NaN</td>\n",
              "      <td>1</td>\n",
              "      <td>1.0</td>\n",
              "    </tr>\n",
              "    <tr>\n",
              "      <th>3</th>\n",
              "      <td>4</td>\n",
              "      <td>35450295</td>\n",
              "      <td>220674</td>\n",
              "      <td>70363</td>\n",
              "      <td>33110</td>\n",
              "      <td>51395</td>\n",
              "      <td>1</td>\n",
              "      <td>1</td>\n",
              "      <td>1</td>\n",
              "      <td>4859</td>\n",
              "      <td>...</td>\n",
              "      <td>0</td>\n",
              "      <td>3</td>\n",
              "      <td>4859</td>\n",
              "      <td>30059</td>\n",
              "      <td>NaN</td>\n",
              "      <td>41</td>\n",
              "      <td>0</td>\n",
              "      <td>NaN</td>\n",
              "      <td>2</td>\n",
              "      <td>2.0</td>\n",
              "    </tr>\n",
              "    <tr>\n",
              "      <th>4</th>\n",
              "      <td>5</td>\n",
              "      <td>35450311</td>\n",
              "      <td>220674</td>\n",
              "      <td>70363</td>\n",
              "      <td>33196</td>\n",
              "      <td>51481</td>\n",
              "      <td>1</td>\n",
              "      <td>0</td>\n",
              "      <td>14</td>\n",
              "      <td>19813</td>\n",
              "      <td>...</td>\n",
              "      <td>3</td>\n",
              "      <td>4</td>\n",
              "      <td>124564</td>\n",
              "      <td>30060</td>\n",
              "      <td>NaN</td>\n",
              "      <td>65</td>\n",
              "      <td>0</td>\n",
              "      <td>0.0</td>\n",
              "      <td>3</td>\n",
              "      <td>3.0</td>\n",
              "    </tr>\n",
              "  </tbody>\n",
              "</table>\n",
              "<p>5 rows × 31 columns</p>\n",
              "</div>\n",
              "      <button class=\"colab-df-convert\" onclick=\"convertToInteractive('df-ae06feaf-b256-44d1-94e5-826a5c559d08')\"\n",
              "              title=\"Convert this dataframe to an interactive table.\"\n",
              "              style=\"display:none;\">\n",
              "        \n",
              "  <svg xmlns=\"http://www.w3.org/2000/svg\" height=\"24px\"viewBox=\"0 0 24 24\"\n",
              "       width=\"24px\">\n",
              "    <path d=\"M0 0h24v24H0V0z\" fill=\"none\"/>\n",
              "    <path d=\"M18.56 5.44l.94 2.06.94-2.06 2.06-.94-2.06-.94-.94-2.06-.94 2.06-2.06.94zm-11 1L8.5 8.5l.94-2.06 2.06-.94-2.06-.94L8.5 2.5l-.94 2.06-2.06.94zm10 10l.94 2.06.94-2.06 2.06-.94-2.06-.94-.94-2.06-.94 2.06-2.06.94z\"/><path d=\"M17.41 7.96l-1.37-1.37c-.4-.4-.92-.59-1.43-.59-.52 0-1.04.2-1.43.59L10.3 9.45l-7.72 7.72c-.78.78-.78 2.05 0 2.83L4 21.41c.39.39.9.59 1.41.59.51 0 1.02-.2 1.41-.59l7.78-7.78 2.81-2.81c.8-.78.8-2.07 0-2.86zM5.41 20L4 18.59l7.72-7.72 1.47 1.35L5.41 20z\"/>\n",
              "  </svg>\n",
              "      </button>\n",
              "      \n",
              "  <style>\n",
              "    .colab-df-container {\n",
              "      display:flex;\n",
              "      flex-wrap:wrap;\n",
              "      gap: 12px;\n",
              "    }\n",
              "\n",
              "    .colab-df-convert {\n",
              "      background-color: #E8F0FE;\n",
              "      border: none;\n",
              "      border-radius: 50%;\n",
              "      cursor: pointer;\n",
              "      display: none;\n",
              "      fill: #1967D2;\n",
              "      height: 32px;\n",
              "      padding: 0 0 0 0;\n",
              "      width: 32px;\n",
              "    }\n",
              "\n",
              "    .colab-df-convert:hover {\n",
              "      background-color: #E2EBFA;\n",
              "      box-shadow: 0px 1px 2px rgba(60, 64, 67, 0.3), 0px 1px 3px 1px rgba(60, 64, 67, 0.15);\n",
              "      fill: #174EA6;\n",
              "    }\n",
              "\n",
              "    [theme=dark] .colab-df-convert {\n",
              "      background-color: #3B4455;\n",
              "      fill: #D2E3FC;\n",
              "    }\n",
              "\n",
              "    [theme=dark] .colab-df-convert:hover {\n",
              "      background-color: #434B5C;\n",
              "      box-shadow: 0px 1px 3px 1px rgba(0, 0, 0, 0.15);\n",
              "      filter: drop-shadow(0px 1px 2px rgba(0, 0, 0, 0.3));\n",
              "      fill: #FFFFFF;\n",
              "    }\n",
              "  </style>\n",
              "\n",
              "      <script>\n",
              "        const buttonEl =\n",
              "          document.querySelector('#df-ae06feaf-b256-44d1-94e5-826a5c559d08 button.colab-df-convert');\n",
              "        buttonEl.style.display =\n",
              "          google.colab.kernel.accessAllowed ? 'block' : 'none';\n",
              "\n",
              "        async function convertToInteractive(key) {\n",
              "          const element = document.querySelector('#df-ae06feaf-b256-44d1-94e5-826a5c559d08');\n",
              "          const dataTable =\n",
              "            await google.colab.kernel.invokeFunction('convertToInteractive',\n",
              "                                                     [key], {});\n",
              "          if (!dataTable) return;\n",
              "\n",
              "          const docLinkHtml = 'Like what you see? Visit the ' +\n",
              "            '<a target=\"_blank\" href=https://colab.research.google.com/notebooks/data_table.ipynb>data table notebook</a>'\n",
              "            + ' to learn more about interactive tables.';\n",
              "          element.innerHTML = '';\n",
              "          dataTable['output_type'] = 'display_data';\n",
              "          await google.colab.output.renderOutput(dataTable, element);\n",
              "          const docLink = document.createElement('div');\n",
              "          docLink.innerHTML = docLinkHtml;\n",
              "          element.appendChild(docLink);\n",
              "        }\n",
              "      </script>\n",
              "    </div>\n",
              "  </div>\n",
              "  "
            ]
          },
          "metadata": {},
          "execution_count": 9
        }
      ]
    },
    {
      "cell_type": "code",
      "source": [
        "print(f'number of interactions: {len(df)}')\n",
        "print(f\"number of questions: {len(df['problem_id'].unique())}\")\n",
        "print(f\"number of students: {len(df['user_id'].unique())}\")"
      ],
      "metadata": {
        "colab": {
          "base_uri": "https://localhost:8080/"
        },
        "id": "T4oGndZU-2gs",
        "outputId": "b6ef4e85-caf4-4ff9-c0e1-596c188f45d7"
      },
      "execution_count": null,
      "outputs": [
        {
          "output_type": "stream",
          "name": "stdout",
          "text": [
            "number of interactions: 346860\n",
            "number of questions: 26688\n",
            "number of students: 4217\n"
          ]
        }
      ]
    },
    {
      "cell_type": "code",
      "source": [
        "#df.to_csv(\"pykt-toolkit/data/assist2009/skill_builder_data_corrected_collapsed.csv\")"
      ],
      "metadata": {
        "id": "uZhsN1-8DUqS"
      },
      "execution_count": null,
      "outputs": []
    },
    {
      "cell_type": "markdown",
      "source": [
        "Make sure, I use the same data as pyKT:\n",
        "\n",
        "\n",
        "https://pykt-toolkit.readthedocs.io/en/latest/datasets.html\n",
        "This dataset is made up of math exercises, collected from the free online tutoring ASSISTments platform in the school year 2009-2010. The dataset consists of **346,860 interactions, 4,217 students, and 26,688 questions** and is widely used and has been the standard benchmark for KT methods over the last decade."
      ],
      "metadata": {
        "id": "3krNqoAj_xaz"
      }
    },
    {
      "cell_type": "markdown",
      "source": [
        "## Preprocess"
      ],
      "metadata": {
        "id": "gql0A8m8AYGO"
      }
    },
    {
      "cell_type": "code",
      "source": [
        "!cd pykt-toolkit/examples/ ; python data_preprocess.py --dataset_name=assist2009"
      ],
      "metadata": {
        "colab": {
          "base_uri": "https://localhost:8080/"
        },
        "id": "CN5VIxFHBuaf",
        "outputId": "9a732805-fab7-4c3e-db63-74bf921fd08d"
      },
      "execution_count": null,
      "outputs": [
        {
          "output_type": "stream",
          "name": "stdout",
          "text": [
            "Namespace(dataset_name='assist2009', file_path='../data/peiyou/grade3_students_b_200.csv', min_seq_len=3, maxlen=200, kfold=5)\n",
            "Start preprocessing data: assist2009\n",
            "original interaction num: 480534, user num: 46612, question num: 536, concept num: 94, avg(ins) per s: 10.3092, avg(c) per q: 2.4272, na: 0\n",
            "after drop interaction num: 480534, user num: 46612, question num: 536, concept num: 94, avg(ins) per s: 10.3092, avg(c) per q: 2.4272, na: 0\n",
            "/usr/local/lib/python3.10/dist-packages/pykt/preprocess/assist2009_preprocess.py:25: FutureWarning: In a future version of pandas, a length 1 tuple will be returned when iterating over a groupby with a grouper equal to a list of length 1. Don't supply a list with a single grouper to avoid this warning.\n",
            "  for ui in ui_df:\n",
            "480534,46612,536,94,10.3092,2.4272,0\n",
            "480534,46612,536,94,10.3092,2.4272,0\n",
            "--------------------------------------------------\n",
            "delete bad stu num of len: 16624, delete interactions: 22934, of r: 0, good num: 457600\n",
            "====================\n",
            "original total interactions: 457600, qs: 536, cs: 94, seqnum: 29988\n",
            "df.columns: Index(['uid', 'is_repeat', 'concepts', 'responses', 'questions'], dtype='object')\n",
            "====================\n",
            "after extend multi, total interactions: 1146735, qs: 536, cs: 94, seqnum: 29988\n",
            "total num: 29988, train+valid num: 23991, test num: 5997\n",
            "fold: 1, start: 0, end: 4799, total num: 23991\n",
            "fold: 2, start: 4799, end: 9597, total num: 23991\n",
            "fold: 3, start: 9597, end: 14395, total num: 23991\n",
            "fold: 4, start: 14395, end: 19193, total num: 23991\n",
            "fold: 5, start: 19193, end: 23991, total num: 23991\n",
            "train+valid original interactions num: 911147, select num: 0, qs: 536, cs: 94, seqnum: 23991\n",
            "dropnum: 10\n",
            "train+valid sequences interactions num: 911137, select num: 911137, qs: 536, cs: 94, seqnum: 24816\n",
            "dropnum: 1\n",
            "original test interactions num: 235588, select num: 0, qs: 508, cs: 92, seqnum: 5997\n",
            "test sequences interactions num: 235587, select num: 235587, qs: 508, cs: 92, seqnum: 6235\n",
            "====================\n",
            "test window interactions num: 5671074, select num: 235588, qs: 508, cs: 92, seqnum: 33311\n",
            "test question interactions num: 9916346, select num: 220892, qs: 508, cs: 92, seqnum: 198021\n",
            "test question window interactions num: 13326283, select num: 221317, qs: 508, cs: 92, seqnum: 201109\n",
            "====================\n",
            "original,457600,29988,0\n",
            "extend multi,1146735,29988,0\n",
            "original train+valid,911147,23991,0\n",
            "train+valid sequences,911137,24816,911137\n",
            "test original,235588,5997,0\n",
            "test sequences,235587,6235,235587\n",
            "test window,5671074,33311,235588\n",
            "test question,9916346,198021,220892\n",
            "test question window,13326283,201109,221317\n",
            "====================================================================================================\n",
            "delete bad stu num of len: 16624, delete interactions: 22934, of r: 0, good num: 457600\n",
            "====================\n",
            "original total interactions: 457600, qs: 536, cs: 94, seqnum: 29988\n",
            "df.columns: Index(['uid', 'concepts', 'responses', 'questions'], dtype='object')\n",
            "total num: 29988, train+valid num: 23991, test num: 5997\n",
            "fold: 1, start: 0, end: 4799, total num: 23991\n",
            "fold: 2, start: 4799, end: 9597, total num: 23991\n",
            "fold: 3, start: 9597, end: 14395, total num: 23991\n",
            "fold: 4, start: 14395, end: 19193, total num: 23991\n",
            "fold: 5, start: 19193, end: 23991, total num: 23991\n",
            "train+valid original interactions num: 363644, select num: 0, qs: 536, cs: 94, seqnum: 23991\n",
            "dropnum: 0\n",
            "train+valid sequences interactions num: 363644, select num: 363644, qs: 536, cs: 94, seqnum: 24079\n",
            "dropnum: 0\n",
            "original test interactions num: 93956, select num: 0, qs: 508, cs: 92, seqnum: 5997\n",
            "test sequences interactions num: 93956, select num: 93956, qs: 508, cs: 92, seqnum: 6022\n",
            "====================\n",
            "test window interactions num: 355044, select num: 93956, qs: 508, cs: 92, seqnum: 7309\n",
            "====================\n",
            "original,457600,29988,0\n",
            "original train+valid question level,363644,23991,0\n",
            "train+valid sequences question level,363644,24079,363644\n",
            "test original question level,93956,5997,0\n",
            "test sequences question level,93956,6022,93956\n",
            "test window question level,355044,7309,93956\n"
          ]
        }
      ]
    },
    {
      "cell_type": "markdown",
      "source": [
        "# train and evals"
      ],
      "metadata": {
        "id": "vcOizPU-qKUL"
      }
    },
    {
      "cell_type": "markdown",
      "source": [
        "## DKT"
      ],
      "metadata": {
        "id": "sfePdltmqe3a"
      }
    },
    {
      "cell_type": "code",
      "source": [
        "!cd pykt-toolkit/examples/ ; python3 wandb_dkt_train.py --dataset_name=assist2009 --use_wandb=0 > dkt_train.txt"
      ],
      "metadata": {
        "id": "tVm2mMNkqe3m"
      },
      "execution_count": null,
      "outputs": []
    },
    {
      "cell_type": "code",
      "source": [
        "!cd pykt-toolkit/examples/ ; python3 wandb_predict.py --use_wandb=0 --save_dir='saved_model/assist2009_dkt_qid_saved_model_42_0_0.2_200_0.001_0_1'"
      ],
      "metadata": {
        "colab": {
          "base_uri": "https://localhost:8080/"
        },
        "outputId": "b0ba5c46-472b-4d56-d96a-a7d75fea05b2",
        "id": "IrhmwBEXqe3m"
      },
      "execution_count": null,
      "outputs": [
        {
          "output_type": "stream",
          "name": "stdout",
          "text": [
            "Namespace(bz=256, save_dir='saved_model/assist2009_dkt_qid_saved_model_42_0_0.2_200_0.001_0_1', fusion_type='early_fusion,late_fusion', use_wandb=0)\n",
            "model_name is dkt\n",
            "Read data from processed file: ../data/assist2009/test_sequences.csv_-1.pkl\n",
            "file path: ../data/assist2009/test_sequences.csv, qlen: 6235, clen: 6235, rlen: 6235\n",
            "Start preprocessing ../data/assist2009/test_window_sequences.csv fold: _-1...\n",
            "interaction_num: 235588\n",
            "file path: ../data/assist2009/test_window_sequences.csv, qlen: 33311, clen: 33311, rlen: 33311\n",
            "Start preprocessing ../data/assist2009/test_question_sequences.csv fold: _-1...\n",
            "interaction_num: 220892\n",
            "file path: ../data/assist2009/test_question_sequences.csv, qlen: 198021, clen: 198021, rlen: 198021\n",
            "Start preprocessing ../data/assist2009/test_question_window_sequences.csv fold: _-1...\n",
            "interaction_num: 221317\n",
            "file path: ../data/assist2009/test_question_window_sequences.csv, qlen: 201109, clen: 201109, rlen: 201109\n",
            "has test_question_file!\n",
            "Start predicting model: dkt, embtype: qid, save_dir: saved_model/assist2009_dkt_qid_saved_model_42_0_0.2_200_0.001_0_1, dataset_name: assist2009\n",
            "model_config: {'dropout': 0.2, 'emb_size': 200}\n",
            "data_config: {'dpath': '../data/assist2009', 'num_q': 1005, 'num_c': 94, 'input_type': ['questions', 'concepts'], 'max_concepts': 8, 'min_seq_len': 3, 'maxlen': 200, 'emb_path': '', 'train_valid_original_file': 'train_valid.csv', 'train_valid_file': 'train_valid_sequences.csv', 'folds': [0, 1, 2, 3, 4], 'test_original_file': 'test.csv', 'test_file': 'test_sequences.csv', 'test_window_file': 'test_window_sequences.csv', 'test_question_file': 'test_question_sequences.csv', 'test_question_window_file': 'test_question_window_sequences.csv', 'train_valid_original_file_quelevel': 'train_valid_quelevel.csv', 'train_valid_file_quelevel': 'train_valid_sequences_quelevel.csv', 'test_file_quelevel': 'test_sequences_quelevel.csv', 'test_window_file_quelevel': 'test_window_sequences_quelevel.csv', 'test_original_file_quelevel': 'test_quelevel.csv', 'dataset_name': 'assist2009'}\n",
            "ts.shape: (229352,), ps.shape: (229352,)\n",
            "testauc: 0.9458084402102077, testacc: 0.8523928284907042\n",
            "ts.shape: (229591,), ps.shape: (229591,)\n",
            "testauc: 0.9458084402102077, testacc: 0.8523928284907042, window_testauc: 0.9459173637051663, window_testacc: 0.852455017836065\n",
            "{'testauc': 0.9458084402102077, 'testacc': 0.8523928284907042, 'window_testauc': 0.9459173637051663, 'window_testacc': 0.852455017836065, 'oriaucconcepts': 0.5919646477320946, 'oriauclate_mean': 0.6162864865650548, 'oriauclate_vote': 0.6141793234451418, 'oriauclate_all': 0.6114508798802727, 'oriaccconcepts': 0.5924195505333116, 'oriacclate_mean': 0.599148189903545, 'oriacclate_vote': 0.5981460603783039, 'oriacclate_all': 0.6091125459783859, 'windowaucconcepts': 0.5925012304186714, 'windowauclate_mean': 0.6168113749850218, 'windowauclate_vote': 0.6145833251511543, 'windowauclate_all': 0.6116229771904514, 'windowaccconcepts': 0.5925437268714107, 'windowacclate_mean': 0.5993133164315192, 'windowacclate_vote': 0.5982332677724849, 'windowacclate_all': 0.6090905990290931}\n"
          ]
        }
      ]
    },
    {
      "cell_type": "markdown",
      "source": [
        "## DKT+"
      ],
      "metadata": {
        "id": "PcegvZtZziOR"
      }
    },
    {
      "cell_type": "code",
      "source": [
        "!cd pykt-toolkit/examples/ ; python3 wandb_dkt_plus_train.py --dataset_name=assist2009 --use_wandb=0 > dkt_plus_train.txt"
      ],
      "metadata": {
        "id": "7qrM0Y1iDSHW"
      },
      "execution_count": null,
      "outputs": []
    },
    {
      "cell_type": "code",
      "source": [
        "!cd pykt-toolkit/examples/ ; python3 wandb_predict.py --use_wandb=0 --save_dir='saved_model/assist2009_dkt+_qid_saved_model_42_0_0.2_200_0.001_0.01_0.003_3.0_0_1'"
      ],
      "metadata": {
        "colab": {
          "base_uri": "https://localhost:8080/"
        },
        "id": "tAiCD7OBlQ-s",
        "outputId": "76388ce6-ba3c-4f86-fc1c-cf91df7f22ea"
      },
      "execution_count": null,
      "outputs": [
        {
          "output_type": "stream",
          "name": "stdout",
          "text": [
            "Namespace(bz=256, save_dir='saved_model/assist2009_dkt+_qid_saved_model_42_0_0.2_200_0.001_0.01_0.003_3.0_0_1', fusion_type='early_fusion,late_fusion', use_wandb=0)\n",
            "model_name is dkt+\n",
            "Read data from processed file: ../data/assist2009/test_sequences.csv_-1.pkl\n",
            "file path: ../data/assist2009/test_sequences.csv, qlen: 6235, clen: 6235, rlen: 6235\n",
            "Read data from processed file: ../data/assist2009/test_window_sequences.csv_-1.pkl\n",
            "file path: ../data/assist2009/test_window_sequences.csv, qlen: 33311, clen: 33311, rlen: 33311\n",
            "Read data from processed file: ../data/assist2009/test_question_sequences.csv_-1_qtest.pkl\n",
            "file path: ../data/assist2009/test_question_sequences.csv, qlen: 198021, clen: 198021, rlen: 198021\n",
            "Read data from processed file: ../data/assist2009/test_question_window_sequences.csv_-1_qtest.pkl\n",
            "file path: ../data/assist2009/test_question_window_sequences.csv, qlen: 201109, clen: 201109, rlen: 201109\n",
            "has test_question_file!\n",
            "Start predicting model: dkt+, embtype: qid, save_dir: saved_model/assist2009_dkt+_qid_saved_model_42_0_0.2_200_0.001_0.01_0.003_3.0_0_1, dataset_name: assist2009\n",
            "model_config: {'dropout': 0.2, 'emb_size': 200, 'lambda_r': 0.01, 'lambda_w1': 0.003, 'lambda_w2': 3.0}\n",
            "data_config: {'dpath': '../data/assist2009', 'num_q': 1005, 'num_c': 94, 'input_type': ['questions', 'concepts'], 'max_concepts': 8, 'min_seq_len': 3, 'maxlen': 200, 'emb_path': '', 'train_valid_original_file': 'train_valid.csv', 'train_valid_file': 'train_valid_sequences.csv', 'folds': [0, 1, 2, 3, 4], 'test_original_file': 'test.csv', 'test_file': 'test_sequences.csv', 'test_window_file': 'test_window_sequences.csv', 'test_question_file': 'test_question_sequences.csv', 'test_question_window_file': 'test_question_window_sequences.csv', 'train_valid_original_file_quelevel': 'train_valid_quelevel.csv', 'train_valid_file_quelevel': 'train_valid_sequences_quelevel.csv', 'test_file_quelevel': 'test_sequences_quelevel.csv', 'test_window_file_quelevel': 'test_window_sequences_quelevel.csv', 'test_original_file_quelevel': 'test_quelevel.csv', 'dataset_name': 'assist2009'}\n",
            "ts.shape: (229352,), ps.shape: (229352,)\n",
            "testauc: 0.94631670055202, testacc: 0.8544813212878022\n",
            "ts.shape: (229591,), ps.shape: (229591,)\n",
            "testauc: 0.94631670055202, testacc: 0.8544813212878022, window_testauc: 0.9464592804375269, window_testacc: 0.8546110256935159\n",
            "{'testauc': 0.94631670055202, 'testacc': 0.8544813212878022, 'window_testauc': 0.9464592804375269, 'window_testacc': 0.8546110256935159, 'oriaucconcepts': 0.6023519911575413, 'oriauclate_mean': 0.6239644116417812, 'oriauclate_vote': 0.6200250586981082, 'oriauclate_all': 0.6229526211576896, 'oriaccconcepts': 0.6034887090056319, 'oriacclate_mean': 0.6076549030325806, 'oriacclate_vote': 0.6058784006923804, 'oriacclate_all': 0.6146698097092685, 'windowaucconcepts': 0.6027955527909514, 'windowauclate_mean': 0.6244806823900734, 'windowauclate_vote': 0.6205366004227646, 'windowauclate_all': 0.6233896191935661, 'windowaccconcepts': 0.6035189343791937, 'windowacclate_mean': 0.6077945406382519, 'windowacclate_vote': 0.606055093850544, 'windowacclate_all': 0.6148660171216135}\n"
          ]
        }
      ]
    },
    {
      "cell_type": "markdown",
      "source": [
        "## DKVMN"
      ],
      "metadata": {
        "id": "axHTuNS8zpTQ"
      }
    },
    {
      "cell_type": "code",
      "source": [
        "!cd pykt-toolkit/examples/ ; python3 wandb_dkvmn_train.py --dataset_name=assist2009 --use_wandb=0 > dkvmn_train.txt"
      ],
      "metadata": {
        "id": "LreMIwSqzpTS"
      },
      "execution_count": null,
      "outputs": []
    },
    {
      "cell_type": "code",
      "source": [
        "!cd pykt-toolkit/examples/ ; python3 wandb_predict.py --use_wandb=0 --save_dir='saved_model/assist2009_dkvmn_qid_saved_model_42_0_0.2_200_0.001_50_0_1'"
      ],
      "metadata": {
        "colab": {
          "base_uri": "https://localhost:8080/"
        },
        "outputId": "fa91491f-26d2-4ba6-9f79-b39eb25ddc92",
        "id": "apFo-BfozpTT"
      },
      "execution_count": null,
      "outputs": [
        {
          "output_type": "stream",
          "name": "stdout",
          "text": [
            "Namespace(bz=256, save_dir='saved_model/assist2009_dkvmn_qid_saved_model_42_0_0.2_200_0.001_50_0_1', fusion_type='early_fusion,late_fusion', use_wandb=0)\n",
            "model_name is dkvmn\n",
            "Read data from processed file: ../data/assist2009/test_sequences.csv_-1.pkl\n",
            "file path: ../data/assist2009/test_sequences.csv, qlen: 6235, clen: 6235, rlen: 6235\n",
            "Read data from processed file: ../data/assist2009/test_window_sequences.csv_-1.pkl\n",
            "file path: ../data/assist2009/test_window_sequences.csv, qlen: 33311, clen: 33311, rlen: 33311\n",
            "Read data from processed file: ../data/assist2009/test_question_sequences.csv_-1_qtest.pkl\n",
            "file path: ../data/assist2009/test_question_sequences.csv, qlen: 198021, clen: 198021, rlen: 198021\n",
            "Read data from processed file: ../data/assist2009/test_question_window_sequences.csv_-1_qtest.pkl\n",
            "file path: ../data/assist2009/test_question_window_sequences.csv, qlen: 201109, clen: 201109, rlen: 201109\n",
            "has test_question_file!\n",
            "Start predicting model: dkvmn, embtype: qid, save_dir: saved_model/assist2009_dkvmn_qid_saved_model_42_0_0.2_200_0.001_50_0_1, dataset_name: assist2009\n",
            "model_config: {'dropout': 0.2, 'dim_s': 200, 'size_m': 50}\n",
            "data_config: {'dpath': '../data/assist2009', 'num_q': 1005, 'num_c': 94, 'input_type': ['questions', 'concepts'], 'max_concepts': 8, 'min_seq_len': 3, 'maxlen': 200, 'emb_path': '', 'train_valid_original_file': 'train_valid.csv', 'train_valid_file': 'train_valid_sequences.csv', 'folds': [0, 1, 2, 3, 4], 'test_original_file': 'test.csv', 'test_file': 'test_sequences.csv', 'test_window_file': 'test_window_sequences.csv', 'test_question_file': 'test_question_sequences.csv', 'test_question_window_file': 'test_question_window_sequences.csv', 'train_valid_original_file_quelevel': 'train_valid_quelevel.csv', 'train_valid_file_quelevel': 'train_valid_sequences_quelevel.csv', 'test_file_quelevel': 'test_sequences_quelevel.csv', 'test_window_file_quelevel': 'test_window_sequences_quelevel.csv', 'test_original_file_quelevel': 'test_quelevel.csv', 'dataset_name': 'assist2009'}\n",
            "ts.shape: (229352,), ps.shape: (229352,)\n",
            "testauc: 0.9425814096738938, testacc: 0.8493015103421815\n",
            "ts.shape: (229591,), ps.shape: (229591,)\n",
            "testauc: 0.9425814096738938, testacc: 0.8493015103421815, window_testauc: 0.9427149167624153, window_testacc: 0.8493843399784835\n",
            "/usr/local/lib/python3.10/dist-packages/pykt/models/evaluate_model.py:221: UserWarning: Creating a tensor from a list of numpy.ndarrays is extremely slow. Please consider converting the list to a single numpy.ndarray with numpy.array() before converting to a tensor. (Triggered internally at ../torch/csrc/utils/tensor_new.cpp:245.)\n",
            "  curhs = [torch.tensor(curh).float().to(device) for curh in curhs]\n",
            "{'testauc': 0.9425814096738938, 'testacc': 0.8493015103421815, 'window_testauc': 0.9427149167624153, 'window_testacc': 0.8493843399784835, 'oriaucconcepts': 0.5900140905904128, 'oriauclate_mean': 0.6132321495950279, 'oriauclate_vote': 0.6095461610736936, 'oriauclate_all': 0.610685779972574, 'oriaucearly_preds': 0.6059152344922089, 'oriaccconcepts': 0.5930578946415312, 'oriacclate_mean': 0.5983396535820437, 'oriacclate_vote': 0.5975197294250282, 'oriacclate_all': 0.6100691241615707, 'oriaccearly_preds': 0.5972464213726897, 'windowaucconcepts': 0.5907672716964151, 'windowauclate_mean': 0.6139757922290803, 'windowauclate_vote': 0.6104809159766338, 'windowauclate_all': 0.6112017275102392, 'windowaucearly_preds': 0.6066220553688081, 'windowaccconcepts': 0.5929820122268059, 'windowacclate_mean': 0.5985629668368218, 'windowacclate_vote': 0.5978580929751361, 'windowacclate_all': 0.6103639195534283, 'windowaccearly_preds': 0.5972214327129686}\n"
          ]
        }
      ]
    },
    {
      "cell_type": "markdown",
      "source": [
        "## SAINT"
      ],
      "metadata": {
        "id": "7m6st1Nq7V25"
      }
    },
    {
      "cell_type": "code",
      "source": [
        "!cd pykt-toolkit/examples/ ; python3 wandb_saint_train.py --dataset_name=assist2009 --use_wandb=0 > saint_train.txt"
      ],
      "metadata": {
        "id": "PFDtf1wD7V26"
      },
      "execution_count": null,
      "outputs": []
    },
    {
      "cell_type": "code",
      "source": [
        "!cd pykt-toolkit/examples/ ; python3 wandb_predict.py --use_wandb=0 --save_dir='saved_model/assist2009_saint_qid_saved_model_42_0_0.2_256_0.001_8_4_0_1'"
      ],
      "metadata": {
        "colab": {
          "base_uri": "https://localhost:8080/"
        },
        "outputId": "4bd56534-1d71-48f7-a21e-28f1d3c4dff7",
        "id": "Uz9lBrex7V26"
      },
      "execution_count": null,
      "outputs": [
        {
          "output_type": "stream",
          "name": "stdout",
          "text": [
            "Namespace(bz=256, save_dir='saved_model/assist2009_saint_qid_saved_model_42_0_0.2_256_0.001_8_4_0_1', fusion_type='early_fusion,late_fusion', use_wandb=0)\n",
            "model_name is saint\n",
            "Read data from processed file: ../data/assist2009/test_sequences.csv_-1.pkl\n",
            "file path: ../data/assist2009/test_sequences.csv, qlen: 6235, clen: 6235, rlen: 6235\n",
            "Read data from processed file: ../data/assist2009/test_window_sequences.csv_-1.pkl\n",
            "file path: ../data/assist2009/test_window_sequences.csv, qlen: 33311, clen: 33311, rlen: 33311\n",
            "Read data from processed file: ../data/assist2009/test_question_sequences.csv_-1_qtest.pkl\n",
            "file path: ../data/assist2009/test_question_sequences.csv, qlen: 198021, clen: 198021, rlen: 198021\n",
            "Read data from processed file: ../data/assist2009/test_question_window_sequences.csv_-1_qtest.pkl\n",
            "file path: ../data/assist2009/test_question_window_sequences.csv, qlen: 201109, clen: 201109, rlen: 201109\n",
            "has test_question_file!\n",
            "Start predicting model: saint, embtype: qid, save_dir: saved_model/assist2009_saint_qid_saved_model_42_0_0.2_256_0.001_8_4_0_1, dataset_name: assist2009\n",
            "model_config: {'dropout': 0.2, 'emb_size': 256, 'num_attn_heads': 8, 'n_blocks': 4, 'seq_len': 200}\n",
            "data_config: {'dpath': '../data/assist2009', 'num_q': 1005, 'num_c': 94, 'input_type': ['questions', 'concepts'], 'max_concepts': 8, 'min_seq_len': 3, 'maxlen': 200, 'emb_path': '', 'train_valid_original_file': 'train_valid.csv', 'train_valid_file': 'train_valid_sequences.csv', 'folds': [0, 1, 2, 3, 4], 'test_original_file': 'test.csv', 'test_file': 'test_sequences.csv', 'test_window_file': 'test_window_sequences.csv', 'test_question_file': 'test_question_sequences.csv', 'test_question_window_file': 'test_question_window_sequences.csv', 'train_valid_original_file_quelevel': 'train_valid_quelevel.csv', 'train_valid_file_quelevel': 'train_valid_sequences_quelevel.csv', 'test_file_quelevel': 'test_sequences_quelevel.csv', 'test_window_file_quelevel': 'test_window_sequences_quelevel.csv', 'test_original_file_quelevel': 'test_quelevel.csv', 'dataset_name': 'assist2009'}\n",
            "num_q: 1005, num_c: 94\n",
            "ts.shape: (229352,), ps.shape: (229352,)\n",
            "testauc: 0.956987739346406, testacc: 0.8712546653179393\n",
            "ts.shape: (229591,), ps.shape: (229591,)\n",
            "testauc: 0.956987739346406, testacc: 0.8712546653179393, window_testauc: 0.9550060240171422, window_testacc: 0.868378986981197\n",
            "/usr/local/lib/python3.10/dist-packages/pykt/models/evaluate_model.py:221: UserWarning: Creating a tensor from a list of numpy.ndarrays is extremely slow. Please consider converting the list to a single numpy.ndarray with numpy.array() before converting to a tensor. (Triggered internally at ../torch/csrc/utils/tensor_new.cpp:245.)\n",
            "  curhs = [torch.tensor(curh).float().to(device) for curh in curhs]\n",
            "{'testauc': 0.956987739346406, 'testacc': 0.8712546653179393, 'window_testauc': 0.9550060240171422, 'window_testacc': 0.868378986981197, 'oriaucconcepts': 0.5841340999724611, 'oriauclate_mean': 0.6293131028623756, 'oriauclate_vote': 0.5874403955605285, 'oriauclate_all': 0.6124945546071716, 'oriaucearly_preds': 0.5878852085168123, 'oriaccconcepts': 0.6023976385795259, 'oriacclate_mean': 0.5915638914511518, 'oriacclate_vote': 0.6035325065764751, 'oriacclate_all': 0.6423991891861114, 'oriaccearly_preds': 0.591472788767039, 'windowaucconcepts': 0.582893932711346, 'windowauclate_mean': 0.6272922326034992, 'windowauclate_vote': 0.5892611870469282, 'windowauclate_all': 0.6118044623585932, 'windowaucearly_preds': 0.5874868099364011, 'windowaccconcepts': 0.5991722280710474, 'windowacclate_mean': 0.5895928785002104, 'windowacclate_vote': 0.6010072874862151, 'windowacclate_all': 0.6358985436396503, 'windowaccearly_preds': 0.5895246649006923}\n"
          ]
        }
      ]
    },
    {
      "cell_type": "markdown",
      "source": [
        "## SAKT"
      ],
      "metadata": {
        "id": "21dgdC2jCDSc"
      }
    },
    {
      "cell_type": "code",
      "source": [
        "!cd pykt-toolkit/examples/ ; python3 wandb_sakt_train.py --dataset_name=assist2009 --use_wandb=0 > sakt_train.txt"
      ],
      "metadata": {
        "id": "w6QOa3j3CDSp"
      },
      "execution_count": null,
      "outputs": []
    },
    {
      "cell_type": "code",
      "source": [
        "!cd pykt-toolkit/examples/ ; python3 wandb_predict.py --use_wandb=0 --save_dir='saved_model/assist2009_sakt_qid_saved_model_42_0_0.2_256_0.001_8_1_0_1'"
      ],
      "metadata": {
        "colab": {
          "base_uri": "https://localhost:8080/"
        },
        "outputId": "86558e67-1356-4f3b-8bfa-111a4d99979e",
        "id": "KurngpTZCDSq"
      },
      "execution_count": null,
      "outputs": [
        {
          "output_type": "stream",
          "name": "stdout",
          "text": [
            "Namespace(bz=256, save_dir='saved_model/assist2009_sakt_qid_saved_model_42_0_0.2_256_0.001_8_1_0_1', fusion_type='early_fusion,late_fusion', use_wandb=0)\n",
            "model_name is sakt\n",
            "Read data from processed file: ../data/assist2009/test_sequences.csv_-1.pkl\n",
            "file path: ../data/assist2009/test_sequences.csv, qlen: 6235, clen: 6235, rlen: 6235\n",
            "Read data from processed file: ../data/assist2009/test_window_sequences.csv_-1.pkl\n",
            "file path: ../data/assist2009/test_window_sequences.csv, qlen: 33311, clen: 33311, rlen: 33311\n",
            "Read data from processed file: ../data/assist2009/test_question_sequences.csv_-1_qtest.pkl\n",
            "file path: ../data/assist2009/test_question_sequences.csv, qlen: 198021, clen: 198021, rlen: 198021\n",
            "Read data from processed file: ../data/assist2009/test_question_window_sequences.csv_-1_qtest.pkl\n",
            "file path: ../data/assist2009/test_question_window_sequences.csv, qlen: 201109, clen: 201109, rlen: 201109\n",
            "has test_question_file!\n",
            "Start predicting model: sakt, embtype: qid, save_dir: saved_model/assist2009_sakt_qid_saved_model_42_0_0.2_256_0.001_8_1_0_1, dataset_name: assist2009\n",
            "model_config: {'dropout': 0.2, 'emb_size': 256, 'num_attn_heads': 8, 'num_en': 1, 'seq_len': 200}\n",
            "data_config: {'dpath': '../data/assist2009', 'num_q': 1005, 'num_c': 94, 'input_type': ['questions', 'concepts'], 'max_concepts': 8, 'min_seq_len': 3, 'maxlen': 200, 'emb_path': '', 'train_valid_original_file': 'train_valid.csv', 'train_valid_file': 'train_valid_sequences.csv', 'folds': [0, 1, 2, 3, 4], 'test_original_file': 'test.csv', 'test_file': 'test_sequences.csv', 'test_window_file': 'test_window_sequences.csv', 'test_question_file': 'test_question_sequences.csv', 'test_question_window_file': 'test_question_window_sequences.csv', 'train_valid_original_file_quelevel': 'train_valid_quelevel.csv', 'train_valid_file_quelevel': 'train_valid_sequences_quelevel.csv', 'test_file_quelevel': 'test_sequences_quelevel.csv', 'test_window_file_quelevel': 'test_window_sequences_quelevel.csv', 'test_original_file_quelevel': 'test_quelevel.csv', 'dataset_name': 'assist2009'}\n",
            "ts.shape: (229352,), ps.shape: (229352,)\n",
            "testauc: 0.9353529017835142, testacc: 0.8401932400851093\n",
            "ts.shape: (229591,), ps.shape: (229591,)\n",
            "testauc: 0.9353529017835142, testacc: 0.8401932400851093, window_testauc: 0.9232796854561173, window_testacc: 0.8248189171178313\n",
            "/usr/local/lib/python3.10/dist-packages/pykt/models/evaluate_model.py:221: UserWarning: Creating a tensor from a list of numpy.ndarrays is extremely slow. Please consider converting the list to a single numpy.ndarray with numpy.array() before converting to a tensor. (Triggered internally at ../torch/csrc/utils/tensor_new.cpp:245.)\n",
            "  curhs = [torch.tensor(curh).float().to(device) for curh in curhs]\n",
            "{'testauc': 0.9353529017835142, 'testacc': 0.8401932400851093, 'window_testauc': 0.9232796854561173, 'window_testacc': 0.8248189171178313, 'oriaucconcepts': 0.5781909215244169, 'oriauclate_mean': 0.6011081001506282, 'oriauclate_vote': 0.5966423594098482, 'oriauclate_all': 0.5993761653246441, 'oriaucearly_preds': 0.5916115545660837, 'oriaccconcepts': 0.5820656996432516, 'oriacclate_mean': 0.5888194230922529, 'oriacclate_vote': 0.5858358101875577, 'oriacclate_all': 0.6024620500381492, 'oriaccearly_preds': 0.5877261908828989, 'windowaucconcepts': 0.5775471348496195, 'windowauclate_mean': 0.599515200396126, 'windowauclate_vote': 0.595553034780758, 'windowauclate_all': 0.5976433577839178, 'windowaucearly_preds': 0.5906029204030415, 'windowaccconcepts': 0.5802943289489736, 'windowacclate_mean': 0.5880239657112973, 'windowacclate_vote': 0.5848179265339534, 'windowacclate_all': 0.6010755010857332, 'windowaccearly_preds': 0.586852965586239}\n"
          ]
        }
      ]
    }
  ]
}