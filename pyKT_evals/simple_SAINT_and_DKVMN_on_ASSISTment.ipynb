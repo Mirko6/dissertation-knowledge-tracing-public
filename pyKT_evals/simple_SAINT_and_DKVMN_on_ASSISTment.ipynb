{
  "nbformat": 4,
  "nbformat_minor": 0,
  "metadata": {
    "colab": {
      "provenance": [],
      "include_colab_link": true
    },
    "kernelspec": {
      "name": "python3",
      "display_name": "Python 3"
    },
    "language_info": {
      "name": "python"
    },
    "accelerator": "GPU",
    "gpuClass": "standard"
  },
  "cells": [
    {
      "cell_type": "markdown",
      "metadata": {
        "id": "view-in-github",
        "colab_type": "text"
      },
      "source": [
        "<a href=\"https://colab.research.google.com/github/Mirko6/part-II-project/blob/main/pyKT_evals/simple_SAINT_and_DKVMN_on_ASSISTment.ipynb\" target=\"_parent\"><img src=\"https://colab.research.google.com/assets/colab-badge.svg\" alt=\"Open In Colab\"/></a>"
      ]
    },
    {
      "cell_type": "markdown",
      "source": [
        "Done based on the [quick start tutorial](https://pykt-toolkit.readthedocs.io/en/latest/quick_start.html)."
      ],
      "metadata": {
        "id": "TgYlTiQcmz5p"
      }
    },
    {
      "cell_type": "markdown",
      "source": [
        "## pyKT install"
      ],
      "metadata": {
        "id": "9Ubxdfl2iwJS"
      }
    },
    {
      "cell_type": "code",
      "execution_count": null,
      "metadata": {
        "colab": {
          "base_uri": "https://localhost:8080/"
        },
        "id": "576hXg9HA9oK",
        "outputId": "532b55e2-ea94-41f0-d511-7562a63fb934"
      },
      "outputs": [
        {
          "output_type": "stream",
          "name": "stdout",
          "text": [
            "Looking in indexes: https://pypi.org/simple, https://us-python.pkg.dev/colab-wheels/public/simple/\n",
            "Collecting pykt-toolkit\n",
            "  Downloading pykt_toolkit-0.0.38-py3-none-any.whl (114 kB)\n",
            "\u001b[2K     \u001b[90m━━━━━━━━━━━━━━━━━━━━━━━━━━━━━━━━━━━━━━━\u001b[0m \u001b[32m114.3/114.3 kB\u001b[0m \u001b[31m4.3 MB/s\u001b[0m eta \u001b[36m0:00:00\u001b[0m\n",
            "\u001b[?25hRequirement already satisfied: scikit-learn in /usr/local/lib/python3.10/dist-packages (from pykt-toolkit) (1.2.2)\n",
            "Requirement already satisfied: torch>=1.7.0 in /usr/local/lib/python3.10/dist-packages (from pykt-toolkit) (2.0.0+cu118)\n",
            "Requirement already satisfied: numpy>=1.17.2 in /usr/local/lib/python3.10/dist-packages (from pykt-toolkit) (1.22.4)\n",
            "Requirement already satisfied: pandas>=1.1.5 in /usr/local/lib/python3.10/dist-packages (from pykt-toolkit) (1.5.3)\n",
            "Collecting wandb>=0.12.9\n",
            "  Downloading wandb-0.15.0-py3-none-any.whl (2.0 MB)\n",
            "\u001b[2K     \u001b[90m━━━━━━━━━━━━━━━━━━━━━━━━━━━━━━━━━━━━━━━━\u001b[0m \u001b[32m2.0/2.0 MB\u001b[0m \u001b[31m49.5 MB/s\u001b[0m eta \u001b[36m0:00:00\u001b[0m\n",
            "\u001b[?25hRequirement already satisfied: python-dateutil>=2.8.1 in /usr/local/lib/python3.10/dist-packages (from pandas>=1.1.5->pykt-toolkit) (2.8.2)\n",
            "Requirement already satisfied: pytz>=2020.1 in /usr/local/lib/python3.10/dist-packages (from pandas>=1.1.5->pykt-toolkit) (2022.7.1)\n",
            "Requirement already satisfied: sympy in /usr/local/lib/python3.10/dist-packages (from torch>=1.7.0->pykt-toolkit) (1.11.1)\n",
            "Requirement already satisfied: typing-extensions in /usr/local/lib/python3.10/dist-packages (from torch>=1.7.0->pykt-toolkit) (4.5.0)\n",
            "Requirement already satisfied: networkx in /usr/local/lib/python3.10/dist-packages (from torch>=1.7.0->pykt-toolkit) (3.1)\n",
            "Requirement already satisfied: jinja2 in /usr/local/lib/python3.10/dist-packages (from torch>=1.7.0->pykt-toolkit) (3.1.2)\n",
            "Requirement already satisfied: triton==2.0.0 in /usr/local/lib/python3.10/dist-packages (from torch>=1.7.0->pykt-toolkit) (2.0.0)\n",
            "Requirement already satisfied: filelock in /usr/local/lib/python3.10/dist-packages (from torch>=1.7.0->pykt-toolkit) (3.12.0)\n",
            "Requirement already satisfied: lit in /usr/local/lib/python3.10/dist-packages (from triton==2.0.0->torch>=1.7.0->pykt-toolkit) (16.0.2)\n",
            "Requirement already satisfied: cmake in /usr/local/lib/python3.10/dist-packages (from triton==2.0.0->torch>=1.7.0->pykt-toolkit) (3.25.2)\n",
            "Requirement already satisfied: PyYAML in /usr/local/lib/python3.10/dist-packages (from wandb>=0.12.9->pykt-toolkit) (6.0)\n",
            "Requirement already satisfied: Click!=8.0.0,>=7.0 in /usr/local/lib/python3.10/dist-packages (from wandb>=0.12.9->pykt-toolkit) (8.1.3)\n",
            "Collecting sentry-sdk>=1.0.0\n",
            "  Downloading sentry_sdk-1.21.1-py2.py3-none-any.whl (201 kB)\n",
            "\u001b[2K     \u001b[90m━━━━━━━━━━━━━━━━━━━━━━━━━━━━━━━━━━━━━━━\u001b[0m \u001b[32m201.7/201.7 kB\u001b[0m \u001b[31m2.4 MB/s\u001b[0m eta \u001b[36m0:00:00\u001b[0m\n",
            "\u001b[?25hRequirement already satisfied: setuptools in /usr/local/lib/python3.10/dist-packages (from wandb>=0.12.9->pykt-toolkit) (67.7.2)\n",
            "Requirement already satisfied: appdirs>=1.4.3 in /usr/local/lib/python3.10/dist-packages (from wandb>=0.12.9->pykt-toolkit) (1.4.4)\n",
            "Requirement already satisfied: protobuf!=4.21.0,<5,>=3.19.0 in /usr/local/lib/python3.10/dist-packages (from wandb>=0.12.9->pykt-toolkit) (3.20.3)\n",
            "Collecting GitPython!=3.1.29,>=1.0.0\n",
            "  Downloading GitPython-3.1.31-py3-none-any.whl (184 kB)\n",
            "\u001b[2K     \u001b[90m━━━━━━━━━━━━━━━━━━━━━━━━━━━━━━━━━━━━━━\u001b[0m \u001b[32m184.3/184.3 kB\u001b[0m \u001b[31m14.8 MB/s\u001b[0m eta \u001b[36m0:00:00\u001b[0m\n",
            "\u001b[?25hRequirement already satisfied: requests<3,>=2.0.0 in /usr/local/lib/python3.10/dist-packages (from wandb>=0.12.9->pykt-toolkit) (2.27.1)\n",
            "Collecting setproctitle\n",
            "  Downloading setproctitle-1.3.2-cp310-cp310-manylinux_2_5_x86_64.manylinux1_x86_64.manylinux_2_17_x86_64.manylinux2014_x86_64.whl (30 kB)\n",
            "Collecting pathtools\n",
            "  Downloading pathtools-0.1.2.tar.gz (11 kB)\n",
            "  Preparing metadata (setup.py) ... \u001b[?25l\u001b[?25hdone\n",
            "Requirement already satisfied: psutil>=5.0.0 in /usr/local/lib/python3.10/dist-packages (from wandb>=0.12.9->pykt-toolkit) (5.9.5)\n",
            "Collecting docker-pycreds>=0.4.0\n",
            "  Downloading docker_pycreds-0.4.0-py2.py3-none-any.whl (9.0 kB)\n",
            "Requirement already satisfied: threadpoolctl>=2.0.0 in /usr/local/lib/python3.10/dist-packages (from scikit-learn->pykt-toolkit) (3.1.0)\n",
            "Requirement already satisfied: joblib>=1.1.1 in /usr/local/lib/python3.10/dist-packages (from scikit-learn->pykt-toolkit) (1.2.0)\n",
            "Requirement already satisfied: scipy>=1.3.2 in /usr/local/lib/python3.10/dist-packages (from scikit-learn->pykt-toolkit) (1.10.1)\n",
            "Requirement already satisfied: six>=1.4.0 in /usr/local/lib/python3.10/dist-packages (from docker-pycreds>=0.4.0->wandb>=0.12.9->pykt-toolkit) (1.16.0)\n",
            "Collecting gitdb<5,>=4.0.1\n",
            "  Downloading gitdb-4.0.10-py3-none-any.whl (62 kB)\n",
            "\u001b[2K     \u001b[90m━━━━━━━━━━━━━━━━━━━━━━━━━━━━━━━━━━━━━━━━\u001b[0m \u001b[32m62.7/62.7 kB\u001b[0m \u001b[31m4.1 MB/s\u001b[0m eta \u001b[36m0:00:00\u001b[0m\n",
            "\u001b[?25hRequirement already satisfied: charset-normalizer~=2.0.0 in /usr/local/lib/python3.10/dist-packages (from requests<3,>=2.0.0->wandb>=0.12.9->pykt-toolkit) (2.0.12)\n",
            "Requirement already satisfied: idna<4,>=2.5 in /usr/local/lib/python3.10/dist-packages (from requests<3,>=2.0.0->wandb>=0.12.9->pykt-toolkit) (3.4)\n",
            "Requirement already satisfied: urllib3<1.27,>=1.21.1 in /usr/local/lib/python3.10/dist-packages (from requests<3,>=2.0.0->wandb>=0.12.9->pykt-toolkit) (1.26.15)\n",
            "Requirement already satisfied: certifi>=2017.4.17 in /usr/local/lib/python3.10/dist-packages (from requests<3,>=2.0.0->wandb>=0.12.9->pykt-toolkit) (2022.12.7)\n",
            "Requirement already satisfied: MarkupSafe>=2.0 in /usr/local/lib/python3.10/dist-packages (from jinja2->torch>=1.7.0->pykt-toolkit) (2.1.2)\n",
            "Requirement already satisfied: mpmath>=0.19 in /usr/local/lib/python3.10/dist-packages (from sympy->torch>=1.7.0->pykt-toolkit) (1.3.0)\n",
            "Collecting smmap<6,>=3.0.1\n",
            "  Downloading smmap-5.0.0-py3-none-any.whl (24 kB)\n",
            "Building wheels for collected packages: pathtools\n",
            "  Building wheel for pathtools (setup.py) ... \u001b[?25l\u001b[?25hdone\n",
            "  Created wheel for pathtools: filename=pathtools-0.1.2-py3-none-any.whl size=8807 sha256=96237281f16c7795b1932c9b81c1ac935a50233aa2ff8181ea8fc9bc813132b0\n",
            "  Stored in directory: /root/.cache/pip/wheels/e7/f3/22/152153d6eb222ee7a56ff8617d80ee5207207a8c00a7aab794\n",
            "Successfully built pathtools\n",
            "Installing collected packages: pathtools, smmap, setproctitle, sentry-sdk, docker-pycreds, gitdb, GitPython, wandb, pykt-toolkit\n",
            "Successfully installed GitPython-3.1.31 docker-pycreds-0.4.0 gitdb-4.0.10 pathtools-0.1.2 pykt-toolkit-0.0.38 sentry-sdk-1.21.1 setproctitle-1.3.2 smmap-5.0.0 wandb-0.15.0\n"
          ]
        }
      ],
      "source": [
        "%pip install -U pykt-toolkit"
      ]
    },
    {
      "cell_type": "code",
      "source": [
        "!git clone https://github.com/pykt-team/pykt-toolkit.git"
      ],
      "metadata": {
        "colab": {
          "base_uri": "https://localhost:8080/"
        },
        "id": "pIesxyFoBn8f",
        "outputId": "e1922d24-8321-4d72-ce52-f42d1457f79e"
      },
      "execution_count": null,
      "outputs": [
        {
          "output_type": "stream",
          "name": "stdout",
          "text": [
            "Cloning into 'pykt-toolkit'...\n",
            "remote: Enumerating objects: 6327, done.\u001b[K\n",
            "remote: Counting objects: 100% (735/735), done.\u001b[K\n",
            "remote: Compressing objects: 100% (308/308), done.\u001b[K\n",
            "remote: Total 6327 (delta 528), reused 595 (delta 426), pack-reused 5592\u001b[K\n",
            "Receiving objects: 100% (6327/6327), 33.81 MiB | 24.60 MiB/s, done.\n",
            "Resolving deltas: 100% (4909/4909), done.\n"
          ]
        }
      ]
    },
    {
      "cell_type": "markdown",
      "source": [
        "## assist 2009"
      ],
      "metadata": {
        "id": "yOP5FKc4B2G_"
      }
    },
    {
      "cell_type": "code",
      "source": [
        "#assistment 2009 - download\n",
        "assistment_2009_download_id = '1NNXHFRxcArrU0ZJSb9BIL56vmUt5FhlE'\n",
        "# google link 'https://drive.google.com/u/0/uc?id=1NNXHFRxcArrU0ZJSb9BIL56vmUt5FhlE&export=download'\n",
        "url = 'https://drive.google.com/uc?id=' + assistment_2009_download_id\n",
        "import gdown, pandas as pd\n",
        "!mkdir pykt-toolkit/data/assist2009\n",
        "output = 'pykt-toolkit/data/assist2009/skill_builder_data_corrected_collapsed.csv'\n",
        "gdown.download(url, output, quiet=False)"
      ],
      "metadata": {
        "colab": {
          "base_uri": "https://localhost:8080/",
          "height": 105
        },
        "id": "U3M2nIHABPW8",
        "outputId": "0bae420c-a289-4762-b888-cc7e4a7f185a"
      },
      "execution_count": null,
      "outputs": [
        {
          "output_type": "stream",
          "name": "stderr",
          "text": [
            "Downloading...\n",
            "From: https://drive.google.com/uc?id=1NNXHFRxcArrU0ZJSb9BIL56vmUt5FhlE\n",
            "To: /content/pykt-toolkit/data/assist2009/skill_builder_data_corrected_collapsed.csv\n",
            "100%|██████████| 64.4M/64.4M [00:00<00:00, 103MB/s]\n"
          ]
        },
        {
          "output_type": "execute_result",
          "data": {
            "text/plain": [
              "'pykt-toolkit/data/assist2009/skill_builder_data_corrected_collapsed.csv'"
            ],
            "application/vnd.google.colaboratory.intrinsic+json": {
              "type": "string"
            }
          },
          "metadata": {},
          "execution_count": 3
        }
      ]
    },
    {
      "cell_type": "code",
      "source": [
        "#assistment 2009 - open using windows-1252 encoding and save to appropriate place\n",
        "\n",
        "df = pd.read_csv(\n",
        "    \"pykt-toolkit/data/assist2009/skill_builder_data_corrected_collapsed.csv\",\n",
        "    encoding='windows-1252'\n",
        "  )\n",
        "df_sample = df#.head(500) # to have a faster execution, comment out this line to use whole dataset\n",
        "df_sample.to_csv(\"pykt-toolkit/data/assist2009/skill_builder_data_corrected_collapsed.csv\")\n",
        "df_sample.head()"
      ],
      "metadata": {
        "colab": {
          "base_uri": "https://localhost:8080/",
          "height": 351
        },
        "id": "c-fEmz5rBncj",
        "outputId": "95e861f0-4768-450f-a2f1-7b02491938f2"
      },
      "execution_count": null,
      "outputs": [
        {
          "output_type": "stream",
          "name": "stderr",
          "text": [
            "<ipython-input-4-e2e900cb29bf>:3: DtypeWarning: Columns (17,18) have mixed types. Specify dtype option on import or set low_memory=False.\n",
            "  df = pd.read_csv(\n"
          ]
        },
        {
          "output_type": "execute_result",
          "data": {
            "text/plain": [
              "   Unnamed: 0  order_id  assignment_id  user_id  assistment_id  problem_id  \\\n",
              "0           1  33022537         277618    64525          33139       51424   \n",
              "1           2  33022709         277618    64525          33150       51435   \n",
              "2           3  35450204         220674    70363          33159       51444   \n",
              "3           4  35450295         220674    70363          33110       51395   \n",
              "4           5  35450311         220674    70363          33196       51481   \n",
              "\n",
              "   original  correct  attempt_count  ms_first_response  ... hint_count  \\\n",
              "0         1        1              1              32454  ...          0   \n",
              "1         1        1              1               4922  ...          0   \n",
              "2         1        0              2              25390  ...          0   \n",
              "3         1        1              1               4859  ...          0   \n",
              "4         1        0             14              19813  ...          3   \n",
              "\n",
              "  hint_total  overlap_time  template_id  answer_id answer_text  first_action  \\\n",
              "0          3         32454        30799        NaN          26             0   \n",
              "1          3          4922        30799        NaN          55             0   \n",
              "2          3         42000        30799        NaN          88             0   \n",
              "3          3          4859        30059        NaN          41             0   \n",
              "4          4        124564        30060        NaN          65             0   \n",
              "\n",
              "  bottom_hint opportunity  opportunity_original  \n",
              "0         NaN           1                   1.0  \n",
              "1         NaN           2                   2.0  \n",
              "2         NaN           1                   1.0  \n",
              "3         NaN           2                   2.0  \n",
              "4         0.0           3                   3.0  \n",
              "\n",
              "[5 rows x 31 columns]"
            ],
            "text/html": [
              "\n",
              "  <div id=\"df-5aa3e5d8-2a3a-429b-9451-c7d3c62aa8dd\">\n",
              "    <div class=\"colab-df-container\">\n",
              "      <div>\n",
              "<style scoped>\n",
              "    .dataframe tbody tr th:only-of-type {\n",
              "        vertical-align: middle;\n",
              "    }\n",
              "\n",
              "    .dataframe tbody tr th {\n",
              "        vertical-align: top;\n",
              "    }\n",
              "\n",
              "    .dataframe thead th {\n",
              "        text-align: right;\n",
              "    }\n",
              "</style>\n",
              "<table border=\"1\" class=\"dataframe\">\n",
              "  <thead>\n",
              "    <tr style=\"text-align: right;\">\n",
              "      <th></th>\n",
              "      <th>Unnamed: 0</th>\n",
              "      <th>order_id</th>\n",
              "      <th>assignment_id</th>\n",
              "      <th>user_id</th>\n",
              "      <th>assistment_id</th>\n",
              "      <th>problem_id</th>\n",
              "      <th>original</th>\n",
              "      <th>correct</th>\n",
              "      <th>attempt_count</th>\n",
              "      <th>ms_first_response</th>\n",
              "      <th>...</th>\n",
              "      <th>hint_count</th>\n",
              "      <th>hint_total</th>\n",
              "      <th>overlap_time</th>\n",
              "      <th>template_id</th>\n",
              "      <th>answer_id</th>\n",
              "      <th>answer_text</th>\n",
              "      <th>first_action</th>\n",
              "      <th>bottom_hint</th>\n",
              "      <th>opportunity</th>\n",
              "      <th>opportunity_original</th>\n",
              "    </tr>\n",
              "  </thead>\n",
              "  <tbody>\n",
              "    <tr>\n",
              "      <th>0</th>\n",
              "      <td>1</td>\n",
              "      <td>33022537</td>\n",
              "      <td>277618</td>\n",
              "      <td>64525</td>\n",
              "      <td>33139</td>\n",
              "      <td>51424</td>\n",
              "      <td>1</td>\n",
              "      <td>1</td>\n",
              "      <td>1</td>\n",
              "      <td>32454</td>\n",
              "      <td>...</td>\n",
              "      <td>0</td>\n",
              "      <td>3</td>\n",
              "      <td>32454</td>\n",
              "      <td>30799</td>\n",
              "      <td>NaN</td>\n",
              "      <td>26</td>\n",
              "      <td>0</td>\n",
              "      <td>NaN</td>\n",
              "      <td>1</td>\n",
              "      <td>1.0</td>\n",
              "    </tr>\n",
              "    <tr>\n",
              "      <th>1</th>\n",
              "      <td>2</td>\n",
              "      <td>33022709</td>\n",
              "      <td>277618</td>\n",
              "      <td>64525</td>\n",
              "      <td>33150</td>\n",
              "      <td>51435</td>\n",
              "      <td>1</td>\n",
              "      <td>1</td>\n",
              "      <td>1</td>\n",
              "      <td>4922</td>\n",
              "      <td>...</td>\n",
              "      <td>0</td>\n",
              "      <td>3</td>\n",
              "      <td>4922</td>\n",
              "      <td>30799</td>\n",
              "      <td>NaN</td>\n",
              "      <td>55</td>\n",
              "      <td>0</td>\n",
              "      <td>NaN</td>\n",
              "      <td>2</td>\n",
              "      <td>2.0</td>\n",
              "    </tr>\n",
              "    <tr>\n",
              "      <th>2</th>\n",
              "      <td>3</td>\n",
              "      <td>35450204</td>\n",
              "      <td>220674</td>\n",
              "      <td>70363</td>\n",
              "      <td>33159</td>\n",
              "      <td>51444</td>\n",
              "      <td>1</td>\n",
              "      <td>0</td>\n",
              "      <td>2</td>\n",
              "      <td>25390</td>\n",
              "      <td>...</td>\n",
              "      <td>0</td>\n",
              "      <td>3</td>\n",
              "      <td>42000</td>\n",
              "      <td>30799</td>\n",
              "      <td>NaN</td>\n",
              "      <td>88</td>\n",
              "      <td>0</td>\n",
              "      <td>NaN</td>\n",
              "      <td>1</td>\n",
              "      <td>1.0</td>\n",
              "    </tr>\n",
              "    <tr>\n",
              "      <th>3</th>\n",
              "      <td>4</td>\n",
              "      <td>35450295</td>\n",
              "      <td>220674</td>\n",
              "      <td>70363</td>\n",
              "      <td>33110</td>\n",
              "      <td>51395</td>\n",
              "      <td>1</td>\n",
              "      <td>1</td>\n",
              "      <td>1</td>\n",
              "      <td>4859</td>\n",
              "      <td>...</td>\n",
              "      <td>0</td>\n",
              "      <td>3</td>\n",
              "      <td>4859</td>\n",
              "      <td>30059</td>\n",
              "      <td>NaN</td>\n",
              "      <td>41</td>\n",
              "      <td>0</td>\n",
              "      <td>NaN</td>\n",
              "      <td>2</td>\n",
              "      <td>2.0</td>\n",
              "    </tr>\n",
              "    <tr>\n",
              "      <th>4</th>\n",
              "      <td>5</td>\n",
              "      <td>35450311</td>\n",
              "      <td>220674</td>\n",
              "      <td>70363</td>\n",
              "      <td>33196</td>\n",
              "      <td>51481</td>\n",
              "      <td>1</td>\n",
              "      <td>0</td>\n",
              "      <td>14</td>\n",
              "      <td>19813</td>\n",
              "      <td>...</td>\n",
              "      <td>3</td>\n",
              "      <td>4</td>\n",
              "      <td>124564</td>\n",
              "      <td>30060</td>\n",
              "      <td>NaN</td>\n",
              "      <td>65</td>\n",
              "      <td>0</td>\n",
              "      <td>0.0</td>\n",
              "      <td>3</td>\n",
              "      <td>3.0</td>\n",
              "    </tr>\n",
              "  </tbody>\n",
              "</table>\n",
              "<p>5 rows × 31 columns</p>\n",
              "</div>\n",
              "      <button class=\"colab-df-convert\" onclick=\"convertToInteractive('df-5aa3e5d8-2a3a-429b-9451-c7d3c62aa8dd')\"\n",
              "              title=\"Convert this dataframe to an interactive table.\"\n",
              "              style=\"display:none;\">\n",
              "        \n",
              "  <svg xmlns=\"http://www.w3.org/2000/svg\" height=\"24px\"viewBox=\"0 0 24 24\"\n",
              "       width=\"24px\">\n",
              "    <path d=\"M0 0h24v24H0V0z\" fill=\"none\"/>\n",
              "    <path d=\"M18.56 5.44l.94 2.06.94-2.06 2.06-.94-2.06-.94-.94-2.06-.94 2.06-2.06.94zm-11 1L8.5 8.5l.94-2.06 2.06-.94-2.06-.94L8.5 2.5l-.94 2.06-2.06.94zm10 10l.94 2.06.94-2.06 2.06-.94-2.06-.94-.94-2.06-.94 2.06-2.06.94z\"/><path d=\"M17.41 7.96l-1.37-1.37c-.4-.4-.92-.59-1.43-.59-.52 0-1.04.2-1.43.59L10.3 9.45l-7.72 7.72c-.78.78-.78 2.05 0 2.83L4 21.41c.39.39.9.59 1.41.59.51 0 1.02-.2 1.41-.59l7.78-7.78 2.81-2.81c.8-.78.8-2.07 0-2.86zM5.41 20L4 18.59l7.72-7.72 1.47 1.35L5.41 20z\"/>\n",
              "  </svg>\n",
              "      </button>\n",
              "      \n",
              "  <style>\n",
              "    .colab-df-container {\n",
              "      display:flex;\n",
              "      flex-wrap:wrap;\n",
              "      gap: 12px;\n",
              "    }\n",
              "\n",
              "    .colab-df-convert {\n",
              "      background-color: #E8F0FE;\n",
              "      border: none;\n",
              "      border-radius: 50%;\n",
              "      cursor: pointer;\n",
              "      display: none;\n",
              "      fill: #1967D2;\n",
              "      height: 32px;\n",
              "      padding: 0 0 0 0;\n",
              "      width: 32px;\n",
              "    }\n",
              "\n",
              "    .colab-df-convert:hover {\n",
              "      background-color: #E2EBFA;\n",
              "      box-shadow: 0px 1px 2px rgba(60, 64, 67, 0.3), 0px 1px 3px 1px rgba(60, 64, 67, 0.15);\n",
              "      fill: #174EA6;\n",
              "    }\n",
              "\n",
              "    [theme=dark] .colab-df-convert {\n",
              "      background-color: #3B4455;\n",
              "      fill: #D2E3FC;\n",
              "    }\n",
              "\n",
              "    [theme=dark] .colab-df-convert:hover {\n",
              "      background-color: #434B5C;\n",
              "      box-shadow: 0px 1px 3px 1px rgba(0, 0, 0, 0.15);\n",
              "      filter: drop-shadow(0px 1px 2px rgba(0, 0, 0, 0.3));\n",
              "      fill: #FFFFFF;\n",
              "    }\n",
              "  </style>\n",
              "\n",
              "      <script>\n",
              "        const buttonEl =\n",
              "          document.querySelector('#df-5aa3e5d8-2a3a-429b-9451-c7d3c62aa8dd button.colab-df-convert');\n",
              "        buttonEl.style.display =\n",
              "          google.colab.kernel.accessAllowed ? 'block' : 'none';\n",
              "\n",
              "        async function convertToInteractive(key) {\n",
              "          const element = document.querySelector('#df-5aa3e5d8-2a3a-429b-9451-c7d3c62aa8dd');\n",
              "          const dataTable =\n",
              "            await google.colab.kernel.invokeFunction('convertToInteractive',\n",
              "                                                     [key], {});\n",
              "          if (!dataTable) return;\n",
              "\n",
              "          const docLinkHtml = 'Like what you see? Visit the ' +\n",
              "            '<a target=\"_blank\" href=https://colab.research.google.com/notebooks/data_table.ipynb>data table notebook</a>'\n",
              "            + ' to learn more about interactive tables.';\n",
              "          element.innerHTML = '';\n",
              "          dataTable['output_type'] = 'display_data';\n",
              "          await google.colab.output.renderOutput(dataTable, element);\n",
              "          const docLink = document.createElement('div');\n",
              "          docLink.innerHTML = docLinkHtml;\n",
              "          element.appendChild(docLink);\n",
              "        }\n",
              "      </script>\n",
              "    </div>\n",
              "  </div>\n",
              "  "
            ]
          },
          "metadata": {},
          "execution_count": 4
        }
      ]
    },
    {
      "cell_type": "code",
      "source": [
        "print(f'number of interactions: {len(df)}')\n",
        "print(f\"number of questions: {len(df['problem_id'].unique())}\")\n",
        "print(f\"number of students: {len(df['user_id'].unique())}\")"
      ],
      "metadata": {
        "colab": {
          "base_uri": "https://localhost:8080/"
        },
        "id": "T4oGndZU-2gs",
        "outputId": "d41d484e-9cb4-420c-90c7-85e836df50ff"
      },
      "execution_count": null,
      "outputs": [
        {
          "output_type": "stream",
          "name": "stdout",
          "text": [
            "number of interactions: 346860\n",
            "number of questions: 26688\n",
            "number of students: 4217\n"
          ]
        }
      ]
    },
    {
      "cell_type": "markdown",
      "source": [
        "Make sure, I use the same data as pyKT:\n",
        "\n",
        "\n",
        "https://pykt-toolkit.readthedocs.io/en/latest/datasets.html\n",
        "This dataset is made up of math exercises, collected from the free online tutoring ASSISTments platform in the school year 2009-2010. The dataset consists of **346,860 interactions, 4,217 students, and 26,688 questions** and is widely used and has been the standard benchmark for KT methods over the last decade."
      ],
      "metadata": {
        "id": "3krNqoAj_xaz"
      }
    },
    {
      "cell_type": "markdown",
      "source": [
        "# Pre-process, train, and eval - ASSIST2009"
      ],
      "metadata": {
        "id": "ol_MqM0umTHR"
      }
    },
    {
      "cell_type": "code",
      "source": [
        "!cd pykt-toolkit/examples/ ; python data_preprocess.py --dataset_name=assist2009"
      ],
      "metadata": {
        "colab": {
          "base_uri": "https://localhost:8080/"
        },
        "id": "lFu6RLLEmR-J",
        "outputId": "d063a7f5-58d6-45ed-ec66-681759eb9955"
      },
      "execution_count": null,
      "outputs": [
        {
          "output_type": "stream",
          "name": "stdout",
          "text": [
            "Namespace(dataset_name='assist2009', file_path='../data/peiyou/grade3_students_b_200.csv', min_seq_len=3, maxlen=200, kfold=5)\n",
            "Start preprocessing data: assist2009\n",
            "original interaction num: 346860, user num: 4217, question num: 26688, concept num: 125, avg(ins) per s: 82.2528, avg(c) per q: 1.2265, na: 8937\n",
            "after drop interaction num: 283105, user num: 4163, question num: 17751, concept num: 125, avg(ins) per s: 68.005, avg(c) per q: 1.2265, na: 0\n",
            "/usr/local/lib/python3.10/dist-packages/pykt/preprocess/assist2009_preprocess.py:25: FutureWarning: In a future version of pandas, a length 1 tuple will be returned when iterating over a groupby with a grouper equal to a list of length 1. Don't supply a list with a single grouper to avoid this warning.\n",
            "  for ui in ui_df:\n",
            "346860,4217,26688,125,82.2528,1.2265,8937\n",
            "283105,4163,17751,125,68.005,1.2265,0\n",
            "--------------------------------------------------\n",
            "rm: cannot remove '../data/assist2009/*.pkl': No such file or directory\n",
            "delete bad stu num of len: 311, delete interactions: 486, of r: 0, good num: 282619\n",
            "====================\n",
            "original total interactions: 282619, qs: 17737, cs: 125, seqnum: 3852\n",
            "df.columns: Index(['uid', 'is_repeat', 'questions', 'concepts', 'responses'], dtype='object')\n",
            "====================\n",
            "after extend multi, total interactions: 337424, qs: 17737, cs: 125, seqnum: 3852\n",
            "total num: 3852, train+valid num: 3082, test num: 770\n",
            "fold: 1, start: 0, end: 617, total num: 3082\n",
            "fold: 2, start: 617, end: 1234, total num: 3082\n",
            "fold: 3, start: 1234, end: 1850, total num: 3082\n",
            "fold: 4, start: 1850, end: 2466, total num: 3082\n",
            "fold: 5, start: 2466, end: 3082, total num: 3082\n",
            "train+valid original interactions num: 274614, select num: 0, qs: 17405, cs: 122, seqnum: 3082\n",
            "dropnum: 7\n",
            "train+valid sequences interactions num: 274607, select num: 274607, qs: 17405, cs: 122, seqnum: 3757\n",
            "dropnum: 2\n",
            "original test interactions num: 62810, select num: 0, qs: 13454, cs: 124, seqnum: 770\n",
            "test sequences interactions num: 62808, select num: 62808, qs: 13454, cs: 124, seqnum: 904\n",
            "====================\n",
            "test window interactions num: 3961618, select num: 62810, qs: 13454, cs: 124, seqnum: 20362\n",
            "test question interactions num: 1447806, select num: 61799, qs: 13454, cs: 124, seqnum: 18292\n",
            "test question window interactions num: 4679370, select num: 61882, qs: 13454, cs: 124, seqnum: 30610\n",
            "====================\n",
            "original,282619,3852,0\n",
            "extend multi,337424,3852,0\n",
            "original train+valid,274614,3082,0\n",
            "train+valid sequences,274607,3757,274607\n",
            "test original,62810,770,0\n",
            "test sequences,62808,904,62808\n",
            "test window,3961618,20362,62810\n",
            "test question,1447806,18292,61799\n",
            "test question window,4679370,30610,61882\n",
            "====================================================================================================\n",
            "delete bad stu num of len: 311, delete interactions: 486, of r: 0, good num: 282619\n",
            "====================\n",
            "original total interactions: 282619, qs: 17737, cs: 125, seqnum: 3852\n",
            "df.columns: Index(['questions', 'concepts', 'responses', 'uid'], dtype='object')\n",
            "total num: 3852, train+valid num: 3082, test num: 770\n",
            "fold: 1, start: 0, end: 617, total num: 3082\n",
            "fold: 2, start: 617, end: 1234, total num: 3082\n",
            "fold: 3, start: 1234, end: 1850, total num: 3082\n",
            "fold: 4, start: 1850, end: 2466, total num: 3082\n",
            "fold: 5, start: 2466, end: 3082, total num: 3082\n",
            "train+valid original interactions num: 229471, select num: 0, qs: 17405, cs: 122, seqnum: 3082\n",
            "dropnum: 12\n",
            "train+valid sequences interactions num: 229459, select num: 229459, qs: 17405, cs: 122, seqnum: 3580\n",
            "dropnum: 2\n",
            "original test interactions num: 53148, select num: 0, qs: 13454, cs: 124, seqnum: 770\n",
            "test sequences interactions num: 53146, select num: 53146, qs: 13452, cs: 124, seqnum: 874\n",
            "====================\n",
            "test window interactions num: 2879147, select num: 53148, qs: 13454, cs: 124, seqnum: 14971\n",
            "====================\n",
            "original,282619,3852,0\n",
            "original train+valid question level,229471,3082,0\n",
            "train+valid sequences question level,229459,3580,229459\n",
            "test original question level,53148,770,0\n",
            "test sequences question level,53146,874,53146\n",
            "test window question level,2879147,14971,53148\n"
          ]
        }
      ]
    },
    {
      "cell_type": "markdown",
      "source": [
        "# SAINT"
      ],
      "metadata": {
        "id": "fZ67b3zaprp2"
      }
    },
    {
      "cell_type": "code",
      "source": [
        "!cd pykt-toolkit/examples/ ; python3 wandb_saint_train.py --dataset_name=assist2009 --use_wandb=0 > saint_train.txt"
      ],
      "metadata": {
        "id": "yg6lX_axmYEk"
      },
      "execution_count": null,
      "outputs": []
    },
    {
      "cell_type": "code",
      "source": [
        "!cd pykt-toolkit/examples/ ; python3 wandb_predict.py --use_wandb=0 --save_dir='saved_model/assist2009_saint_qid_saved_model_42_0_0.2_256_0.001_8_4_0_1'"
      ],
      "metadata": {
        "colab": {
          "base_uri": "https://localhost:8080/"
        },
        "id": "Unw8mO-UmhRu",
        "outputId": "f5404034-069c-41d5-96f9-28061d02d050"
      },
      "execution_count": null,
      "outputs": [
        {
          "output_type": "stream",
          "name": "stdout",
          "text": [
            "Namespace(bz=256, save_dir='saved_model/assist2009_saint_qid_saved_model_42_0_0.2_256_0.001_8_4_0_1', fusion_type='early_fusion,late_fusion', use_wandb=0)\n",
            "model_name is saint\n",
            "Read data from processed file: ../data/assist2009/test_sequences.csv_-1.pkl\n",
            "file path: ../data/assist2009/test_sequences.csv, qlen: 904, clen: 904, rlen: 904\n",
            "Start preprocessing ../data/assist2009/test_window_sequences.csv fold: _-1...\n",
            "interaction_num: 62810\n",
            "file path: ../data/assist2009/test_window_sequences.csv, qlen: 20362, clen: 20362, rlen: 20362\n",
            "Start preprocessing ../data/assist2009/test_question_sequences.csv fold: _-1...\n",
            "interaction_num: 61799\n",
            "file path: ../data/assist2009/test_question_sequences.csv, qlen: 18292, clen: 18292, rlen: 18292\n",
            "Start preprocessing ../data/assist2009/test_question_window_sequences.csv fold: _-1...\n",
            "interaction_num: 61882\n",
            "file path: ../data/assist2009/test_question_window_sequences.csv, qlen: 30610, clen: 30610, rlen: 30610\n",
            "has test_question_file!\n",
            "Start predicting model: saint, embtype: qid, save_dir: saved_model/assist2009_saint_qid_saved_model_42_0_0.2_256_0.001_8_4_0_1, dataset_name: assist2009\n",
            "model_config: {'dropout': 0.2, 'emb_size': 256, 'num_attn_heads': 8, 'n_blocks': 4, 'seq_len': 200}\n",
            "data_config: {'dpath': '../data/assist2009', 'num_q': 17737, 'num_c': 125, 'input_type': ['questions', 'concepts'], 'max_concepts': 4, 'min_seq_len': 3, 'maxlen': 200, 'emb_path': '', 'train_valid_original_file': 'train_valid.csv', 'train_valid_file': 'train_valid_sequences.csv', 'folds': [0, 1, 2, 3, 4], 'test_original_file': 'test.csv', 'test_file': 'test_sequences.csv', 'test_window_file': 'test_window_sequences.csv', 'test_question_file': 'test_question_sequences.csv', 'test_question_window_file': 'test_question_window_sequences.csv', 'train_valid_original_file_quelevel': 'train_valid_quelevel.csv', 'train_valid_file_quelevel': 'train_valid_sequences_quelevel.csv', 'test_file_quelevel': 'test_sequences_quelevel.csv', 'test_window_file_quelevel': 'test_window_sequences_quelevel.csv', 'test_original_file_quelevel': 'test_quelevel.csv', 'dataset_name': 'assist2009'}\n",
            "num_q: 17737, num_c: 125\n",
            "ts.shape: (61904,), ps.shape: (61904,)\n",
            "testauc: 0.7547640816774455, testacc: 0.726140475575084\n",
            "ts.shape: (62040,), ps.shape: (62040,)\n",
            "testauc: 0.7547640816774455, testacc: 0.726140475575084, window_testauc: 0.753859794563112, window_testacc: 0.7266763378465506\n",
            "/usr/local/lib/python3.10/dist-packages/pykt/models/evaluate_model.py:221: UserWarning: Creating a tensor from a list of numpy.ndarrays is extremely slow. Please consider converting the list to a single numpy.ndarray with numpy.array() before converting to a tensor. (Triggered internally at ../torch/csrc/utils/tensor_new.cpp:245.)\n",
            "  curhs = [torch.tensor(curh).float().to(device) for curh in curhs]\n",
            "{'testauc': 0.7547640816774455, 'testacc': 0.726140475575084, 'window_testauc': 0.753859794563112, 'window_testacc': 0.7266763378465506, 'oriaucconcepts': 0.687210909994325, 'oriauclate_mean': 0.6965301060613928, 'oriauclate_vote': 0.6965408293681106, 'oriauclate_all': 0.6964854816286732, 'oriaucearly_preds': 0.6965153498951582, 'oriaccconcepts': 0.6893512217253225, 'oriacclate_mean': 0.6943774639262066, 'oriacclate_vote': 0.6945496995445325, 'oriacclate_all': 0.6941095418532552, 'oriaccearly_preds': 0.6943391893443565, 'windowaucconcepts': 0.6851874278775225, 'windowauclate_mean': 0.69399927653945, 'windowauclate_vote': 0.694000922205801, 'windowauclate_all': 0.6939858162381735, 'windowaucearly_preds': 0.6939892681044018, 'windowaccconcepts': 0.6833327946737339, 'windowacclate_mean': 0.688113330024056, 'windowacclate_vote': 0.6881706059796098, 'windowacclate_all': 0.6878842262018404, 'windowaccearly_preds': 0.6880751460536867}\n"
          ]
        }
      ]
    },
    {
      "cell_type": "markdown",
      "source": [
        "# DKVMN"
      ],
      "metadata": {
        "id": "fM5vbzi7pnPd"
      }
    },
    {
      "cell_type": "code",
      "source": [
        "!cd pykt-toolkit/examples/ ; python3 wandb_dkvmn_train.py --dataset_name=assist2009 --use_wandb=0 > dkvmn_train.txt"
      ],
      "metadata": {
        "id": "dEMFisncpid9"
      },
      "execution_count": null,
      "outputs": []
    },
    {
      "cell_type": "code",
      "source": [
        "!cd pykt-toolkit/examples/ ; python3 wandb_predict.py --use_wandb=0 --save_dir='saved_model/assist2009_dkvmn_qid_saved_model_42_0_0.2_200_0.001_50_0_1'"
      ],
      "metadata": {
        "colab": {
          "base_uri": "https://localhost:8080/"
        },
        "id": "0Yo0RgTXpk4l",
        "outputId": "b17c5be4-6f48-4f4a-bbd1-ab838fb673e1"
      },
      "execution_count": null,
      "outputs": [
        {
          "output_type": "stream",
          "name": "stdout",
          "text": [
            "Namespace(bz=256, save_dir='saved_model/assist2009_dkvmn_qid_saved_model_42_0_0.2_200_0.001_50_0_1', fusion_type='early_fusion,late_fusion', use_wandb=0)\n",
            "model_name is dkvmn\n",
            "Read data from processed file: ../data/assist2009/test_sequences.csv_-1.pkl\n",
            "file path: ../data/assist2009/test_sequences.csv, qlen: 904, clen: 904, rlen: 904\n",
            "Read data from processed file: ../data/assist2009/test_window_sequences.csv_-1.pkl\n",
            "file path: ../data/assist2009/test_window_sequences.csv, qlen: 20362, clen: 20362, rlen: 20362\n",
            "Read data from processed file: ../data/assist2009/test_question_sequences.csv_-1_qtest.pkl\n",
            "file path: ../data/assist2009/test_question_sequences.csv, qlen: 18292, clen: 18292, rlen: 18292\n",
            "Read data from processed file: ../data/assist2009/test_question_window_sequences.csv_-1_qtest.pkl\n",
            "file path: ../data/assist2009/test_question_window_sequences.csv, qlen: 30610, clen: 30610, rlen: 30610\n",
            "has test_question_file!\n",
            "Start predicting model: dkvmn, embtype: qid, save_dir: saved_model/assist2009_dkvmn_qid_saved_model_42_0_0.2_200_0.001_50_0_1, dataset_name: assist2009\n",
            "model_config: {'dropout': 0.2, 'dim_s': 200, 'size_m': 50}\n",
            "data_config: {'dpath': '../data/assist2009', 'num_q': 17737, 'num_c': 125, 'input_type': ['questions', 'concepts'], 'max_concepts': 4, 'min_seq_len': 3, 'maxlen': 200, 'emb_path': '', 'train_valid_original_file': 'train_valid.csv', 'train_valid_file': 'train_valid_sequences.csv', 'folds': [0, 1, 2, 3, 4], 'test_original_file': 'test.csv', 'test_file': 'test_sequences.csv', 'test_window_file': 'test_window_sequences.csv', 'test_question_file': 'test_question_sequences.csv', 'test_question_window_file': 'test_question_window_sequences.csv', 'train_valid_original_file_quelevel': 'train_valid_quelevel.csv', 'train_valid_file_quelevel': 'train_valid_sequences_quelevel.csv', 'test_file_quelevel': 'test_sequences_quelevel.csv', 'test_window_file_quelevel': 'test_window_sequences_quelevel.csv', 'test_original_file_quelevel': 'test_quelevel.csv', 'dataset_name': 'assist2009'}\n",
            "ts.shape: (61904,), ps.shape: (61904,)\n",
            "testauc: 0.8184869906075214, testacc: 0.7628424657534246\n",
            "ts.shape: (62040,), ps.shape: (62040,)\n",
            "testauc: 0.8184869906075214, testacc: 0.7628424657534246, window_testauc: 0.8203972962159654, window_testacc: 0.7640715667311412\n",
            "/usr/local/lib/python3.10/dist-packages/pykt/models/evaluate_model.py:221: UserWarning: Creating a tensor from a list of numpy.ndarrays is extremely slow. Please consider converting the list to a single numpy.ndarray with numpy.array() before converting to a tensor. (Triggered internally at ../torch/csrc/utils/tensor_new.cpp:245.)\n",
            "  curhs = [torch.tensor(curh).float().to(device) for curh in curhs]\n",
            "{'testauc': 0.8184869906075214, 'testacc': 0.7628424657534246, 'window_testauc': 0.8203972962159654, 'window_testacc': 0.7640715667311412, 'oriaucconcepts': 0.7301059923521863, 'oriauclate_mean': 0.7439521737882662, 'oriauclate_vote': 0.7435646172598864, 'oriauclate_all': 0.7417577873504289, 'oriaucearly_preds': 0.7420670773256431, 'oriaccconcepts': 0.7117117117117117, 'oriacclate_mean': 0.7175718605274237, 'oriacclate_vote': 0.7189688827649557, 'oriacclate_all': 0.7147586787614345, 'oriaccearly_preds': 0.717610135109274, 'windowaucconcepts': 0.7329690870592073, 'windowauclate_mean': 0.7465307550288748, 'windowauclate_vote': 0.7461148949047893, 'windowauclate_all': 0.7444342346175825, 'windowaucearly_preds': 0.7446280602672277, 'windowaccconcepts': 0.713729355870851, 'windowacclate_mean': 0.7187559662453702, 'windowacclate_vote': 0.7202069571194013, 'windowacclate_all': 0.7165412959639543, 'windowaccearly_preds': 0.7187368742601856}\n"
          ]
        }
      ]
    }
  ]
}